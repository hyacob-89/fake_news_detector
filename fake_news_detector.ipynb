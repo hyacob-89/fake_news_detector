{
  "nbformat": 4,
  "nbformat_minor": 0,
  "metadata": {
    "colab": {
      "name": "fake_news_detector.ipynb",
      "provenance": [],
      "collapsed_sections": [],
      "include_colab_link": true
    },
    "kernelspec": {
      "name": "python3",
      "display_name": "Python 3"
    }
  },
  "cells": [
    {
      "cell_type": "markdown",
      "metadata": {
        "id": "view-in-github",
        "colab_type": "text"
      },
      "source": [
        "<a href=\"https://colab.research.google.com/github/hyacob-89/fake_news_detector/blob/master/fake_news_detector.ipynb\" target=\"_parent\"><img src=\"https://colab.research.google.com/assets/colab-badge.svg\" alt=\"Open In Colab\"/></a>"
      ]
    },
    {
      "cell_type": "markdown",
      "metadata": {
        "id": "43WxoXuPim_p",
        "colab_type": "text"
      },
      "source": [
        "## <u>__Dependencies__<u/>"
      ]
    },
    {
      "cell_type": "code",
      "metadata": {
        "id": "Dnelb3e8KjSn",
        "colab_type": "code",
        "colab": {}
      },
      "source": [
        "# Install Java, Spark, and Findspark\n",
        "!apt-get install openjdk-8-jdk-headless -qq > /dev/null\n",
        "!wget -q http://www-us.apache.org/dist/spark/spark-2.4.5/spark-2.4.5-bin-hadoop2.7.tgz\n",
        "!tar xf spark-2.4.5-bin-hadoop2.7.tgz\n",
        "!pip install -q findspark\n",
        "\n",
        "# Set Environment Variables\n",
        "import os\n",
        "os.environ[\"JAVA_HOME\"] = \"/usr/lib/jvm/java-8-openjdk-amd64\"\n",
        "os.environ[\"SPARK_HOME\"] = \"/content/spark-2.4.5-bin-hadoop2.7\"\n",
        "\n",
        "# Start a SparkSession\n",
        "import findspark\n",
        "findspark.init()\n"
      ],
      "execution_count": 0,
      "outputs": []
    },
    {
      "cell_type": "code",
      "metadata": {
        "id": "w-O8f9I6BB2T",
        "colab_type": "code",
        "colab": {}
      },
      "source": [
        ""
      ],
      "execution_count": 0,
      "outputs": []
    },
    {
      "cell_type": "code",
      "metadata": {
        "id": "bnfc3TVPWgux",
        "colab_type": "code",
        "outputId": "bf459754-7f42-44ac-fac8-43993556692a",
        "colab": {
          "base_uri": "https://localhost:8080/",
          "height": 105
        }
      },
      "source": [
        "# Basic libraries\n",
        "import numpy as np\n",
        "import pandas as pd\n",
        "\n",
        "# Data Visualization\n",
        "import matplotlib.pyplot as plt\n",
        "import seaborn as sns\n",
        "%config InlineBackend.figure_format = 'retina'\n",
        "%matplotlib inline\n",
        "\n",
        "# Natural Language Processing\n",
        "from sklearn.feature_extraction import stop_words\n",
        "from sklearn.feature_extraction.text import CountVectorizer, TfidfVectorizer\n",
        "\n",
        "# Modeling\n",
        "from sklearn.linear_model import LogisticRegression\n",
        "from sklearn.model_selection import train_test_split, GridSearchCV\n",
        "from sklearn.pipeline import Pipeline\n",
        "from sklearn.naive_bayes import MultinomialNB\n",
        "from sklearn import metrics\n",
        "from sklearn.metrics import accuracy_score, recall_score, precision_score, confusion_matrix"
      ],
      "execution_count": 0,
      "outputs": [
        {
          "output_type": "stream",
          "text": [
            "/usr/local/lib/python3.6/dist-packages/statsmodels/tools/_testing.py:19: FutureWarning: pandas.util.testing is deprecated. Use the functions in the public API at pandas.testing instead.\n",
            "  import pandas.util.testing as tm\n",
            "/usr/local/lib/python3.6/dist-packages/sklearn/utils/deprecation.py:144: FutureWarning: The sklearn.feature_extraction.stop_words module is  deprecated in version 0.22 and will be removed in version 0.24. The corresponding classes / functions should instead be imported from sklearn.feature_extraction.text. Anything that cannot be imported from sklearn.feature_extraction.text is now part of the private API.\n",
            "  warnings.warn(message, FutureWarning)\n"
          ],
          "name": "stderr"
        }
      ]
    },
    {
      "cell_type": "code",
      "metadata": {
        "id": "M3sT2Y-aQtsW",
        "colab_type": "code",
        "colab": {}
      },
      "source": [
        "from pyspark.sql import SparkSession\n",
        "spark = SparkSession.builder.appName(\"CloudETL\").config(\"spark.driver.extraClassPath\",\"/content/postgresql-42.2.9.jar\").getOrCreate()"
      ],
      "execution_count": 0,
      "outputs": []
    },
    {
      "cell_type": "code",
      "metadata": {
        "id": "h1xy66v1bgSQ",
        "colab_type": "code",
        "outputId": "179b9442-1ad7-4211-e053-6eac4d9eef2d",
        "colab": {
          "base_uri": "https://localhost:8080/",
          "height": 204
        }
      },
      "source": [
        " !wget https://jdbc.postgresql.org/download/postgresql-42.2.9.jar"
      ],
      "execution_count": 0,
      "outputs": [
        {
          "output_type": "stream",
          "text": [
            "--2020-05-15 01:27:37--  https://jdbc.postgresql.org/download/postgresql-42.2.9.jar\n",
            "Resolving jdbc.postgresql.org (jdbc.postgresql.org)... 72.32.157.228, 2001:4800:3e1:1::228\n",
            "Connecting to jdbc.postgresql.org (jdbc.postgresql.org)|72.32.157.228|:443... connected.\n",
            "HTTP request sent, awaiting response... 200 OK\n",
            "Length: 914037 (893K) [application/java-archive]\n",
            "Saving to: ‘postgresql-42.2.9.jar’\n",
            "\n",
            "postgresql-42.2.9.j 100%[===================>] 892.61K  4.74MB/s    in 0.2s    \n",
            "\n",
            "2020-05-15 01:27:37 (4.74 MB/s) - ‘postgresql-42.2.9.jar’ saved [914037/914037]\n",
            "\n"
          ],
          "name": "stdout"
        }
      ]
    },
    {
      "cell_type": "markdown",
      "metadata": {
        "id": "B4IG2FhGizUF",
        "colab_type": "text"
      },
      "source": [
        "## <u>__Extract__<u/>"
      ]
    },
    {
      "cell_type": "code",
      "metadata": {
        "id": "Col8lkteQxXb",
        "colab_type": "code",
        "outputId": "992c84f8-f3ae-4e11-e0ba-a6daa84b1812",
        "colab": {
          "base_uri": "https://localhost:8080/",
          "height": 459
        }
      },
      "source": [
        "from pyspark import SparkFiles\n",
        "# Load in fake.csv file from S3 into a DataFrame\n",
        "fake_news_url = \"https://news-detector-project.s3.us-east-2.amazonaws.com/FakeNews.csv\"\n",
        "spark.sparkContext.addFile(fake_news_url)\n",
        "\n",
        "fake = spark.read.option('header', 'true').csv(SparkFiles.get(\"FakeNews.csv\"), inferSchema=True, sep=',', timestampFormat=\"mm/dd/yy\")\n",
        "fake.show()"
      ],
      "execution_count": 0,
      "outputs": [
        {
          "output_type": "stream",
          "text": [
            "+--------------------+--------------------+--------------+-----------+\n",
            "|               title|         articletext|articlesubject|articledate|\n",
            "+--------------------+--------------------+--------------+-----------+\n",
            "| Donald Trump Sen...|Donald Trump just...|          News|  31-Dec-17|\n",
            "| Drunk Bragging T...|House Intelligenc...|          News|  31-Dec-17|\n",
            "| Sheriff David Cl...|On Friday, it was...|          News|  30-Dec-17|\n",
            "| Trump Is So Obse...|On Christmas day,...|          News|  29-Dec-17|\n",
            "| Pope Francis Jus...|Pope Francis used...|          News|  25-Dec-17|\n",
            "| Racist Alabama C...|The number of cas...|          News|  25-Dec-17|\n",
            "| Fresh Off The Go...|Donald Trump spen...|          News|  23-Dec-17|\n",
            "| Trump Said Some ...|In the wake of ye...|          News|  23-Dec-17|\n",
            "| Former CIA Direc...|Many people have ...|          News|  22-Dec-17|\n",
            "| WATCH: Brand-New...|Just when you mig...|          News|  21-Dec-17|\n",
            "| Papa John’s Foun...|A centerpiece of ...|          News|  21-Dec-17|\n",
            "| WATCH: Paul Ryan...|Republicans are w...|          News|  21-Dec-17|\n",
            "| Bad News For Tru...|Republicans have ...|          News|  21-Dec-17|\n",
            "| WATCH: Lindsey G...|The media has bee...|          News|  20-Dec-17|\n",
            "| Heiress To Disne...|Abigail Disney is...|          News|  20-Dec-17|\n",
            "| Tone Deaf Trump:...|Donald Trump just...|          News|  20-Dec-17|\n",
            "| The Internet Bru...|A new animatronic...|          News|  19-Dec-17|\n",
            "| Mueller Spokesma...|Trump supporters ...|          News|  17-Dec-17|\n",
            "| SNL Hilariously ...|Right now, the wh...|          News|  17-Dec-17|\n",
            "| Republican Senat...|Senate Majority W...|          News|  16-Dec-17|\n",
            "+--------------------+--------------------+--------------+-----------+\n",
            "only showing top 20 rows\n",
            "\n"
          ],
          "name": "stdout"
        }
      ]
    },
    {
      "cell_type": "code",
      "metadata": {
        "id": "YaotfmOQcnnz",
        "colab_type": "code",
        "colab": {}
      },
      "source": [
        "from pyspark import SparkFiles\n",
        "# Load in CSV files from S3 into a DataFrame\n",
        "true_news_url = \"https://news-detector-project.s3.us-east-2.amazonaws.com/TrueNews.csv\"\n",
        "spark.sparkContext.addFile(true_news_url)\n",
        "\n",
        "true = spark.read.option('header', 'true').csv(SparkFiles.get(\"TrueNews.csv\"), inferSchema=True, sep=',', timestampFormat=\"mm/dd/yy\")"
      ],
      "execution_count": 0,
      "outputs": []
    },
    {
      "cell_type": "code",
      "metadata": {
        "id": "XuNIx4QLRKvJ",
        "colab_type": "code",
        "outputId": "d21f26a2-2ef0-4fc2-d3f2-d6ad53a6eb8b",
        "colab": {
          "base_uri": "https://localhost:8080/",
          "height": 459
        }
      },
      "source": [
        "true.show(20)"
      ],
      "execution_count": 0,
      "outputs": [
        {
          "output_type": "stream",
          "text": [
            "+--------------------+--------------------+--------------------+------------+\n",
            "|               title|         articletext|      articlesubject| articledate|\n",
            "+--------------------+--------------------+--------------------+------------+\n",
            "|As U.S. budget fi...|WASHINGTON (Reute...|        politicsNews|   31-Dec-17|\n",
            "|U.S. military to ...|WASHINGTON (Reute...|        politicsNews|   29-Dec-17|\n",
            "|Senior U.S. Repub...|WASHINGTON (Reute...|        politicsNews|   31-Dec-17|\n",
            "|FBI Russia probe ...|WASHINGTON (Reute...|        politicsNews|   30-Dec-17|\n",
            "|Trump wants Posta...|SEATTLE/WASHINGTO...|        politicsNews|   29-Dec-17|\n",
            "|White House, Cong...|WEST PALM BEACH, ...|        politicsNews|   29-Dec-17|\n",
            "|Trump says Russia...|WEST PALM BEACH, ...|        politicsNews|   29-Dec-17|\n",
            "|Factbox: Trump on...|The following sta...|        politicsNews|   29-Dec-17|\n",
            "|Trump on Twitter ...|The following sta...|        politicsNews|   29-Dec-17|\n",
            "|Alabama official ...|WASHINGTON (Reute...|        politicsNews|   28-Dec-17|\n",
            "|Jones certified U...|(Reuters) - Alaba...|        politicsNews|   28-Dec-17|\n",
            "|New York governor...|NEW YORK/WASHINGT...|        politicsNews|   28-Dec-17|\n",
            "|Factbox: Trump on...|The following sta...|        politicsNews|   28-Dec-17|\n",
            "|Trump on Twitter ...|\"The following st...| Associates Up 83...|politicsNews|\n",
            "|Man says he deliv...| (In Dec. 25 stor...|        politicsNews|   25-Dec-17|\n",
            "|Virginia official...|(Reuters) - A lot...|        politicsNews|   27-Dec-17|\n",
            "|U.S. lawmakers qu...|WASHINGTON (Reute...|        politicsNews|   27-Dec-17|\n",
            "|Trump on Twitter ...|The following sta...|        politicsNews|   26-Dec-17|\n",
            "|U.S. appeals cour...|(Reuters) - A U.S...|        politicsNews|   26-Dec-17|\n",
            "|Treasury Secretar...|(Reuters) - A gif...|        politicsNews|   24-Dec-17|\n",
            "+--------------------+--------------------+--------------------+------------+\n",
            "only showing top 20 rows\n",
            "\n"
          ],
          "name": "stdout"
        }
      ]
    },
    {
      "cell_type": "markdown",
      "metadata": {
        "id": "NeESSmLShCyF",
        "colab_type": "text"
      },
      "source": [
        "## <u>__Transform__<u/>"
      ]
    },
    {
      "cell_type": "code",
      "metadata": {
        "id": "rMwoyd2ghvQM",
        "colab_type": "code",
        "outputId": "81829a8f-3fc2-4aba-b57d-092af06ba37a",
        "colab": {
          "base_uri": "https://localhost:8080/",
          "height": 204
        }
      },
      "source": [
        "import pandas as pd\n",
        "fake_df = fake.toPandas() \n",
        "fake_df.head()"
      ],
      "execution_count": 0,
      "outputs": [
        {
          "output_type": "execute_result",
          "data": {
            "text/html": [
              "<div>\n",
              "<style scoped>\n",
              "    .dataframe tbody tr th:only-of-type {\n",
              "        vertical-align: middle;\n",
              "    }\n",
              "\n",
              "    .dataframe tbody tr th {\n",
              "        vertical-align: top;\n",
              "    }\n",
              "\n",
              "    .dataframe thead th {\n",
              "        text-align: right;\n",
              "    }\n",
              "</style>\n",
              "<table border=\"1\" class=\"dataframe\">\n",
              "  <thead>\n",
              "    <tr style=\"text-align: right;\">\n",
              "      <th></th>\n",
              "      <th>title</th>\n",
              "      <th>articletext</th>\n",
              "      <th>articlesubject</th>\n",
              "      <th>articledate</th>\n",
              "    </tr>\n",
              "  </thead>\n",
              "  <tbody>\n",
              "    <tr>\n",
              "      <th>0</th>\n",
              "      <td>Donald Trump Sends Out Embarrassing New Year’...</td>\n",
              "      <td>Donald Trump just couldn t wish all Americans ...</td>\n",
              "      <td>News</td>\n",
              "      <td>31-Dec-17</td>\n",
              "    </tr>\n",
              "    <tr>\n",
              "      <th>1</th>\n",
              "      <td>Drunk Bragging Trump Staffer Started Russian ...</td>\n",
              "      <td>House Intelligence Committee Chairman Devin Nu...</td>\n",
              "      <td>News</td>\n",
              "      <td>31-Dec-17</td>\n",
              "    </tr>\n",
              "    <tr>\n",
              "      <th>2</th>\n",
              "      <td>Sheriff David Clarke Becomes An Internet Joke...</td>\n",
              "      <td>On Friday, it was revealed that former Milwauk...</td>\n",
              "      <td>News</td>\n",
              "      <td>30-Dec-17</td>\n",
              "    </tr>\n",
              "    <tr>\n",
              "      <th>3</th>\n",
              "      <td>Trump Is So Obsessed He Even Has Obama’s Name...</td>\n",
              "      <td>On Christmas day, Donald Trump announced that ...</td>\n",
              "      <td>News</td>\n",
              "      <td>29-Dec-17</td>\n",
              "    </tr>\n",
              "    <tr>\n",
              "      <th>4</th>\n",
              "      <td>Pope Francis Just Called Out Donald Trump Dur...</td>\n",
              "      <td>Pope Francis used his annual Christmas Day mes...</td>\n",
              "      <td>News</td>\n",
              "      <td>25-Dec-17</td>\n",
              "    </tr>\n",
              "  </tbody>\n",
              "</table>\n",
              "</div>"
            ],
            "text/plain": [
              "                                               title  ... articledate\n",
              "0   Donald Trump Sends Out Embarrassing New Year’...  ...   31-Dec-17\n",
              "1   Drunk Bragging Trump Staffer Started Russian ...  ...   31-Dec-17\n",
              "2   Sheriff David Clarke Becomes An Internet Joke...  ...   30-Dec-17\n",
              "3   Trump Is So Obsessed He Even Has Obama’s Name...  ...   29-Dec-17\n",
              "4   Pope Francis Just Called Out Donald Trump Dur...  ...   25-Dec-17\n",
              "\n",
              "[5 rows x 4 columns]"
            ]
          },
          "metadata": {
            "tags": []
          },
          "execution_count": 8
        }
      ]
    },
    {
      "cell_type": "code",
      "metadata": {
        "id": "LcU09a63hzOB",
        "colab_type": "code",
        "outputId": "4798ce41-bea7-4b02-8143-c612461370ae",
        "colab": {
          "base_uri": "https://localhost:8080/",
          "height": 669
        }
      },
      "source": [
        "true_df = true.toPandas() \n",
        "true_df.head(20)"
      ],
      "execution_count": 0,
      "outputs": [
        {
          "output_type": "execute_result",
          "data": {
            "text/html": [
              "<div>\n",
              "<style scoped>\n",
              "    .dataframe tbody tr th:only-of-type {\n",
              "        vertical-align: middle;\n",
              "    }\n",
              "\n",
              "    .dataframe tbody tr th {\n",
              "        vertical-align: top;\n",
              "    }\n",
              "\n",
              "    .dataframe thead th {\n",
              "        text-align: right;\n",
              "    }\n",
              "</style>\n",
              "<table border=\"1\" class=\"dataframe\">\n",
              "  <thead>\n",
              "    <tr style=\"text-align: right;\">\n",
              "      <th></th>\n",
              "      <th>title</th>\n",
              "      <th>articletext</th>\n",
              "      <th>articlesubject</th>\n",
              "      <th>articledate</th>\n",
              "    </tr>\n",
              "  </thead>\n",
              "  <tbody>\n",
              "    <tr>\n",
              "      <th>0</th>\n",
              "      <td>As U.S. budget fight looms, Republicans flip t...</td>\n",
              "      <td>WASHINGTON (Reuters) - The head of a conservat...</td>\n",
              "      <td>politicsNews</td>\n",
              "      <td>31-Dec-17</td>\n",
              "    </tr>\n",
              "    <tr>\n",
              "      <th>1</th>\n",
              "      <td>U.S. military to accept transgender recruits o...</td>\n",
              "      <td>WASHINGTON (Reuters) - Transgender people will...</td>\n",
              "      <td>politicsNews</td>\n",
              "      <td>29-Dec-17</td>\n",
              "    </tr>\n",
              "    <tr>\n",
              "      <th>2</th>\n",
              "      <td>Senior U.S. Republican senator: 'Let Mr. Muell...</td>\n",
              "      <td>WASHINGTON (Reuters) - The special counsel inv...</td>\n",
              "      <td>politicsNews</td>\n",
              "      <td>31-Dec-17</td>\n",
              "    </tr>\n",
              "    <tr>\n",
              "      <th>3</th>\n",
              "      <td>FBI Russia probe helped by Australian diplomat...</td>\n",
              "      <td>WASHINGTON (Reuters) - Trump campaign adviser ...</td>\n",
              "      <td>politicsNews</td>\n",
              "      <td>30-Dec-17</td>\n",
              "    </tr>\n",
              "    <tr>\n",
              "      <th>4</th>\n",
              "      <td>Trump wants Postal Service to charge 'much mor...</td>\n",
              "      <td>SEATTLE/WASHINGTON (Reuters) - President Donal...</td>\n",
              "      <td>politicsNews</td>\n",
              "      <td>29-Dec-17</td>\n",
              "    </tr>\n",
              "    <tr>\n",
              "      <th>5</th>\n",
              "      <td>White House, Congress prepare for talks on spe...</td>\n",
              "      <td>WEST PALM BEACH, Fla./WASHINGTON (Reuters) - T...</td>\n",
              "      <td>politicsNews</td>\n",
              "      <td>29-Dec-17</td>\n",
              "    </tr>\n",
              "    <tr>\n",
              "      <th>6</th>\n",
              "      <td>Trump says Russia probe will be fair, but time...</td>\n",
              "      <td>WEST PALM BEACH, Fla (Reuters) - President Don...</td>\n",
              "      <td>politicsNews</td>\n",
              "      <td>29-Dec-17</td>\n",
              "    </tr>\n",
              "    <tr>\n",
              "      <th>7</th>\n",
              "      <td>Factbox: Trump on Twitter (Dec 29) - Approval ...</td>\n",
              "      <td>The following statements were posted to the ve...</td>\n",
              "      <td>politicsNews</td>\n",
              "      <td>29-Dec-17</td>\n",
              "    </tr>\n",
              "    <tr>\n",
              "      <th>8</th>\n",
              "      <td>Trump on Twitter (Dec 28) - Global Warming</td>\n",
              "      <td>The following statements were posted to the ve...</td>\n",
              "      <td>politicsNews</td>\n",
              "      <td>29-Dec-17</td>\n",
              "    </tr>\n",
              "    <tr>\n",
              "      <th>9</th>\n",
              "      <td>Alabama official to certify Senator-elect Jone...</td>\n",
              "      <td>WASHINGTON (Reuters) - Alabama Secretary of St...</td>\n",
              "      <td>politicsNews</td>\n",
              "      <td>28-Dec-17</td>\n",
              "    </tr>\n",
              "    <tr>\n",
              "      <th>10</th>\n",
              "      <td>Jones certified U.S. Senate winner despite Moo...</td>\n",
              "      <td>(Reuters) - Alabama officials on Thursday cert...</td>\n",
              "      <td>politicsNews</td>\n",
              "      <td>28-Dec-17</td>\n",
              "    </tr>\n",
              "    <tr>\n",
              "      <th>11</th>\n",
              "      <td>New York governor questions the constitutional...</td>\n",
              "      <td>NEW YORK/WASHINGTON (Reuters) - The new U.S. t...</td>\n",
              "      <td>politicsNews</td>\n",
              "      <td>28-Dec-17</td>\n",
              "    </tr>\n",
              "    <tr>\n",
              "      <th>12</th>\n",
              "      <td>Factbox: Trump on Twitter (Dec 28) - Vanity Fa...</td>\n",
              "      <td>The following statements were posted to the ve...</td>\n",
              "      <td>politicsNews</td>\n",
              "      <td>28-Dec-17</td>\n",
              "    </tr>\n",
              "    <tr>\n",
              "      <th>13</th>\n",
              "      <td>Trump on Twitter (Dec 27) - Trump, Iraq, Syria</td>\n",
              "      <td>\"The following statements were posted to the v...</td>\n",
              "      <td>Associates Up 83% Under Trump\"\" bit.ly/2liRH3...</td>\n",
              "      <td>politicsNews</td>\n",
              "    </tr>\n",
              "    <tr>\n",
              "      <th>14</th>\n",
              "      <td>Man says he delivered manure to Mnuchin to pro...</td>\n",
              "      <td>(In Dec. 25 story, in second paragraph, corre...</td>\n",
              "      <td>politicsNews</td>\n",
              "      <td>25-Dec-17</td>\n",
              "    </tr>\n",
              "    <tr>\n",
              "      <th>15</th>\n",
              "      <td>Virginia officials postpone lottery drawing to...</td>\n",
              "      <td>(Reuters) - A lottery drawing to settle a tied...</td>\n",
              "      <td>politicsNews</td>\n",
              "      <td>27-Dec-17</td>\n",
              "    </tr>\n",
              "    <tr>\n",
              "      <th>16</th>\n",
              "      <td>U.S. lawmakers question businessman at 2016 Tr...</td>\n",
              "      <td>WASHINGTON (Reuters) - A Georgian-American bus...</td>\n",
              "      <td>politicsNews</td>\n",
              "      <td>27-Dec-17</td>\n",
              "    </tr>\n",
              "    <tr>\n",
              "      <th>17</th>\n",
              "      <td>Trump on Twitter (Dec 26) - Hillary Clinton, T...</td>\n",
              "      <td>The following statements were posted to the ve...</td>\n",
              "      <td>politicsNews</td>\n",
              "      <td>26-Dec-17</td>\n",
              "    </tr>\n",
              "    <tr>\n",
              "      <th>18</th>\n",
              "      <td>U.S. appeals court rejects challenge to Trump ...</td>\n",
              "      <td>(Reuters) - A U.S. appeals court in Washington...</td>\n",
              "      <td>politicsNews</td>\n",
              "      <td>26-Dec-17</td>\n",
              "    </tr>\n",
              "    <tr>\n",
              "      <th>19</th>\n",
              "      <td>Treasury Secretary Mnuchin was sent gift-wrapp...</td>\n",
              "      <td>(Reuters) - A gift-wrapped package addressed t...</td>\n",
              "      <td>politicsNews</td>\n",
              "      <td>24-Dec-17</td>\n",
              "    </tr>\n",
              "  </tbody>\n",
              "</table>\n",
              "</div>"
            ],
            "text/plain": [
              "                                                title  ...   articledate\n",
              "0   As U.S. budget fight looms, Republicans flip t...  ...     31-Dec-17\n",
              "1   U.S. military to accept transgender recruits o...  ...     29-Dec-17\n",
              "2   Senior U.S. Republican senator: 'Let Mr. Muell...  ...     31-Dec-17\n",
              "3   FBI Russia probe helped by Australian diplomat...  ...     30-Dec-17\n",
              "4   Trump wants Postal Service to charge 'much mor...  ...     29-Dec-17\n",
              "5   White House, Congress prepare for talks on spe...  ...     29-Dec-17\n",
              "6   Trump says Russia probe will be fair, but time...  ...     29-Dec-17\n",
              "7   Factbox: Trump on Twitter (Dec 29) - Approval ...  ...     29-Dec-17\n",
              "8          Trump on Twitter (Dec 28) - Global Warming  ...     29-Dec-17\n",
              "9   Alabama official to certify Senator-elect Jone...  ...     28-Dec-17\n",
              "10  Jones certified U.S. Senate winner despite Moo...  ...     28-Dec-17\n",
              "11  New York governor questions the constitutional...  ...     28-Dec-17\n",
              "12  Factbox: Trump on Twitter (Dec 28) - Vanity Fa...  ...     28-Dec-17\n",
              "13     Trump on Twitter (Dec 27) - Trump, Iraq, Syria  ...  politicsNews\n",
              "14  Man says he delivered manure to Mnuchin to pro...  ...     25-Dec-17\n",
              "15  Virginia officials postpone lottery drawing to...  ...     27-Dec-17\n",
              "16  U.S. lawmakers question businessman at 2016 Tr...  ...     27-Dec-17\n",
              "17  Trump on Twitter (Dec 26) - Hillary Clinton, T...  ...     26-Dec-17\n",
              "18  U.S. appeals court rejects challenge to Trump ...  ...     26-Dec-17\n",
              "19  Treasury Secretary Mnuchin was sent gift-wrapp...  ...     24-Dec-17\n",
              "\n",
              "[20 rows x 4 columns]"
            ]
          },
          "metadata": {
            "tags": []
          },
          "execution_count": 9
        }
      ]
    },
    {
      "cell_type": "code",
      "metadata": {
        "id": "JUKkTJkrli8L",
        "colab_type": "code",
        "outputId": "0336672c-e73f-4489-8682-f3eac6949116",
        "colab": {
          "base_uri": "https://localhost:8080/",
          "height": 669
        }
      },
      "source": [
        "# Deleting a specific row  not coresponding with the consequancy of rows\n",
        "true_df.drop(true_df.index[[13]], inplace=True)\n",
        "true_df.head(20)"
      ],
      "execution_count": 0,
      "outputs": [
        {
          "output_type": "execute_result",
          "data": {
            "text/html": [
              "<div>\n",
              "<style scoped>\n",
              "    .dataframe tbody tr th:only-of-type {\n",
              "        vertical-align: middle;\n",
              "    }\n",
              "\n",
              "    .dataframe tbody tr th {\n",
              "        vertical-align: top;\n",
              "    }\n",
              "\n",
              "    .dataframe thead th {\n",
              "        text-align: right;\n",
              "    }\n",
              "</style>\n",
              "<table border=\"1\" class=\"dataframe\">\n",
              "  <thead>\n",
              "    <tr style=\"text-align: right;\">\n",
              "      <th></th>\n",
              "      <th>title</th>\n",
              "      <th>articletext</th>\n",
              "      <th>articlesubject</th>\n",
              "      <th>articledate</th>\n",
              "    </tr>\n",
              "  </thead>\n",
              "  <tbody>\n",
              "    <tr>\n",
              "      <th>0</th>\n",
              "      <td>As U.S. budget fight looms, Republicans flip t...</td>\n",
              "      <td>WASHINGTON (Reuters) - The head of a conservat...</td>\n",
              "      <td>politicsNews</td>\n",
              "      <td>31-Dec-17</td>\n",
              "    </tr>\n",
              "    <tr>\n",
              "      <th>1</th>\n",
              "      <td>U.S. military to accept transgender recruits o...</td>\n",
              "      <td>WASHINGTON (Reuters) - Transgender people will...</td>\n",
              "      <td>politicsNews</td>\n",
              "      <td>29-Dec-17</td>\n",
              "    </tr>\n",
              "    <tr>\n",
              "      <th>2</th>\n",
              "      <td>Senior U.S. Republican senator: 'Let Mr. Muell...</td>\n",
              "      <td>WASHINGTON (Reuters) - The special counsel inv...</td>\n",
              "      <td>politicsNews</td>\n",
              "      <td>31-Dec-17</td>\n",
              "    </tr>\n",
              "    <tr>\n",
              "      <th>3</th>\n",
              "      <td>FBI Russia probe helped by Australian diplomat...</td>\n",
              "      <td>WASHINGTON (Reuters) - Trump campaign adviser ...</td>\n",
              "      <td>politicsNews</td>\n",
              "      <td>30-Dec-17</td>\n",
              "    </tr>\n",
              "    <tr>\n",
              "      <th>4</th>\n",
              "      <td>Trump wants Postal Service to charge 'much mor...</td>\n",
              "      <td>SEATTLE/WASHINGTON (Reuters) - President Donal...</td>\n",
              "      <td>politicsNews</td>\n",
              "      <td>29-Dec-17</td>\n",
              "    </tr>\n",
              "    <tr>\n",
              "      <th>5</th>\n",
              "      <td>White House, Congress prepare for talks on spe...</td>\n",
              "      <td>WEST PALM BEACH, Fla./WASHINGTON (Reuters) - T...</td>\n",
              "      <td>politicsNews</td>\n",
              "      <td>29-Dec-17</td>\n",
              "    </tr>\n",
              "    <tr>\n",
              "      <th>6</th>\n",
              "      <td>Trump says Russia probe will be fair, but time...</td>\n",
              "      <td>WEST PALM BEACH, Fla (Reuters) - President Don...</td>\n",
              "      <td>politicsNews</td>\n",
              "      <td>29-Dec-17</td>\n",
              "    </tr>\n",
              "    <tr>\n",
              "      <th>7</th>\n",
              "      <td>Factbox: Trump on Twitter (Dec 29) - Approval ...</td>\n",
              "      <td>The following statements were posted to the ve...</td>\n",
              "      <td>politicsNews</td>\n",
              "      <td>29-Dec-17</td>\n",
              "    </tr>\n",
              "    <tr>\n",
              "      <th>8</th>\n",
              "      <td>Trump on Twitter (Dec 28) - Global Warming</td>\n",
              "      <td>The following statements were posted to the ve...</td>\n",
              "      <td>politicsNews</td>\n",
              "      <td>29-Dec-17</td>\n",
              "    </tr>\n",
              "    <tr>\n",
              "      <th>9</th>\n",
              "      <td>Alabama official to certify Senator-elect Jone...</td>\n",
              "      <td>WASHINGTON (Reuters) - Alabama Secretary of St...</td>\n",
              "      <td>politicsNews</td>\n",
              "      <td>28-Dec-17</td>\n",
              "    </tr>\n",
              "    <tr>\n",
              "      <th>10</th>\n",
              "      <td>Jones certified U.S. Senate winner despite Moo...</td>\n",
              "      <td>(Reuters) - Alabama officials on Thursday cert...</td>\n",
              "      <td>politicsNews</td>\n",
              "      <td>28-Dec-17</td>\n",
              "    </tr>\n",
              "    <tr>\n",
              "      <th>11</th>\n",
              "      <td>New York governor questions the constitutional...</td>\n",
              "      <td>NEW YORK/WASHINGTON (Reuters) - The new U.S. t...</td>\n",
              "      <td>politicsNews</td>\n",
              "      <td>28-Dec-17</td>\n",
              "    </tr>\n",
              "    <tr>\n",
              "      <th>12</th>\n",
              "      <td>Factbox: Trump on Twitter (Dec 28) - Vanity Fa...</td>\n",
              "      <td>The following statements were posted to the ve...</td>\n",
              "      <td>politicsNews</td>\n",
              "      <td>28-Dec-17</td>\n",
              "    </tr>\n",
              "    <tr>\n",
              "      <th>14</th>\n",
              "      <td>Man says he delivered manure to Mnuchin to pro...</td>\n",
              "      <td>(In Dec. 25 story, in second paragraph, corre...</td>\n",
              "      <td>politicsNews</td>\n",
              "      <td>25-Dec-17</td>\n",
              "    </tr>\n",
              "    <tr>\n",
              "      <th>15</th>\n",
              "      <td>Virginia officials postpone lottery drawing to...</td>\n",
              "      <td>(Reuters) - A lottery drawing to settle a tied...</td>\n",
              "      <td>politicsNews</td>\n",
              "      <td>27-Dec-17</td>\n",
              "    </tr>\n",
              "    <tr>\n",
              "      <th>16</th>\n",
              "      <td>U.S. lawmakers question businessman at 2016 Tr...</td>\n",
              "      <td>WASHINGTON (Reuters) - A Georgian-American bus...</td>\n",
              "      <td>politicsNews</td>\n",
              "      <td>27-Dec-17</td>\n",
              "    </tr>\n",
              "    <tr>\n",
              "      <th>17</th>\n",
              "      <td>Trump on Twitter (Dec 26) - Hillary Clinton, T...</td>\n",
              "      <td>The following statements were posted to the ve...</td>\n",
              "      <td>politicsNews</td>\n",
              "      <td>26-Dec-17</td>\n",
              "    </tr>\n",
              "    <tr>\n",
              "      <th>18</th>\n",
              "      <td>U.S. appeals court rejects challenge to Trump ...</td>\n",
              "      <td>(Reuters) - A U.S. appeals court in Washington...</td>\n",
              "      <td>politicsNews</td>\n",
              "      <td>26-Dec-17</td>\n",
              "    </tr>\n",
              "    <tr>\n",
              "      <th>19</th>\n",
              "      <td>Treasury Secretary Mnuchin was sent gift-wrapp...</td>\n",
              "      <td>(Reuters) - A gift-wrapped package addressed t...</td>\n",
              "      <td>politicsNews</td>\n",
              "      <td>24-Dec-17</td>\n",
              "    </tr>\n",
              "    <tr>\n",
              "      <th>20</th>\n",
              "      <td>Federal judge partially lifts Trump's latest r...</td>\n",
              "      <td>WASHINGTON (Reuters) - A federal judge in Seat...</td>\n",
              "      <td>politicsNews</td>\n",
              "      <td>24-Dec-17</td>\n",
              "    </tr>\n",
              "  </tbody>\n",
              "</table>\n",
              "</div>"
            ],
            "text/plain": [
              "                                                title  ... articledate\n",
              "0   As U.S. budget fight looms, Republicans flip t...  ...   31-Dec-17\n",
              "1   U.S. military to accept transgender recruits o...  ...   29-Dec-17\n",
              "2   Senior U.S. Republican senator: 'Let Mr. Muell...  ...   31-Dec-17\n",
              "3   FBI Russia probe helped by Australian diplomat...  ...   30-Dec-17\n",
              "4   Trump wants Postal Service to charge 'much mor...  ...   29-Dec-17\n",
              "5   White House, Congress prepare for talks on spe...  ...   29-Dec-17\n",
              "6   Trump says Russia probe will be fair, but time...  ...   29-Dec-17\n",
              "7   Factbox: Trump on Twitter (Dec 29) - Approval ...  ...   29-Dec-17\n",
              "8          Trump on Twitter (Dec 28) - Global Warming  ...   29-Dec-17\n",
              "9   Alabama official to certify Senator-elect Jone...  ...   28-Dec-17\n",
              "10  Jones certified U.S. Senate winner despite Moo...  ...   28-Dec-17\n",
              "11  New York governor questions the constitutional...  ...   28-Dec-17\n",
              "12  Factbox: Trump on Twitter (Dec 28) - Vanity Fa...  ...   28-Dec-17\n",
              "14  Man says he delivered manure to Mnuchin to pro...  ...   25-Dec-17\n",
              "15  Virginia officials postpone lottery drawing to...  ...   27-Dec-17\n",
              "16  U.S. lawmakers question businessman at 2016 Tr...  ...   27-Dec-17\n",
              "17  Trump on Twitter (Dec 26) - Hillary Clinton, T...  ...   26-Dec-17\n",
              "18  U.S. appeals court rejects challenge to Trump ...  ...   26-Dec-17\n",
              "19  Treasury Secretary Mnuchin was sent gift-wrapp...  ...   24-Dec-17\n",
              "20  Federal judge partially lifts Trump's latest r...  ...   24-Dec-17\n",
              "\n",
              "[20 rows x 4 columns]"
            ]
          },
          "metadata": {
            "tags": []
          },
          "execution_count": 10
        }
      ]
    },
    {
      "cell_type": "code",
      "metadata": {
        "id": "FYKtW2cWh1mP",
        "colab_type": "code",
        "outputId": "77809b60-e8eb-4654-e9d5-88355bc36b17",
        "colab": {
          "base_uri": "https://localhost:8080/",
          "height": 204
        }
      },
      "source": [
        "fake_df['label'] = 1\n",
        "fake_df.head()"
      ],
      "execution_count": 0,
      "outputs": [
        {
          "output_type": "execute_result",
          "data": {
            "text/html": [
              "<div>\n",
              "<style scoped>\n",
              "    .dataframe tbody tr th:only-of-type {\n",
              "        vertical-align: middle;\n",
              "    }\n",
              "\n",
              "    .dataframe tbody tr th {\n",
              "        vertical-align: top;\n",
              "    }\n",
              "\n",
              "    .dataframe thead th {\n",
              "        text-align: right;\n",
              "    }\n",
              "</style>\n",
              "<table border=\"1\" class=\"dataframe\">\n",
              "  <thead>\n",
              "    <tr style=\"text-align: right;\">\n",
              "      <th></th>\n",
              "      <th>title</th>\n",
              "      <th>articletext</th>\n",
              "      <th>articlesubject</th>\n",
              "      <th>articledate</th>\n",
              "      <th>label</th>\n",
              "    </tr>\n",
              "  </thead>\n",
              "  <tbody>\n",
              "    <tr>\n",
              "      <th>0</th>\n",
              "      <td>Donald Trump Sends Out Embarrassing New Year’...</td>\n",
              "      <td>Donald Trump just couldn t wish all Americans ...</td>\n",
              "      <td>News</td>\n",
              "      <td>31-Dec-17</td>\n",
              "      <td>1</td>\n",
              "    </tr>\n",
              "    <tr>\n",
              "      <th>1</th>\n",
              "      <td>Drunk Bragging Trump Staffer Started Russian ...</td>\n",
              "      <td>House Intelligence Committee Chairman Devin Nu...</td>\n",
              "      <td>News</td>\n",
              "      <td>31-Dec-17</td>\n",
              "      <td>1</td>\n",
              "    </tr>\n",
              "    <tr>\n",
              "      <th>2</th>\n",
              "      <td>Sheriff David Clarke Becomes An Internet Joke...</td>\n",
              "      <td>On Friday, it was revealed that former Milwauk...</td>\n",
              "      <td>News</td>\n",
              "      <td>30-Dec-17</td>\n",
              "      <td>1</td>\n",
              "    </tr>\n",
              "    <tr>\n",
              "      <th>3</th>\n",
              "      <td>Trump Is So Obsessed He Even Has Obama’s Name...</td>\n",
              "      <td>On Christmas day, Donald Trump announced that ...</td>\n",
              "      <td>News</td>\n",
              "      <td>29-Dec-17</td>\n",
              "      <td>1</td>\n",
              "    </tr>\n",
              "    <tr>\n",
              "      <th>4</th>\n",
              "      <td>Pope Francis Just Called Out Donald Trump Dur...</td>\n",
              "      <td>Pope Francis used his annual Christmas Day mes...</td>\n",
              "      <td>News</td>\n",
              "      <td>25-Dec-17</td>\n",
              "      <td>1</td>\n",
              "    </tr>\n",
              "  </tbody>\n",
              "</table>\n",
              "</div>"
            ],
            "text/plain": [
              "                                               title  ... label\n",
              "0   Donald Trump Sends Out Embarrassing New Year’...  ...     1\n",
              "1   Drunk Bragging Trump Staffer Started Russian ...  ...     1\n",
              "2   Sheriff David Clarke Becomes An Internet Joke...  ...     1\n",
              "3   Trump Is So Obsessed He Even Has Obama’s Name...  ...     1\n",
              "4   Pope Francis Just Called Out Donald Trump Dur...  ...     1\n",
              "\n",
              "[5 rows x 5 columns]"
            ]
          },
          "metadata": {
            "tags": []
          },
          "execution_count": 11
        }
      ]
    },
    {
      "cell_type": "code",
      "metadata": {
        "id": "T0t8v7idh1_C",
        "colab_type": "code",
        "outputId": "39aa0b3c-0318-4517-e441-1f89b0819905",
        "colab": {
          "base_uri": "https://localhost:8080/",
          "height": 204
        }
      },
      "source": [
        "true_df['label'] = 0\n",
        "true_df.head()"
      ],
      "execution_count": 0,
      "outputs": [
        {
          "output_type": "execute_result",
          "data": {
            "text/html": [
              "<div>\n",
              "<style scoped>\n",
              "    .dataframe tbody tr th:only-of-type {\n",
              "        vertical-align: middle;\n",
              "    }\n",
              "\n",
              "    .dataframe tbody tr th {\n",
              "        vertical-align: top;\n",
              "    }\n",
              "\n",
              "    .dataframe thead th {\n",
              "        text-align: right;\n",
              "    }\n",
              "</style>\n",
              "<table border=\"1\" class=\"dataframe\">\n",
              "  <thead>\n",
              "    <tr style=\"text-align: right;\">\n",
              "      <th></th>\n",
              "      <th>title</th>\n",
              "      <th>articletext</th>\n",
              "      <th>articlesubject</th>\n",
              "      <th>articledate</th>\n",
              "      <th>label</th>\n",
              "    </tr>\n",
              "  </thead>\n",
              "  <tbody>\n",
              "    <tr>\n",
              "      <th>0</th>\n",
              "      <td>As U.S. budget fight looms, Republicans flip t...</td>\n",
              "      <td>WASHINGTON (Reuters) - The head of a conservat...</td>\n",
              "      <td>politicsNews</td>\n",
              "      <td>31-Dec-17</td>\n",
              "      <td>0</td>\n",
              "    </tr>\n",
              "    <tr>\n",
              "      <th>1</th>\n",
              "      <td>U.S. military to accept transgender recruits o...</td>\n",
              "      <td>WASHINGTON (Reuters) - Transgender people will...</td>\n",
              "      <td>politicsNews</td>\n",
              "      <td>29-Dec-17</td>\n",
              "      <td>0</td>\n",
              "    </tr>\n",
              "    <tr>\n",
              "      <th>2</th>\n",
              "      <td>Senior U.S. Republican senator: 'Let Mr. Muell...</td>\n",
              "      <td>WASHINGTON (Reuters) - The special counsel inv...</td>\n",
              "      <td>politicsNews</td>\n",
              "      <td>31-Dec-17</td>\n",
              "      <td>0</td>\n",
              "    </tr>\n",
              "    <tr>\n",
              "      <th>3</th>\n",
              "      <td>FBI Russia probe helped by Australian diplomat...</td>\n",
              "      <td>WASHINGTON (Reuters) - Trump campaign adviser ...</td>\n",
              "      <td>politicsNews</td>\n",
              "      <td>30-Dec-17</td>\n",
              "      <td>0</td>\n",
              "    </tr>\n",
              "    <tr>\n",
              "      <th>4</th>\n",
              "      <td>Trump wants Postal Service to charge 'much mor...</td>\n",
              "      <td>SEATTLE/WASHINGTON (Reuters) - President Donal...</td>\n",
              "      <td>politicsNews</td>\n",
              "      <td>29-Dec-17</td>\n",
              "      <td>0</td>\n",
              "    </tr>\n",
              "  </tbody>\n",
              "</table>\n",
              "</div>"
            ],
            "text/plain": [
              "                                               title  ... label\n",
              "0  As U.S. budget fight looms, Republicans flip t...  ...     0\n",
              "1  U.S. military to accept transgender recruits o...  ...     0\n",
              "2  Senior U.S. Republican senator: 'Let Mr. Muell...  ...     0\n",
              "3  FBI Russia probe helped by Australian diplomat...  ...     0\n",
              "4  Trump wants Postal Service to charge 'much mor...  ...     0\n",
              "\n",
              "[5 rows x 5 columns]"
            ]
          },
          "metadata": {
            "tags": []
          },
          "execution_count": 12
        }
      ]
    },
    {
      "cell_type": "code",
      "metadata": {
        "id": "YCalI7L09IPL",
        "colab_type": "code",
        "colab": {}
      },
      "source": [
        "def clean_data_text(dataframe):\n",
        "\n",
        "    # Drop duplicate rows\n",
        "    dataframe.drop_duplicates(subset='articletext', inplace=True)\n",
        "    \n",
        "    # Remove punctation\n",
        "    dataframe['articletext'] = dataframe['articletext'].str.replace('[^\\w\\s]',' ')\n",
        "\n",
        "    # Remove numbers \n",
        "    dataframe['articletext'] = dataframe['articletext'].str.replace('[^A-Za-z]',' ')\n",
        "\n",
        "    # Make sure any double-spaces are single \n",
        "    dataframe['articletext'] = dataframe['articletext'].str.replace('  ',' ')\n",
        "    dataframe['articletext'] = dataframe['articletext'].str.replace('  ',' ')\n",
        "\n",
        "    # Transform all text to lowercase\n",
        "    dataframe['articletext'] = dataframe['articletext'].str.lower()\n",
        "    \n",
        "    print(\"New shape:\", dataframe.shape)\n",
        "    return dataframe.head()"
      ],
      "execution_count": 0,
      "outputs": []
    },
    {
      "cell_type": "code",
      "metadata": {
        "id": "sSTXpe-R9ITf",
        "colab_type": "code",
        "outputId": "aacdabf8-dda8-4562-8a7f-fdda754a734a",
        "colab": {
          "base_uri": "https://localhost:8080/",
          "height": 221
        }
      },
      "source": [
        "# Call `clean_data_text(dataframe)` function\n",
        "clean_data_text(fake_df)"
      ],
      "execution_count": 0,
      "outputs": [
        {
          "output_type": "stream",
          "text": [
            "New shape: (17437, 5)\n"
          ],
          "name": "stdout"
        },
        {
          "output_type": "execute_result",
          "data": {
            "text/html": [
              "<div>\n",
              "<style scoped>\n",
              "    .dataframe tbody tr th:only-of-type {\n",
              "        vertical-align: middle;\n",
              "    }\n",
              "\n",
              "    .dataframe tbody tr th {\n",
              "        vertical-align: top;\n",
              "    }\n",
              "\n",
              "    .dataframe thead th {\n",
              "        text-align: right;\n",
              "    }\n",
              "</style>\n",
              "<table border=\"1\" class=\"dataframe\">\n",
              "  <thead>\n",
              "    <tr style=\"text-align: right;\">\n",
              "      <th></th>\n",
              "      <th>title</th>\n",
              "      <th>articletext</th>\n",
              "      <th>articlesubject</th>\n",
              "      <th>articledate</th>\n",
              "      <th>label</th>\n",
              "    </tr>\n",
              "  </thead>\n",
              "  <tbody>\n",
              "    <tr>\n",
              "      <th>0</th>\n",
              "      <td>Donald Trump Sends Out Embarrassing New Year’...</td>\n",
              "      <td>donald trump just couldn t wish all americans ...</td>\n",
              "      <td>News</td>\n",
              "      <td>31-Dec-17</td>\n",
              "      <td>1</td>\n",
              "    </tr>\n",
              "    <tr>\n",
              "      <th>1</th>\n",
              "      <td>Drunk Bragging Trump Staffer Started Russian ...</td>\n",
              "      <td>house intelligence committee chairman devin nu...</td>\n",
              "      <td>News</td>\n",
              "      <td>31-Dec-17</td>\n",
              "      <td>1</td>\n",
              "    </tr>\n",
              "    <tr>\n",
              "      <th>2</th>\n",
              "      <td>Sheriff David Clarke Becomes An Internet Joke...</td>\n",
              "      <td>on friday it was revealed that former milwauke...</td>\n",
              "      <td>News</td>\n",
              "      <td>30-Dec-17</td>\n",
              "      <td>1</td>\n",
              "    </tr>\n",
              "    <tr>\n",
              "      <th>3</th>\n",
              "      <td>Trump Is So Obsessed He Even Has Obama’s Name...</td>\n",
              "      <td>on christmas day donald trump announced that h...</td>\n",
              "      <td>News</td>\n",
              "      <td>29-Dec-17</td>\n",
              "      <td>1</td>\n",
              "    </tr>\n",
              "    <tr>\n",
              "      <th>4</th>\n",
              "      <td>Pope Francis Just Called Out Donald Trump Dur...</td>\n",
              "      <td>pope francis used his annual christmas day mes...</td>\n",
              "      <td>News</td>\n",
              "      <td>25-Dec-17</td>\n",
              "      <td>1</td>\n",
              "    </tr>\n",
              "  </tbody>\n",
              "</table>\n",
              "</div>"
            ],
            "text/plain": [
              "                                               title  ... label\n",
              "0   Donald Trump Sends Out Embarrassing New Year’...  ...     1\n",
              "1   Drunk Bragging Trump Staffer Started Russian ...  ...     1\n",
              "2   Sheriff David Clarke Becomes An Internet Joke...  ...     1\n",
              "3   Trump Is So Obsessed He Even Has Obama’s Name...  ...     1\n",
              "4   Pope Francis Just Called Out Donald Trump Dur...  ...     1\n",
              "\n",
              "[5 rows x 5 columns]"
            ]
          },
          "metadata": {
            "tags": []
          },
          "execution_count": 14
        }
      ]
    },
    {
      "cell_type": "code",
      "metadata": {
        "id": "YnPxv4Qb9Iaj",
        "colab_type": "code",
        "outputId": "04ce3f04-c1ff-454f-b796-d2d3af19e7b5",
        "colab": {
          "base_uri": "https://localhost:8080/",
          "height": 221
        }
      },
      "source": [
        "# Call `clean_data_text(dataframe)` function\n",
        "clean_data_text(true_df)"
      ],
      "execution_count": 0,
      "outputs": [
        {
          "output_type": "stream",
          "text": [
            "New shape: (21191, 5)\n"
          ],
          "name": "stdout"
        },
        {
          "output_type": "execute_result",
          "data": {
            "text/html": [
              "<div>\n",
              "<style scoped>\n",
              "    .dataframe tbody tr th:only-of-type {\n",
              "        vertical-align: middle;\n",
              "    }\n",
              "\n",
              "    .dataframe tbody tr th {\n",
              "        vertical-align: top;\n",
              "    }\n",
              "\n",
              "    .dataframe thead th {\n",
              "        text-align: right;\n",
              "    }\n",
              "</style>\n",
              "<table border=\"1\" class=\"dataframe\">\n",
              "  <thead>\n",
              "    <tr style=\"text-align: right;\">\n",
              "      <th></th>\n",
              "      <th>title</th>\n",
              "      <th>articletext</th>\n",
              "      <th>articlesubject</th>\n",
              "      <th>articledate</th>\n",
              "      <th>label</th>\n",
              "    </tr>\n",
              "  </thead>\n",
              "  <tbody>\n",
              "    <tr>\n",
              "      <th>0</th>\n",
              "      <td>As U.S. budget fight looms, Republicans flip t...</td>\n",
              "      <td>washington reuters the head of a conservative ...</td>\n",
              "      <td>politicsNews</td>\n",
              "      <td>31-Dec-17</td>\n",
              "      <td>0</td>\n",
              "    </tr>\n",
              "    <tr>\n",
              "      <th>1</th>\n",
              "      <td>U.S. military to accept transgender recruits o...</td>\n",
              "      <td>washington reuters transgender people will be ...</td>\n",
              "      <td>politicsNews</td>\n",
              "      <td>29-Dec-17</td>\n",
              "      <td>0</td>\n",
              "    </tr>\n",
              "    <tr>\n",
              "      <th>2</th>\n",
              "      <td>Senior U.S. Republican senator: 'Let Mr. Muell...</td>\n",
              "      <td>washington reuters the special counsel investi...</td>\n",
              "      <td>politicsNews</td>\n",
              "      <td>31-Dec-17</td>\n",
              "      <td>0</td>\n",
              "    </tr>\n",
              "    <tr>\n",
              "      <th>3</th>\n",
              "      <td>FBI Russia probe helped by Australian diplomat...</td>\n",
              "      <td>washington reuters trump campaign adviser geor...</td>\n",
              "      <td>politicsNews</td>\n",
              "      <td>30-Dec-17</td>\n",
              "      <td>0</td>\n",
              "    </tr>\n",
              "    <tr>\n",
              "      <th>4</th>\n",
              "      <td>Trump wants Postal Service to charge 'much mor...</td>\n",
              "      <td>seattle washington reuters president donald tr...</td>\n",
              "      <td>politicsNews</td>\n",
              "      <td>29-Dec-17</td>\n",
              "      <td>0</td>\n",
              "    </tr>\n",
              "  </tbody>\n",
              "</table>\n",
              "</div>"
            ],
            "text/plain": [
              "                                               title  ... label\n",
              "0  As U.S. budget fight looms, Republicans flip t...  ...     0\n",
              "1  U.S. military to accept transgender recruits o...  ...     0\n",
              "2  Senior U.S. Republican senator: 'Let Mr. Muell...  ...     0\n",
              "3  FBI Russia probe helped by Australian diplomat...  ...     0\n",
              "4  Trump wants Postal Service to charge 'much mor...  ...     0\n",
              "\n",
              "[5 rows x 5 columns]"
            ]
          },
          "metadata": {
            "tags": []
          },
          "execution_count": 15
        }
      ]
    },
    {
      "cell_type": "code",
      "metadata": {
        "id": "5roNtJf69IdY",
        "colab_type": "code",
        "outputId": "0589c0b8-f3e4-4e38-c5f8-6bbc4200296f",
        "colab": {
          "base_uri": "https://localhost:8080/",
          "height": 34
        }
      },
      "source": [
        "# droping nan values for fake df\n",
        "fake_df = fake_df[fake_df.articletext.isna() == False]\n",
        "l =len(fake_df)\n",
        "print('rows after removing nans: ', l)\n",
        "rando = list(np.random.choice(l-2, 4001, replace=True))\n",
        "fake_df =fake_df.iloc[rando]\n"
      ],
      "execution_count": 0,
      "outputs": [
        {
          "output_type": "stream",
          "text": [
            "rows after removing nans:  17436\n"
          ],
          "name": "stdout"
        }
      ]
    },
    {
      "cell_type": "code",
      "metadata": {
        "id": "A0ahk9G29Ig8",
        "colab_type": "code",
        "outputId": "d432c27c-55d1-4806-8850-b23d183a24ab",
        "colab": {
          "base_uri": "https://localhost:8080/",
          "height": 34
        }
      },
      "source": [
        "# droping nan values for true df\n",
        "true_df = true_df[true_df.articletext.isna() == False]\n",
        "l =len(true_df)\n",
        "print('rows after removing nans: ', l)\n",
        "rando = list(np.random.choice(l-2, 4001, replace=True))\n",
        "true_df =true_df.iloc[rando]"
      ],
      "execution_count": 0,
      "outputs": [
        {
          "output_type": "stream",
          "text": [
            "rows after removing nans:  21191\n"
          ],
          "name": "stdout"
        }
      ]
    },
    {
      "cell_type": "code",
      "metadata": {
        "id": "0EZRSwAu9IYx",
        "colab_type": "code",
        "outputId": "ca764e99-1bf5-4be2-ce47-6d832f3a65ec",
        "colab": {
          "base_uri": "https://localhost:8080/",
          "height": 221
        }
      },
      "source": [
        "fake_df.info()"
      ],
      "execution_count": 0,
      "outputs": [
        {
          "output_type": "stream",
          "text": [
            "<class 'pandas.core.frame.DataFrame'>\n",
            "Int64Index: 4001 entries, 13675 to 84\n",
            "Data columns (total 5 columns):\n",
            " #   Column          Non-Null Count  Dtype \n",
            "---  ------          --------------  ----- \n",
            " 0   title           4001 non-null   object\n",
            " 1   articletext     4001 non-null   object\n",
            " 2   articlesubject  4001 non-null   object\n",
            " 3   articledate     4001 non-null   object\n",
            " 4   label           4001 non-null   int64 \n",
            "dtypes: int64(1), object(4)\n",
            "memory usage: 187.5+ KB\n"
          ],
          "name": "stdout"
        }
      ]
    },
    {
      "cell_type": "code",
      "metadata": {
        "id": "MVOnvl3T9IX0",
        "colab_type": "code",
        "outputId": "a8490539-06c0-4107-852d-7e9062ff8ae5",
        "colab": {
          "base_uri": "https://localhost:8080/",
          "height": 221
        }
      },
      "source": [
        "true_df.info()"
      ],
      "execution_count": 0,
      "outputs": [
        {
          "output_type": "stream",
          "text": [
            "<class 'pandas.core.frame.DataFrame'>\n",
            "Int64Index: 4001 entries, 12045 to 9221\n",
            "Data columns (total 5 columns):\n",
            " #   Column          Non-Null Count  Dtype \n",
            "---  ------          --------------  ----- \n",
            " 0   title           4001 non-null   object\n",
            " 1   articletext     4001 non-null   object\n",
            " 2   articlesubject  4001 non-null   object\n",
            " 3   articledate     4001 non-null   object\n",
            " 4   label           4001 non-null   int64 \n",
            "dtypes: int64(1), object(4)\n",
            "memory usage: 187.5+ KB\n"
          ],
          "name": "stdout"
        }
      ]
    },
    {
      "cell_type": "markdown",
      "metadata": {
        "id": "3dFl6O6arVMT",
        "colab_type": "text"
      },
      "source": [
        "**Tokenization**\n",
        "(these couple rows of df2 will not be saved in cvs file)"
      ]
    },
    {
      "cell_type": "code",
      "metadata": {
        "id": "iBw59fJQqIII",
        "colab_type": "code",
        "outputId": "930f7cbc-972c-4cc3-952b-531811be3bfa",
        "colab": {
          "base_uri": "https://localhost:8080/",
          "height": 221
        }
      },
      "source": [
        "df2 = pd.concat([fake_df[['articletext','articlesubject', 'label']], true_df[['articletext','articlesubject', 'label']]], axis=0)\n",
        "\n",
        "#Reset the index\n",
        "# df1 = df1.set_index(inplace=True)\n",
        "\n",
        "# r\n",
        "print(\"Shape:\", df2.shape)\n",
        "df2.head()"
      ],
      "execution_count": 0,
      "outputs": [
        {
          "output_type": "stream",
          "text": [
            "Shape: (8002, 3)\n"
          ],
          "name": "stdout"
        },
        {
          "output_type": "execute_result",
          "data": {
            "text/html": [
              "<div>\n",
              "<style scoped>\n",
              "    .dataframe tbody tr th:only-of-type {\n",
              "        vertical-align: middle;\n",
              "    }\n",
              "\n",
              "    .dataframe tbody tr th {\n",
              "        vertical-align: top;\n",
              "    }\n",
              "\n",
              "    .dataframe thead th {\n",
              "        text-align: right;\n",
              "    }\n",
              "</style>\n",
              "<table border=\"1\" class=\"dataframe\">\n",
              "  <thead>\n",
              "    <tr style=\"text-align: right;\">\n",
              "      <th></th>\n",
              "      <th>articletext</th>\n",
              "      <th>articlesubject</th>\n",
              "      <th>label</th>\n",
              "    </tr>\n",
              "  </thead>\n",
              "  <tbody>\n",
              "    <tr>\n",
              "      <th>13675</th>\n",
              "      <td>the obama administration s cleansing of the is...</td>\n",
              "      <td>politics</td>\n",
              "      <td>1</td>\n",
              "    </tr>\n",
              "    <tr>\n",
              "      <th>12427</th>\n",
              "      <td>here s how mcnaughton describes the painting a...</td>\n",
              "      <td>politics</td>\n",
              "      <td>1</td>\n",
              "    </tr>\n",
              "    <tr>\n",
              "      <th>18248</th>\n",
              "      <td>legal latino heat filmed a tent city full of ...</td>\n",
              "      <td>left-news</td>\n",
              "      <td>1</td>\n",
              "    </tr>\n",
              "    <tr>\n",
              "      <th>8661</th>\n",
              "      <td>there are many many things i would call senato...</td>\n",
              "      <td>News</td>\n",
              "      <td>1</td>\n",
              "    </tr>\n",
              "    <tr>\n",
              "      <th>9154</th>\n",
              "      <td>on wednesday a jubilant president trump tweete...</td>\n",
              "      <td>politics</td>\n",
              "      <td>1</td>\n",
              "    </tr>\n",
              "  </tbody>\n",
              "</table>\n",
              "</div>"
            ],
            "text/plain": [
              "                                             articletext articlesubject  label\n",
              "13675  the obama administration s cleansing of the is...       politics      1\n",
              "12427  here s how mcnaughton describes the painting a...       politics      1\n",
              "18248   legal latino heat filmed a tent city full of ...      left-news      1\n",
              "8661   there are many many things i would call senato...           News      1\n",
              "9154   on wednesday a jubilant president trump tweete...       politics      1"
            ]
          },
          "metadata": {
            "tags": []
          },
          "execution_count": 20
        }
      ]
    },
    {
      "cell_type": "code",
      "metadata": {
        "id": "PJOHhYlRqSnR",
        "colab_type": "code",
        "outputId": "8b6449d9-2264-4dd9-a9af-4ea7c56c18ed",
        "colab": {
          "base_uri": "https://localhost:8080/",
          "height": 34
        }
      },
      "source": [
        "import string\n",
        "string.punctuation"
      ],
      "execution_count": 0,
      "outputs": [
        {
          "output_type": "execute_result",
          "data": {
            "text/plain": [
              "'!\"#$%&\\'()*+,-./:;<=>?@[\\\\]^_`{|}~'"
            ]
          },
          "metadata": {
            "tags": []
          },
          "execution_count": 21
        }
      ]
    },
    {
      "cell_type": "code",
      "metadata": {
        "id": "4DCOm2VWqIxW",
        "colab_type": "code",
        "outputId": "5865d70e-35b8-472d-d903-3b22bf7baae8",
        "colab": {
          "base_uri": "https://localhost:8080/",
          "height": 204
        }
      },
      "source": [
        "#Function to remove Punctuation\n",
        "def remove_punct(text):\n",
        "    text_nopunct = \"\".join([char for char in text if char not in string.punctuation])# It will discard all punctuations\n",
        "    return text_nopunct\n",
        "\n",
        "df2['body_text_clean'] = df2['articletext'].apply(lambda x: remove_punct(x))\n",
        "\n",
        "df2.head()"
      ],
      "execution_count": 0,
      "outputs": [
        {
          "output_type": "execute_result",
          "data": {
            "text/html": [
              "<div>\n",
              "<style scoped>\n",
              "    .dataframe tbody tr th:only-of-type {\n",
              "        vertical-align: middle;\n",
              "    }\n",
              "\n",
              "    .dataframe tbody tr th {\n",
              "        vertical-align: top;\n",
              "    }\n",
              "\n",
              "    .dataframe thead th {\n",
              "        text-align: right;\n",
              "    }\n",
              "</style>\n",
              "<table border=\"1\" class=\"dataframe\">\n",
              "  <thead>\n",
              "    <tr style=\"text-align: right;\">\n",
              "      <th></th>\n",
              "      <th>articletext</th>\n",
              "      <th>articlesubject</th>\n",
              "      <th>label</th>\n",
              "      <th>body_text_clean</th>\n",
              "    </tr>\n",
              "  </thead>\n",
              "  <tbody>\n",
              "    <tr>\n",
              "      <th>13675</th>\n",
              "      <td>the obama administration s cleansing of the is...</td>\n",
              "      <td>politics</td>\n",
              "      <td>1</td>\n",
              "      <td>the obama administration s cleansing of the is...</td>\n",
              "    </tr>\n",
              "    <tr>\n",
              "      <th>12427</th>\n",
              "      <td>here s how mcnaughton describes the painting a...</td>\n",
              "      <td>politics</td>\n",
              "      <td>1</td>\n",
              "      <td>here s how mcnaughton describes the painting a...</td>\n",
              "    </tr>\n",
              "    <tr>\n",
              "      <th>18248</th>\n",
              "      <td>legal latino heat filmed a tent city full of ...</td>\n",
              "      <td>left-news</td>\n",
              "      <td>1</td>\n",
              "      <td>legal latino heat filmed a tent city full of ...</td>\n",
              "    </tr>\n",
              "    <tr>\n",
              "      <th>8661</th>\n",
              "      <td>there are many many things i would call senato...</td>\n",
              "      <td>News</td>\n",
              "      <td>1</td>\n",
              "      <td>there are many many things i would call senato...</td>\n",
              "    </tr>\n",
              "    <tr>\n",
              "      <th>9154</th>\n",
              "      <td>on wednesday a jubilant president trump tweete...</td>\n",
              "      <td>politics</td>\n",
              "      <td>1</td>\n",
              "      <td>on wednesday a jubilant president trump tweete...</td>\n",
              "    </tr>\n",
              "  </tbody>\n",
              "</table>\n",
              "</div>"
            ],
            "text/plain": [
              "                                             articletext  ...                                    body_text_clean\n",
              "13675  the obama administration s cleansing of the is...  ...  the obama administration s cleansing of the is...\n",
              "12427  here s how mcnaughton describes the painting a...  ...  here s how mcnaughton describes the painting a...\n",
              "18248   legal latino heat filmed a tent city full of ...  ...   legal latino heat filmed a tent city full of ...\n",
              "8661   there are many many things i would call senato...  ...  there are many many things i would call senato...\n",
              "9154   on wednesday a jubilant president trump tweete...  ...  on wednesday a jubilant president trump tweete...\n",
              "\n",
              "[5 rows x 4 columns]"
            ]
          },
          "metadata": {
            "tags": []
          },
          "execution_count": 22
        }
      ]
    },
    {
      "cell_type": "code",
      "metadata": {
        "id": "61jHLejNqne-",
        "colab_type": "code",
        "outputId": "bda93337-b321-442d-9247-0178f802c63d",
        "colab": {
          "base_uri": "https://localhost:8080/",
          "height": 204
        }
      },
      "source": [
        "import re\n",
        "# Function to Tokenize words\n",
        "def tokenize(text):\n",
        "    tokens = re.split('\\W+', text) #W+ means that either a word character (A-Za-z0-9_) or a dash (-) can go there.\n",
        "    return tokens\n",
        "\n",
        "df2['body_text_tokenized'] = df2['body_text_clean'].apply(lambda x: tokenize(x.lower())) \n",
        "#We convert to lower as Python is case-sensitive. \n",
        "\n",
        "df2.head()"
      ],
      "execution_count": 0,
      "outputs": [
        {
          "output_type": "execute_result",
          "data": {
            "text/html": [
              "<div>\n",
              "<style scoped>\n",
              "    .dataframe tbody tr th:only-of-type {\n",
              "        vertical-align: middle;\n",
              "    }\n",
              "\n",
              "    .dataframe tbody tr th {\n",
              "        vertical-align: top;\n",
              "    }\n",
              "\n",
              "    .dataframe thead th {\n",
              "        text-align: right;\n",
              "    }\n",
              "</style>\n",
              "<table border=\"1\" class=\"dataframe\">\n",
              "  <thead>\n",
              "    <tr style=\"text-align: right;\">\n",
              "      <th></th>\n",
              "      <th>articletext</th>\n",
              "      <th>articlesubject</th>\n",
              "      <th>label</th>\n",
              "      <th>body_text_clean</th>\n",
              "      <th>body_text_tokenized</th>\n",
              "    </tr>\n",
              "  </thead>\n",
              "  <tbody>\n",
              "    <tr>\n",
              "      <th>13675</th>\n",
              "      <td>the obama administration s cleansing of the is...</td>\n",
              "      <td>politics</td>\n",
              "      <td>1</td>\n",
              "      <td>the obama administration s cleansing of the is...</td>\n",
              "      <td>[the, obama, administration, s, cleansing, of,...</td>\n",
              "    </tr>\n",
              "    <tr>\n",
              "      <th>12427</th>\n",
              "      <td>here s how mcnaughton describes the painting a...</td>\n",
              "      <td>politics</td>\n",
              "      <td>1</td>\n",
              "      <td>here s how mcnaughton describes the painting a...</td>\n",
              "      <td>[here, s, how, mcnaughton, describes, the, pai...</td>\n",
              "    </tr>\n",
              "    <tr>\n",
              "      <th>18248</th>\n",
              "      <td>legal latino heat filmed a tent city full of ...</td>\n",
              "      <td>left-news</td>\n",
              "      <td>1</td>\n",
              "      <td>legal latino heat filmed a tent city full of ...</td>\n",
              "      <td>[, legal, latino, heat, filmed, a, tent, city,...</td>\n",
              "    </tr>\n",
              "    <tr>\n",
              "      <th>8661</th>\n",
              "      <td>there are many many things i would call senato...</td>\n",
              "      <td>News</td>\n",
              "      <td>1</td>\n",
              "      <td>there are many many things i would call senato...</td>\n",
              "      <td>[there, are, many, many, things, i, would, cal...</td>\n",
              "    </tr>\n",
              "    <tr>\n",
              "      <th>9154</th>\n",
              "      <td>on wednesday a jubilant president trump tweete...</td>\n",
              "      <td>politics</td>\n",
              "      <td>1</td>\n",
              "      <td>on wednesday a jubilant president trump tweete...</td>\n",
              "      <td>[on, wednesday, a, jubilant, president, trump,...</td>\n",
              "    </tr>\n",
              "  </tbody>\n",
              "</table>\n",
              "</div>"
            ],
            "text/plain": [
              "                                             articletext  ...                                body_text_tokenized\n",
              "13675  the obama administration s cleansing of the is...  ...  [the, obama, administration, s, cleansing, of,...\n",
              "12427  here s how mcnaughton describes the painting a...  ...  [here, s, how, mcnaughton, describes, the, pai...\n",
              "18248   legal latino heat filmed a tent city full of ...  ...  [, legal, latino, heat, filmed, a, tent, city,...\n",
              "8661   there are many many things i would call senato...  ...  [there, are, many, many, things, i, would, cal...\n",
              "9154   on wednesday a jubilant president trump tweete...  ...  [on, wednesday, a, jubilant, president, trump,...\n",
              "\n",
              "[5 rows x 5 columns]"
            ]
          },
          "metadata": {
            "tags": []
          },
          "execution_count": 23
        }
      ]
    },
    {
      "cell_type": "code",
      "metadata": {
        "id": "JkTg858Bq1Qn",
        "colab_type": "code",
        "colab": {}
      },
      "source": [
        ""
      ],
      "execution_count": 0,
      "outputs": []
    },
    {
      "cell_type": "code",
      "metadata": {
        "id": "An42l9nR9IR1",
        "colab_type": "code",
        "colab": {}
      },
      "source": [
        "# Saving it for the future use\n",
        "# fake_df.to_csv(\"Users/bolboceanunicolai/Desktop/Final Project/data_test/FakeNews_Clean.csv\")\n",
        "# true_df.to_csv(\"Users/bolboceanunicolai/Desktop/Final Project/data_test/TrueNews_Clean.csv\")\n",
        "\n"
      ],
      "execution_count": 0,
      "outputs": []
    },
    {
      "cell_type": "code",
      "metadata": {
        "colab_type": "code",
        "id": "dE3X35gG__H2",
        "colab": {}
      },
      "source": [
        "# Importing the dataset\n",
        "# fake_df = pd.read_csv(\"/Users/bolboceanunicolai/Desktop/Final Project/data_test/FakeNews_Clean.csv\")\n",
        "# true_df = pd.read_csv(\"/Users/bolboceanunicolai/Desktop/Final Project/data_test/TrueNews_Clean.csv\")"
      ],
      "execution_count": 0,
      "outputs": []
    },
    {
      "cell_type": "code",
      "metadata": {
        "id": "C5x85YdJpYsz",
        "colab_type": "code",
        "colab": {}
      },
      "source": [
        ""
      ],
      "execution_count": 0,
      "outputs": []
    },
    {
      "cell_type": "markdown",
      "metadata": {
        "id": "mJvzqS2xh60-",
        "colab_type": "text"
      },
      "source": [
        "## <u>__Load__<u/>"
      ]
    },
    {
      "cell_type": "code",
      "metadata": {
        "colab_type": "code",
        "id": "I_M-hd9GAczg",
        "colab": {}
      },
      "source": [
        "# Importing the dataset\n",
        "# fake_df = pd.read_csv(\"/Users/bolboceanunicolai/Desktop/Final Project/data_test/FakeNews_Clean.csv\")\n",
        "# true_df = pd.read_csv(\"/Users/bolboceanunicolai/Desktop/Final Project/data_test/TrueNews_Clean.csv\")"
      ],
      "execution_count": 0,
      "outputs": []
    },
    {
      "cell_type": "code",
      "metadata": {
        "colab_type": "code",
        "id": "WOnfRMM7AZK6",
        "outputId": "bc9dd2db-d25d-4ae2-ea50-6a2ec0eb8c1e",
        "colab": {
          "base_uri": "https://localhost:8080/",
          "height": 221
        }
      },
      "source": [
        "df1 = pd.concat([fake_df[['articletext','articlesubject', 'label']], true_df[['articletext','articlesubject', 'label']]], axis=0)\n",
        "\n",
        "#Reset the index\n",
        "# df1 = df1.set_index(inplace=True)\n",
        "\n",
        "# r\n",
        "print(\"Shape:\", df1.shape)\n",
        "df1.head()"
      ],
      "execution_count": 0,
      "outputs": [
        {
          "output_type": "stream",
          "text": [
            "Shape: (8002, 3)\n"
          ],
          "name": "stdout"
        },
        {
          "output_type": "execute_result",
          "data": {
            "text/html": [
              "<div>\n",
              "<style scoped>\n",
              "    .dataframe tbody tr th:only-of-type {\n",
              "        vertical-align: middle;\n",
              "    }\n",
              "\n",
              "    .dataframe tbody tr th {\n",
              "        vertical-align: top;\n",
              "    }\n",
              "\n",
              "    .dataframe thead th {\n",
              "        text-align: right;\n",
              "    }\n",
              "</style>\n",
              "<table border=\"1\" class=\"dataframe\">\n",
              "  <thead>\n",
              "    <tr style=\"text-align: right;\">\n",
              "      <th></th>\n",
              "      <th>articletext</th>\n",
              "      <th>articlesubject</th>\n",
              "      <th>label</th>\n",
              "    </tr>\n",
              "  </thead>\n",
              "  <tbody>\n",
              "    <tr>\n",
              "      <th>13675</th>\n",
              "      <td>the obama administration s cleansing of the is...</td>\n",
              "      <td>politics</td>\n",
              "      <td>1</td>\n",
              "    </tr>\n",
              "    <tr>\n",
              "      <th>12427</th>\n",
              "      <td>here s how mcnaughton describes the painting a...</td>\n",
              "      <td>politics</td>\n",
              "      <td>1</td>\n",
              "    </tr>\n",
              "    <tr>\n",
              "      <th>18248</th>\n",
              "      <td>legal latino heat filmed a tent city full of ...</td>\n",
              "      <td>left-news</td>\n",
              "      <td>1</td>\n",
              "    </tr>\n",
              "    <tr>\n",
              "      <th>8661</th>\n",
              "      <td>there are many many things i would call senato...</td>\n",
              "      <td>News</td>\n",
              "      <td>1</td>\n",
              "    </tr>\n",
              "    <tr>\n",
              "      <th>9154</th>\n",
              "      <td>on wednesday a jubilant president trump tweete...</td>\n",
              "      <td>politics</td>\n",
              "      <td>1</td>\n",
              "    </tr>\n",
              "  </tbody>\n",
              "</table>\n",
              "</div>"
            ],
            "text/plain": [
              "                                             articletext articlesubject  label\n",
              "13675  the obama administration s cleansing of the is...       politics      1\n",
              "12427  here s how mcnaughton describes the painting a...       politics      1\n",
              "18248   legal latino heat filmed a tent city full of ...      left-news      1\n",
              "8661   there are many many things i would call senato...           News      1\n",
              "9154   on wednesday a jubilant president trump tweete...       politics      1"
            ]
          },
          "metadata": {
            "tags": []
          },
          "execution_count": 27
        }
      ]
    },
    {
      "cell_type": "markdown",
      "metadata": {
        "id": "hn5k_j_ziEDJ",
        "colab_type": "text"
      },
      "source": [
        "## <u>__Data Analysis__<u/>"
      ]
    },
    {
      "cell_type": "code",
      "metadata": {
        "id": "3vRIMxZTiHqJ",
        "colab_type": "code",
        "colab": {}
      },
      "source": [
        ""
      ],
      "execution_count": 0,
      "outputs": []
    },
    {
      "cell_type": "code",
      "metadata": {
        "id": "esHEf8q-WVH2",
        "colab_type": "code",
        "colab": {}
      },
      "source": [
        "# define function for graphs\n",
        "def bar_plot(x, y, title, color):    \n",
        "    \n",
        "    # Set up barplot \n",
        "    plt.figure(figsize=(9,5))\n",
        "    g=sns.barplot(x, y, color = color)    \n",
        "    ax=g\n",
        "\n",
        "    # Label the graph\n",
        "    plt.title(title, fontsize = 15)\n",
        "    plt.xticks(fontsize = 10)\n",
        "\n",
        "    # Enable bar values\n",
        "    # Code modified from http://robertmitchellv.com/blog-bar-chart-annotations-pandas-mpl.html\n",
        "    # create a list to collect the plt.patches data\n",
        "    totals = []\n",
        "\n",
        "    # find the values and append to list\n",
        "    for p in ax.patches:\n",
        "        totals.append(p.get_width())\n",
        "\n",
        "    # set individual bar lables using above list\n",
        "    total = sum(totals)\n",
        "\n",
        "    # set individual bar lables using above list\n",
        "    for p in ax.patches:\n",
        "        # get_width pulls left or right; get_y pushes up or down\n",
        "        ax.text(p.get_width()+.3, p.get_y()+.38, \\\n",
        "                int(p.get_width()), fontsize=10)"
      ],
      "execution_count": 0,
      "outputs": []
    },
    {
      "cell_type": "code",
      "metadata": {
        "id": "u52p9USbiIe5",
        "colab_type": "code",
        "outputId": "3568e890-b24c-4f51-e51d-469e3bbe3f7f",
        "colab": {
          "base_uri": "https://localhost:8080/",
          "height": 337
        }
      },
      "source": [
        "# Set x values: # of posts for both datasets\n",
        "df_domain = df1['articlesubject'].value_counts() \n",
        "df_domain = df_domain.sort_values(ascending=False).head(5)\n",
        "\n",
        "# Set y values: Domains \n",
        "df_domain_index = list(df_domain.index)\n",
        "\n",
        "# Call function\n",
        "bar_plot(df_domain.values, df_domain_index, 'Most Referenced Subjects in Total:' ,'r')"
      ],
      "execution_count": 0,
      "outputs": [
        {
          "output_type": "display_data",
          "data": {
            "image/png": "[encoded data removed]",
            "text/plain": [
              "<Figure size 648x360 with 1 Axes>"
            ]
          },
          "metadata": {
            "tags": [],
            "image/png": {
              "width": 587,
              "height": 320
            },
            "needs_background": "light"
          }
        }
      ]
    },
    {
      "cell_type": "code",
      "metadata": {
        "id": "JeNWNCk0iJgh",
        "colab_type": "code",
        "colab": {}
      },
      "source": [
        ""
      ],
      "execution_count": 0,
      "outputs": []
    },
    {
      "cell_type": "code",
      "metadata": {
        "colab_type": "code",
        "outputId": "db3f8a72-fe72-456e-8dbf-e10df1599807",
        "id": "jIVAXmpYCF03",
        "colab": {
          "base_uri": "https://localhost:8080/",
          "height": 337
        }
      },
      "source": [
        "# Set x values: # of posts fake df\n",
        "df_domain = fake_df['articlesubject'].value_counts() \n",
        "df_domain = df_domain.sort_values(ascending=False).head(5)\n",
        "\n",
        "# Set y values: Domains \n",
        "df_domain_index = list(df_domain.index)\n",
        "\n",
        "# Call function\n",
        "bar_plot(df_domain.values, df_domain_index, 'Most Referenced Subjects for FakeNews.csv:' ,'r')"
      ],
      "execution_count": 0,
      "outputs": [
        {
          "output_type": "display_data",
          "data": {
            "image/png": "[encoded data removed]",
            "text/plain": [
              "<Figure size 648x360 with 1 Axes>"
            ]
          },
          "metadata": {
            "tags": [],
            "image/png": {
              "width": 618,
              "height": 320
            },
            "needs_background": "light"
          }
        }
      ]
    },
    {
      "cell_type": "code",
      "metadata": {
        "id": "Zw4u3wWwiJth",
        "colab_type": "code",
        "colab": {}
      },
      "source": [
        ""
      ],
      "execution_count": 0,
      "outputs": []
    },
    {
      "cell_type": "code",
      "metadata": {
        "colab_type": "code",
        "outputId": "1733b040-1e55-4000-d353-1bf39d7e40ac",
        "id": "IEINND_aCRaT",
        "colab": {
          "base_uri": "https://localhost:8080/",
          "height": 337
        }
      },
      "source": [
        "# Set x values: # of posts for true df\n",
        "df_domain = true_df['articlesubject'].value_counts() \n",
        "df_domain = df_domain.sort_values(ascending=False).head(2)\n",
        "\n",
        "# Set y values: Domains \n",
        "df_domain_index = list(df_domain.index)\n",
        "\n",
        "# Call function\n",
        "bar_plot(df_domain.values, df_domain_index, 'Most Referenced Subjects for TrueNews.csv:' ,'r')"
      ],
      "execution_count": 0,
      "outputs": [
        {
          "output_type": "display_data",
          "data": {
            "image/png": "[encoded data removed]",
            "text/plain": [
              "<Figure size 648x360 with 1 Axes>"
            ]
          },
          "metadata": {
            "tags": [],
            "image/png": {
              "width": 587,
              "height": 320
            },
            "needs_background": "light"
          }
        }
      ]
    },
    {
      "cell_type": "markdown",
      "metadata": {
        "id": "W7FhTBvSCkmp",
        "colab_type": "text"
      },
      "source": [
        "*Natural Language Processing (NLP)*"
      ]
    },
    {
      "cell_type": "markdown",
      "metadata": {
        "id": "f65KPaMmDEIn",
        "colab_type": "text"
      },
      "source": [
        "**- Apply CountVectorizer()**\n",
        "\n",
        "*   Count Vectorize df1 where 'label' is 1\n",
        "*   ngram_range = (1,1)\n",
        "\n"
      ]
    },
    {
      "cell_type": "code",
      "metadata": {
        "id": "IeITteE0ihN_",
        "colab_type": "code",
        "outputId": "aafeffb5-56e8-44d4-e922-cec6828908a5",
        "colab": {
          "base_uri": "https://localhost:8080/",
          "height": 34
        }
      },
      "source": [
        "# Set variables to show Fake Titles\n",
        "mask_on = df1['label'] == 1\n",
        "df_onion_titles = df1[mask_on]['articletext']\n",
        "\n",
        "# Instantiate a CountVectorizer\n",
        "cv1 = CountVectorizer(stop_words = 'english')\n",
        "\n",
        "# Fit and transform the vectorizer on our corpus\n",
        "onion_cvec = cv1.fit_transform(df_onion_titles)\n",
        "\n",
        "# Convert onion_cvec into a DataFrame\n",
        "onion_cvec_df = pd.DataFrame(onion_cvec.toarray(),\n",
        "                   columns=cv1.get_feature_names())\n",
        "\n",
        "# Inspect head of fake Titles cvec\n",
        "print(onion_cvec_df.shape)"
      ],
      "execution_count": 0,
      "outputs": [
        {
          "output_type": "stream",
          "text": [
            "(4001, 39027)\n"
          ],
          "name": "stdout"
        }
      ]
    },
    {
      "cell_type": "markdown",
      "metadata": {
        "id": "8AG1iY8hD0TY",
        "colab_type": "text"
      },
      "source": [
        "\n",
        "-**Apply CountVectorizer()**\n",
        "   *   Vectorize df where 'label' is 0\n",
        "   *   ngram_range = (1,1)\n",
        "\n"
      ]
    },
    {
      "cell_type": "code",
      "metadata": {
        "id": "oR4y3cUzihX-",
        "colab_type": "code",
        "outputId": "8d493010-0492-4855-ece1-f9f4d71b55ba",
        "colab": {
          "base_uri": "https://localhost:8080/",
          "height": 34
        }
      },
      "source": [
        "mask_no = df1['label'] == 0\n",
        "df_not_onion_titles = df1[mask_no]['articletext']\n",
        "\n",
        "# Instantiate a CountVectorizer\n",
        "cv2 = CountVectorizer(stop_words = 'english')\n",
        "\n",
        "# Fit and transform the vectorizer on our corpus\n",
        "not_onion_cvec = cv2.fit_transform(df_not_onion_titles)\n",
        "\n",
        "# Convert onion_cvec into a DataFrame\n",
        "not_onion_cvec_df = pd.DataFrame(not_onion_cvec.toarray(),\n",
        "                   columns=cv2.get_feature_names())\n",
        "\n",
        "# Inspect head of Not Onion Titles cvec\n",
        "print(not_onion_cvec_df.shape)"
      ],
      "execution_count": 0,
      "outputs": [
        {
          "output_type": "stream",
          "text": [
            "(4001, 31740)\n"
          ],
          "name": "stdout"
        }
      ]
    },
    {
      "cell_type": "code",
      "metadata": {
        "id": "8GSSBHQHWVmd",
        "colab_type": "code",
        "outputId": "69e8f9f5-ff14-433a-eba2-4e180a72ef75",
        "colab": {
          "base_uri": "https://localhost:8080/",
          "height": 337
        }
      },
      "source": [
        "# Set up variables to contain top 15 most used words in Fake df\n",
        "onion_wc = onion_cvec_df.sum(axis = 0)\n",
        "onion_top_5 = onion_wc.sort_values(ascending=False).head(15)\n",
        "\n",
        "# Call function\n",
        "bar_plot(onion_top_5.values, onion_top_5.index, 'Top 15 unigrams on Fake df','r')"
      ],
      "execution_count": 0,
      "outputs": [
        {
          "output_type": "display_data",
          "data": {
            "image/png": "[encoded data removed]",
            "text/plain": [
              "<Figure size 648x360 with 1 Axes>"
            ]
          },
          "metadata": {
            "tags": [],
            "image/png": {
              "width": 579,
              "height": 320
            },
            "needs_background": "light"
          }
        }
      ]
    },
    {
      "cell_type": "code",
      "metadata": {
        "id": "DQBXJ2b8FCvF",
        "colab_type": "code",
        "outputId": "9c00ed17-8a66-4378-cc02-86a47abf9ccb",
        "colab": {
          "base_uri": "https://localhost:8080/",
          "height": 337
        }
      },
      "source": [
        "# Set up variables to contain top 15 most used words in Onion\n",
        "nonion_wc = not_onion_cvec_df.sum(axis = 0)\n",
        "nonion_top_5 = nonion_wc.sort_values(ascending=False).head(15)\n",
        "\n",
        "# Call function\n",
        "bar_plot(nonion_top_5.values, nonion_top_5.index, 'Top 15 unigrams on True df','b')"
      ],
      "execution_count": 0,
      "outputs": [
        {
          "output_type": "display_data",
          "data": {
            "image/png": "[encoded data removed]",
            "text/plain": [
              "<Figure size 648x360 with 1 Axes>"
            ]
          },
          "metadata": {
            "tags": [],
            "image/png": {
              "width": 592,
              "height": 320
            },
            "needs_background": "light"
          }
        }
      ]
    },
    {
      "cell_type": "code",
      "metadata": {
        "id": "sKFI9JmXWVe5",
        "colab_type": "code",
        "outputId": "fac31150-3ee6-4deb-edea-b20b04318628",
        "colab": {
          "base_uri": "https://localhost:8080/",
          "height": 34
        }
      },
      "source": [
        "# Create list of unique words in top five\n",
        "not_onion_5_set = set(nonion_top_5.index)\n",
        "onion_5_set = set(onion_top_5.index)\n",
        "\n",
        "# Return common words\n",
        "common_unigrams = onion_5_set.intersection(not_onion_5_set)\n",
        "common_unigrams"
      ],
      "execution_count": 0,
      "outputs": [
        {
          "output_type": "execute_result",
          "data": {
            "text/plain": [
              "{'new', 'people', 'president', 'said', 'state', 'trump'}"
            ]
          },
          "metadata": {
            "tags": []
          },
          "execution_count": 36
        }
      ]
    },
    {
      "cell_type": "markdown",
      "metadata": {
        "id": "5Mn-eBALJDpL",
        "colab_type": "text"
      },
      "source": [
        "**-Apply CountVectorize** \n",
        "*   Count Vectorize df where \"label\" is 1\n",
        "*   ngram_range = (2,2)\n",
        "\n",
        "\n"
      ]
    },
    {
      "cell_type": "code",
      "metadata": {
        "id": "zIwAIkjuFCyt",
        "colab_type": "code",
        "colab": {}
      },
      "source": [
        "# Set variables to show Fake Titles\n",
        "mask = df1['label'] == 1\n",
        "df_onion_titles = df1[mask]['articletext']\n",
        "\n",
        "# Instantiate a CountVectorizer\n",
        "cv = CountVectorizer(stop_words = 'english', ngram_range=(2,2))\n",
        "\n",
        "# Fit and transform the vectorizer on our corpus\n",
        "onion_cvec = cv.fit_transform(df_onion_titles)\n",
        "\n",
        "# Convert onion_cvec into a DataFrame\n",
        "onion_cvec_df = pd.DataFrame(onion_cvec.toarray(),\n",
        "                   columns=cv.get_feature_names())\n",
        "\n",
        "# Inspect head of Fake Titles cvec\n",
        "print(onion_cvec_df.shape)"
      ],
      "execution_count": 0,
      "outputs": []
    },
    {
      "cell_type": "markdown",
      "metadata": {
        "id": "KCZCuQB9J5W2",
        "colab_type": "text"
      },
      "source": [
        "***- Apply CountVectorize ***\n",
        "  *   Count Vectorize df where subreddit is 0\n",
        "  *   ngram_range = (2,2) \n",
        "\n",
        "```\n",
        "# This is formatted as code\n",
        "```\n",
        "\n",
        "\n",
        "\n"
      ]
    },
    {
      "cell_type": "code",
      "metadata": {
        "id": "l3vLbixhFC4F",
        "colab_type": "code",
        "colab": {}
      },
      "source": [
        "# Set variables to show True Titles\n",
        "mask = df1['label'] == 0\n",
        "df_not_onion_titles = df1[mask]['articletext']\n",
        "\n",
        "# Instantiate a CountVectorizer\n",
        "cv = CountVectorizer(stop_words = 'english', ngram_range=(2,2))\n",
        "\n",
        "# Fit and transform the vectorizer on our corpus\n",
        "not_onion_cvec = cv.fit_transform(df_not_onion_titles)\n",
        "\n",
        "# Convert onion_cvec into a DataFrame\n",
        "not_onion_cvec_df = pd.DataFrame(not_onion_cvec.toarray(),\n",
        "                   columns=cv.get_feature_names())\n",
        "\n",
        "# Inspect head of  True Titles cvec\n",
        "print(not_onion_cvec_df.shape)"
      ],
      "execution_count": 0,
      "outputs": []
    },
    {
      "cell_type": "code",
      "metadata": {
        "id": "ybVS7DpMFC8S",
        "colab_type": "code",
        "colab": {}
      },
      "source": [
        "# Set up variables to contain top  most used bigrams in Fake df\n",
        "onion_wc = onion_cvec_df.sum(axis = 0)\n",
        "onion_top_5 = onion_wc.sort_values(ascending=False).head(35)\n",
        "\n",
        "# Call function\n",
        "bar_plot(onion_top_5.values, onion_top_5.index, 'Top bigrams on Fake df','r')"
      ],
      "execution_count": 0,
      "outputs": []
    },
    {
      "cell_type": "code",
      "metadata": {
        "id": "1vs8edeQFDZv",
        "colab_type": "code",
        "colab": {}
      },
      "source": [
        "# Set up variables to contain top  most used bigrams in r/nottheonion\n",
        "nonion_wc = not_onion_cvec_df.sum(axis = 0)\n",
        "nonion_top_5 = nonion_wc.sort_values(ascending=False).head(35)\n",
        "\n",
        "# Call function\n",
        "bar_plot(nonion_top_5.values, nonion_top_5.index, 'Top bigrams on True df','b')"
      ],
      "execution_count": 0,
      "outputs": []
    },
    {
      "cell_type": "code",
      "metadata": {
        "id": "kDLQFJLqFDch",
        "colab_type": "code",
        "colab": {}
      },
      "source": [
        "not_onion_5_list = set(nonion_top_5.index)\n",
        "onion_5_list = set(onion_top_5.index)\n",
        "\n",
        "# Return common words\n",
        "common_bigrams = onion_5_list.intersection(not_onion_5_list)\n",
        "common_bigrams"
      ],
      "execution_count": 0,
      "outputs": []
    },
    {
      "cell_type": "markdown",
      "metadata": {
        "id": "RbvayHvRKfea",
        "colab_type": "text"
      },
      "source": [
        "Take out {'barack obama','donald trump','hillary clinton','new york','secretary state','supreme court','trump administration','trump said','united states','white house','year old'} from dataset when modeling, since these words occur frequently in both subreddits."
      ]
    },
    {
      "cell_type": "markdown",
      "metadata": {
        "id": "37V5xlleKrkA",
        "colab_type": "text"
      },
      "source": [
        "Create custom stop_words to include common frequent words\n",
        "Referencing the common most-used words, add them to a customized stop_words list."
      ]
    },
    {
      "cell_type": "code",
      "metadata": {
        "id": "l7PXmJsEFDfJ",
        "colab_type": "code",
        "colab": {}
      },
      "source": [
        ""
      ],
      "execution_count": 0,
      "outputs": []
    },
    {
      "cell_type": "markdown",
      "metadata": {
        "id": "d_BSnKs5KyCA",
        "colab_type": "text"
      },
      "source": [
        "# **Modeling**"
      ]
    },
    {
      "cell_type": "code",
      "metadata": {
        "id": "XLJq-Y33FC2Z",
        "colab_type": "code",
        "colab": {}
      },
      "source": [
        "from sklearn.feature_extraction import stop_words\n",
        "# Create lists \n",
        "custom = stop_words.ENGLISH_STOP_WORDS\n",
        "custom = list(custom)\n",
        "common_unigrams = list(common_unigrams)\n",
        "common_bigrams = list(common_bigrams)\n",
        "\n",
        "# Append unigrams to list \n",
        "for i in common_unigrams:\n",
        "    custom.append(i)\n",
        "\n",
        "    \n",
        "# Append bigrams to list \n",
        "for i in common_bigrams:\n",
        "    split_words = i.split(\" \")\n",
        "    for word in split_words:\n",
        "        custom.append(word)"
      ],
      "execution_count": 0,
      "outputs": []
    },
    {
      "cell_type": "markdown",
      "metadata": {
        "id": "wksLQZl3K8hn",
        "colab_type": "text"
      },
      "source": [
        "####Here I conduct model-prep and use Pipeline and \n",
        "\n",
        "1.   List item\n",
        "2.   List item\n",
        "\n",
        "GridSearch to determine the most optimal model to run my data on.\n"
      ]
    },
    {
      "cell_type": "code",
      "metadata": {
        "id": "5qOo3OoSLCva",
        "colab_type": "code",
        "colab": {}
      },
      "source": [
        "#Baseline Score\n",
        "df1['label'].value_counts(normalize=True)"
      ],
      "execution_count": 0,
      "outputs": []
    },
    {
      "cell_type": "markdown",
      "metadata": {
        "id": "5ABBeLvWLHCn",
        "colab_type": "text"
      },
      "source": [
        "####'I expect my model to be better than 54%. The majority class is 0, or, True. If the model is not better than 54%, I know the model is not performing well.'\n"
      ]
    },
    {
      "cell_type": "code",
      "metadata": {
        "id": "a4iCVIqeLC17",
        "colab_type": "code",
        "colab": {}
      },
      "source": [
        "#Set X (predictor) and y (target) variables\n",
        "X = df1['articletext']\n",
        "y = df1['label']"
      ],
      "execution_count": 0,
      "outputs": []
    },
    {
      "cell_type": "code",
      "metadata": {
        "id": "1wVvryzmLC8X",
        "colab_type": "code",
        "colab": {}
      },
      "source": [
        "#Train/Test Split\n",
        "X_train, X_test, y_train, y_test = train_test_split(X,\n",
        "                                                    y,\n",
        "                                                    random_state=42,\n",
        "                                                    stratify=y)"
      ],
      "execution_count": 0,
      "outputs": []
    },
    {
      "cell_type": "markdown",
      "metadata": {
        "id": "JvVdj3RGLWlK",
        "colab_type": "text"
      },
      "source": [
        "**Model 1**: *CountVectorizer & Logistic Regression*"
      ]
    },
    {
      "cell_type": "code",
      "metadata": {
        "id": "lXrG8SkQLC_1",
        "colab_type": "code",
        "colab": {}
      },
      "source": [
        "from sklearn.linear_model import LogisticRegression\n",
        "from sklearn.model_selection import train_test_split, GridSearchCV\n",
        "from sklearn.pipeline import Pipeline\n",
        "from sklearn.naive_bayes import MultinomialNB\n",
        "from sklearn import metrics\n",
        "from sklearn.metrics import accuracy_score, recall_score, precision_score, confusion_matrix\n",
        "\n",
        "\n",
        "pipe = Pipeline([('cvec', CountVectorizer()),    \n",
        "                 ('lr', LogisticRegression(solver='liblinear'))])\n",
        "\n",
        "# Tune GridSearchCV\n",
        "pipe_params = {'cvec__stop_words': [None, 'english', custom],\n",
        "               'cvec__ngram_range': [(1,1), (2,2), (1,3)],\n",
        "               'lr__C': [0.01, 1]}\n",
        "\n",
        "gs = GridSearchCV(pipe, param_grid=pipe_params, cv=3)\n",
        "gs.fit(X_train, y_train);\n",
        "print(\"Best score:\", gs.best_score_)\n",
        "print(\"Train score\", gs.score(X_train, y_train))\n",
        "print(\"Test score\", gs.score(X_test, y_test))\n",
        "\n",
        "gs.best_params_"
      ],
      "execution_count": 0,
      "outputs": []
    },
    {
      "cell_type": "markdown",
      "metadata": {
        "id": "b_sraM5VM3Vy",
        "colab_type": "text"
      },
      "source": [
        "####while the model is overfit, I am optimizing to get the highest accuracy score in my test set"
      ]
    },
    {
      "cell_type": "markdown",
      "metadata": {
        "id": "UOge9A1jM7ON",
        "colab_type": "text"
      },
      "source": [
        "\n",
        "\n",
        "```\n",
        "# This is formatted as code\n",
        "```\n",
        "\n",
        "**Model 2: TfidfVectorize & Logistic Regression** \n",
        "\n",
        "\n",
        "\n"
      ]
    },
    {
      "cell_type": "code",
      "metadata": {
        "id": "iITodmm4LDH5",
        "colab_type": "code",
        "colab": {}
      },
      "source": [
        "pipe = Pipeline([('tvect', TfidfVectorizer()),    \n",
        "                 ('lr', LogisticRegression(solver='liblinear'))])\n",
        "\n",
        "# Tune GridSearchCV\n",
        "pipe_params = {'tvect__max_df': [.75, .98, 1.0],\n",
        "               'tvect__min_df': [2, 3, 5],\n",
        "               'tvect__ngram_range': [(1,1), (1,2), (1,3)],\n",
        "               'lr__C': [1]}\n",
        "\n",
        "gs = GridSearchCV(pipe, param_grid=pipe_params, cv=3)\n",
        "gs.fit(X_train, y_train);\n",
        "print(\"Best score:\", gs.best_score_)\n",
        "print(\"Train score\", gs.score(X_train, y_train))\n",
        "print(\"Test score\", gs.score(X_test, y_test))\n",
        "\n",
        "gs.best_params_"
      ],
      "execution_count": 0,
      "outputs": []
    },
    {
      "cell_type": "markdown",
      "metadata": {
        "id": "xgW-Mx7WN95n",
        "colab_type": "text"
      },
      "source": [
        "**Model 3: CountVectorizer & MultinomialNB**"
      ]
    },
    {
      "cell_type": "code",
      "metadata": {
        "id": "Iyos8k2QLDNe",
        "colab_type": "code",
        "colab": {}
      },
      "source": [
        "pipe = Pipeline([('cvec', CountVectorizer()),    \n",
        "                 ('nb', MultinomialNB())])\n",
        "\n",
        "# Tune GridSearchCV\n",
        "pipe_params = {'cvec__ngram_range': [(1,1),(1,3)],\n",
        "               'nb__alpha': [.36, .6]}\n",
        "\n",
        "gs = GridSearchCV(pipe, param_grid=pipe_params, cv=3)\n",
        "gs.fit(X_train, y_train);\n",
        "print(\"Best score:\", gs.best_score_)\n",
        "print(\"Train score\", gs.score(X_train, y_train))\n",
        "print(\"Test score\", gs.score(X_test, y_test))\n",
        "\n",
        "gs.best_params_"
      ],
      "execution_count": 0,
      "outputs": []
    },
    {
      "cell_type": "markdown",
      "metadata": {
        "id": "D97FmyF0OkY1",
        "colab_type": "text"
      },
      "source": [
        "**Model 4: TfidfVectorizer & MultinomialN**B"
      ]
    },
    {
      "cell_type": "code",
      "metadata": {
        "id": "HjFGhEsMhst_",
        "colab_type": "code",
        "colab": {}
      },
      "source": [
        "pipe = Pipeline([('tvect', TfidfVectorizer()),    \n",
        "                 ('nb', MultinomialNB())])\n",
        "\n",
        "# Tune GridSearchCV\n",
        "pipe_params = {'tvect__max_df': [.75, .98],\n",
        "               'tvect__min_df': [4, 5],\n",
        "               'tvect__ngram_range': [(1,2), (1,3)],\n",
        "               'nb__alpha': [0.1, 1]}\n",
        "\n",
        "gs = GridSearchCV(pipe, param_grid=pipe_params, cv=5)\n",
        "gs.fit(X_train, y_train);\n",
        "print(\"Best score:\", gs.best_score_)\n",
        "print(\"Train score\", gs.score(X_train, y_train))\n",
        "print(\"Test score\", gs.score(X_test, y_test))\n",
        "\n",
        "gs.best_params_"
      ],
      "execution_count": 0,
      "outputs": []
    },
    {
      "cell_type": "markdown",
      "metadata": {
        "id": "6KMwjAhJOvdf",
        "colab_type": "text"
      },
      "source": [
        "**##CountVectorizer & MultinomialNB**"
      ]
    },
    {
      "cell_type": "code",
      "metadata": {
        "id": "r-D3RRPTjXVU",
        "colab_type": "code",
        "colab": {}
      },
      "source": [
        "#Instantiate the classifier and vectorizer\n",
        "nb = MultinomialNB(alpha = 0.36)\n",
        "cvec = CountVectorizer(ngram_range= (1, 3))\n",
        "\n",
        "# Fit and transform the vectorizor\n",
        "cvec.fit(X_train)\n",
        "\n",
        "Xcvec_train = cvec.transform(X_train)\n",
        "Xcvec_test = cvec.transform(X_test)\n",
        "\n",
        "# Fit the classifier\n",
        "nb.fit(Xcvec_train,y_train)\n",
        "\n",
        "# Create the predictions for Y training data\n",
        "preds = nb.predict(Xcvec_test)\n",
        "\n",
        "print(nb.score(Xcvec_test, y_test))"
      ],
      "execution_count": 0,
      "outputs": []
    },
    {
      "cell_type": "markdown",
      "metadata": {
        "id": "bUJugdtHPDhg",
        "colab_type": "text"
      },
      "source": [
        "#Confusion Matrix"
      ]
    },
    {
      "cell_type": "code",
      "metadata": {
        "id": "8D9xIXhnLDD9",
        "colab_type": "code",
        "colab": {}
      },
      "source": [
        ""
      ],
      "execution_count": 0,
      "outputs": []
    },
    {
      "cell_type": "code",
      "metadata": {
        "id": "6OYlTn4KjW_A",
        "colab_type": "code",
        "colab": {}
      },
      "source": [
        "# Create a confusion matrix\n",
        "cnf_matrix = metrics.confusion_matrix(y_test, preds)\n",
        "cnf_matrix"
      ],
      "execution_count": 0,
      "outputs": []
    },
    {
      "cell_type": "code",
      "metadata": {
        "id": "6NkqidgQPLnh",
        "colab_type": "code",
        "colab": {}
      },
      "source": [
        ""
      ],
      "execution_count": 0,
      "outputs": []
    },
    {
      "cell_type": "code",
      "metadata": {
        "id": "wX-seVjmjW84",
        "colab_type": "code",
        "colab": {}
      },
      "source": [
        "# Code from https://www.datacamp.com/community/tutorials/understanding-logistic-regression-python\n",
        "\n",
        "# name  of classes\n",
        "class_names=[0,1] \n",
        "\n",
        "# Set fig and axes \n",
        "fig, ax = plt.subplots()\n",
        "tick_marks = np.arange(len(class_names))\n",
        "plt.xticks(tick_marks, class_names)\n",
        "plt.yticks(tick_marks, class_names)\n",
        "\n",
        "# Create heatmap\n",
        "sns.heatmap(pd.DataFrame(cnf_matrix), annot=True, cmap=\"YlGnBu\" ,fmt='g')\n",
        "ax.xaxis.set_label_position(\"top\")\n",
        "plt.tight_layout()\n",
        "plt.title('Confusion matrix', y=1.1)\n",
        "plt.ylabel('Actual label')\n",
        "plt.xlabel('Predicted label')"
      ],
      "execution_count": 0,
      "outputs": []
    },
    {
      "cell_type": "code",
      "metadata": {
        "id": "82JE3seDjW52",
        "colab_type": "code",
        "colab": {}
      },
      "source": [
        "# Assign True Neg, False Pos, False Neg, True Pos variables\n",
        "cnf_matrix = np.array(cnf_matrix).tolist()\n",
        "\n",
        "tn_fp, fn_tp = cnf_matrix\n",
        "\n",
        "tn, fp = tn_fp\n",
        "fn, tp = fn_tp"
      ],
      "execution_count": 0,
      "outputs": []
    },
    {
      "cell_type": "code",
      "metadata": {
        "id": "c5gyFCAKjW3O",
        "colab_type": "code",
        "colab": {}
      },
      "source": [
        "\n",
        "print(\"Accuracy:\",round(metrics.accuracy_score(y_test, preds)*100, 2),'%')\n",
        "print(\"Precision:\",round(metrics.precision_score(y_test, preds)*100, 2), '%')\n",
        "print(\"Recall:\",round(metrics.recall_score(y_test, preds)*100, 2), '%')\n",
        "print(\"Specificity:\", round((tn/(tn+fp))*100, 2), '%')\n",
        "print(\"Misclassification Rate:\", round((fp+fn)/(tn+fp+fn+tn)*100, 2), '%')"
      ],
      "execution_count": 0,
      "outputs": []
    },
    {
      "cell_type": "markdown",
      "metadata": {
        "id": "ALlF_pzYPfUU",
        "colab_type": "text"
      },
      "source": [
        ""
      ]
    },
    {
      "cell_type": "code",
      "metadata": {
        "id": "EKOeM8bcBDK9",
        "colab_type": "code",
        "colab": {}
      },
      "source": [
        ""
      ],
      "execution_count": 0,
      "outputs": []
    },
    {
      "cell_type": "code",
      "metadata": {
        "id": "ODY0hX0YPLqt",
        "colab_type": "code",
        "colab": {}
      },
      "source": [
        ""
      ],
      "execution_count": 0,
      "outputs": []
    }
  ]
}