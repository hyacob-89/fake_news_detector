{
  "nbformat": 4,
  "nbformat_minor": 0,
  "metadata": {
    "colab": {
      "name": "fake_news_detector.ipynb",
      "provenance": [],
      "collapsed_sections": [],
      "include_colab_link": true
    },
    "kernelspec": {
      "name": "python3",
      "display_name": "Python 3"
    }
  },
  "cells": [
    {
      "cell_type": "markdown",
      "metadata": {
        "id": "view-in-github",
        "colab_type": "text"
      },
      "source": [
        "<a href=\"https://colab.research.google.com/github/hyacob-89/fake_news_detector/blob/master/fake_news_detector.ipynb\" target=\"_parent\"><img src=\"https://colab.research.google.com/assets/colab-badge.svg\" alt=\"Open In Colab\"/></a>"
      ]
    },
    {
      "cell_type": "markdown",
      "metadata": {
        "id": "43WxoXuPim_p",
        "colab_type": "text"
      },
      "source": [
        "## <u>__Dependencies__<u/>"
      ]
    },
    {
      "cell_type": "code",
      "metadata": {
        "id": "bnfc3TVPWgux",
        "colab_type": "code",
        "outputId": "54238aae-f18f-4aad-f90b-108c989e4f3b",
        "colab": {
          "base_uri": "https://localhost:8080/",
          "height": 105
        }
      },
      "source": [
        "# Basic libraries\n",
        "import numpy as np\n",
        "import pandas as pd\n",
        "\n",
        "# Data Visualization\n",
        "import matplotlib.pyplot as plt\n",
        "import seaborn as sns\n",
        "%config InlineBackend.figure_format = 'retina'\n",
        "%matplotlib inline\n",
        "\n",
        "# Natural Language Processing\n",
        "from sklearn.feature_extraction import stop_words\n",
        "from sklearn.feature_extraction.text import CountVectorizer, TfidfVectorizer\n",
        "\n",
        "# Modeling\n",
        "from sklearn.linear_model import LogisticRegression\n",
        "from sklearn.model_selection import train_test_split, GridSearchCV\n",
        "from sklearn.pipeline import Pipeline\n",
        "from sklearn.naive_bayes import MultinomialNB\n",
        "from sklearn import metrics\n",
        "from sklearn.metrics import accuracy_score, recall_score, precision_score, confusion_matrix"
      ],
      "execution_count": 3,
      "outputs": [
        {
          "output_type": "stream",
          "text": [
            "/usr/local/lib/python3.6/dist-packages/statsmodels/tools/_testing.py:19: FutureWarning: pandas.util.testing is deprecated. Use the functions in the public API at pandas.testing instead.\n",
            "  import pandas.util.testing as tm\n",
            "/usr/local/lib/python3.6/dist-packages/sklearn/utils/deprecation.py:144: FutureWarning: The sklearn.feature_extraction.stop_words module is  deprecated in version 0.22 and will be removed in version 0.24. The corresponding classes / functions should instead be imported from sklearn.feature_extraction.text. Anything that cannot be imported from sklearn.feature_extraction.text is now part of the private API.\n",
            "  warnings.warn(message, FutureWarning)\n"
          ],
          "name": "stderr"
        }
      ]
    },
    {
      "cell_type": "code",
      "metadata": {
        "id": "M3sT2Y-aQtsW",
        "colab_type": "code",
        "colab": {}
      },
      "source": [
        "# Install Java, Spark, and Findspark\n",
        "!apt-get install openjdk-8-jdk-headless -qq > /dev/null\n",
        "!wget -q http://www-us.apache.org/dist/spark/spark-2.4.5/spark-2.4.5-bin-hadoop2.7.tgz\n",
        "!tar xf spark-2.4.5-bin-hadoop2.7.tgz\n",
        "!pip install -q findspark\n",
        "\n",
        "# Set Environment Variables\n",
        "import os\n",
        "os.environ[\"JAVA_HOME\"] = \"/usr/lib/jvm/java-8-openjdk-amd64\"\n",
        "os.environ[\"SPARK_HOME\"] = \"/content/spark-2.4.5-bin-hadoop2.7\"\n",
        "\n",
        "# Start a SparkSession\n",
        "import findspark\n",
        "findspark.init()\n",
        "\n",
        "from pyspark.sql import SparkSession\n",
        "spark = SparkSession.builder.appName(\"CloudETL\").config(\"spark.driver.extraClassPath\",\"/content/postgresql-42.2.9.jar\").getOrCreate()"
      ],
      "execution_count": 0,
      "outputs": []
    },
    {
      "cell_type": "code",
      "metadata": {
        "id": "w-O8f9I6BB2T",
        "colab_type": "code",
        "colab": {}
      },
      "source": [
        "# Importing the dataset\n",
        "fake_df = pd.read_csv(\"/fake_cleaned.csv\")\n",
        "fake_df.head()"
      ],
      "execution_count": 0,
      "outputs": []
    },
    {
      "cell_type": "code",
      "metadata": {
        "id": "KmLTZ2Va5qWi",
        "colab_type": "code",
        "colab": {}
      },
      "source": [
        "# Importing the dataset\n",
        "true_df = pd.read_csv(\"/true_cleaned.csv\")\n",
        "true_df.head()"
      ],
      "execution_count": 0,
      "outputs": []
    },
    {
      "cell_type": "markdown",
      "metadata": {
        "id": "3dFl6O6arVMT",
        "colab_type": "text"
      },
      "source": [
        "**Tokenization**\n",
        "(these couple rows of df2 will not be saved in cvs file)"
      ]
    },
    {
      "cell_type": "code",
      "metadata": {
        "id": "iBw59fJQqIII",
        "colab_type": "code",
        "outputId": "53efd970-e35c-450c-8145-367e05aef673",
        "colab": {
          "base_uri": "https://localhost:8080/",
          "height": 221
        }
      },
      "source": [
        "df2 = pd.concat([fake_df[['articletext','articlesubject', 'label']], true_df[['articletext','articlesubject', 'label']]], axis=0)\n",
        "\n",
        "#Reset the index\n",
        "# df1 = df1.set_index(inplace=True)\n",
        "\n",
        "# r\n",
        "print(\"Shape:\", df2.shape)\n",
        "df2.head()"
      ],
      "execution_count": 20,
      "outputs": [
        {
          "output_type": "stream",
          "text": [
            "Shape: (8002, 3)\n"
          ],
          "name": "stdout"
        },
        {
          "output_type": "execute_result",
          "data": {
            "text/html": [
              "<div>\n",
              "<style scoped>\n",
              "    .dataframe tbody tr th:only-of-type {\n",
              "        vertical-align: middle;\n",
              "    }\n",
              "\n",
              "    .dataframe tbody tr th {\n",
              "        vertical-align: top;\n",
              "    }\n",
              "\n",
              "    .dataframe thead th {\n",
              "        text-align: right;\n",
              "    }\n",
              "</style>\n",
              "<table border=\"1\" class=\"dataframe\">\n",
              "  <thead>\n",
              "    <tr style=\"text-align: right;\">\n",
              "      <th></th>\n",
              "      <th>articletext</th>\n",
              "      <th>articlesubject</th>\n",
              "      <th>label</th>\n",
              "    </tr>\n",
              "  </thead>\n",
              "  <tbody>\n",
              "    <tr>\n",
              "      <th>5376</th>\n",
              "      <td>former beatle george harrison s estate is livi...</td>\n",
              "      <td>News</td>\n",
              "      <td>1</td>\n",
              "    </tr>\n",
              "    <tr>\n",
              "      <th>1227</th>\n",
              "      <td>as former fbi director james comey gave his te...</td>\n",
              "      <td>News</td>\n",
              "      <td>1</td>\n",
              "    </tr>\n",
              "    <tr>\n",
              "      <th>3269</th>\n",
              "      <td>americans have been spending well over trilli...</td>\n",
              "      <td>2016@realDonaldTrump to himself: \"\"You're res...</td>\n",
              "      <td>1</td>\n",
              "    </tr>\n",
              "    <tr>\n",
              "      <th>13910</th>\n",
              "      <td>in typical obama fashion the extravagant tax p...</td>\n",
              "      <td>politics</td>\n",
              "      <td>1</td>\n",
              "    </tr>\n",
              "    <tr>\n",
              "      <th>12675</th>\n",
              "      <td>obama is a scoundrel he ll say anything to sta...</td>\n",
              "      <td>politics</td>\n",
              "      <td>1</td>\n",
              "    </tr>\n",
              "  </tbody>\n",
              "</table>\n",
              "</div>"
            ],
            "text/plain": [
              "                                             articletext  ... label\n",
              "5376   former beatle george harrison s estate is livi...  ...     1\n",
              "1227   as former fbi director james comey gave his te...  ...     1\n",
              "3269    americans have been spending well over trilli...  ...     1\n",
              "13910  in typical obama fashion the extravagant tax p...  ...     1\n",
              "12675  obama is a scoundrel he ll say anything to sta...  ...     1\n",
              "\n",
              "[5 rows x 3 columns]"
            ]
          },
          "metadata": {
            "tags": []
          },
          "execution_count": 20
        }
      ]
    },
    {
      "cell_type": "code",
      "metadata": {
        "id": "PJOHhYlRqSnR",
        "colab_type": "code",
        "outputId": "d98c989e-da59-46d0-a1b8-6634163ae32a",
        "colab": {
          "base_uri": "https://localhost:8080/",
          "height": 34
        }
      },
      "source": [
        "import string\n",
        "string.punctuation"
      ],
      "execution_count": 21,
      "outputs": [
        {
          "output_type": "execute_result",
          "data": {
            "text/plain": [
              "'!\"#$%&\\'()*+,-./:;<=>?@[\\\\]^_`{|}~'"
            ]
          },
          "metadata": {
            "tags": []
          },
          "execution_count": 21
        }
      ]
    },
    {
      "cell_type": "code",
      "metadata": {
        "id": "4DCOm2VWqIxW",
        "colab_type": "code",
        "outputId": "e33e1d1d-4a9c-4be7-f850-3e60b4276e50",
        "colab": {
          "base_uri": "https://localhost:8080/",
          "height": 204
        }
      },
      "source": [
        "#Function to remove Punctuation\n",
        "def remove_punct(text):\n",
        "    text_nopunct = \"\".join([char for char in text if char not in string.punctuation])# It will discard all punctuations\n",
        "    return text_nopunct\n",
        "\n",
        "df2['body_text_clean'] = df2['articletext'].apply(lambda x: remove_punct(x))\n",
        "\n",
        "df2.head()"
      ],
      "execution_count": 22,
      "outputs": [
        {
          "output_type": "execute_result",
          "data": {
            "text/html": [
              "<div>\n",
              "<style scoped>\n",
              "    .dataframe tbody tr th:only-of-type {\n",
              "        vertical-align: middle;\n",
              "    }\n",
              "\n",
              "    .dataframe tbody tr th {\n",
              "        vertical-align: top;\n",
              "    }\n",
              "\n",
              "    .dataframe thead th {\n",
              "        text-align: right;\n",
              "    }\n",
              "</style>\n",
              "<table border=\"1\" class=\"dataframe\">\n",
              "  <thead>\n",
              "    <tr style=\"text-align: right;\">\n",
              "      <th></th>\n",
              "      <th>articletext</th>\n",
              "      <th>articlesubject</th>\n",
              "      <th>label</th>\n",
              "      <th>body_text_clean</th>\n",
              "    </tr>\n",
              "  </thead>\n",
              "  <tbody>\n",
              "    <tr>\n",
              "      <th>5376</th>\n",
              "      <td>former beatle george harrison s estate is livi...</td>\n",
              "      <td>News</td>\n",
              "      <td>1</td>\n",
              "      <td>former beatle george harrison s estate is livi...</td>\n",
              "    </tr>\n",
              "    <tr>\n",
              "      <th>1227</th>\n",
              "      <td>as former fbi director james comey gave his te...</td>\n",
              "      <td>News</td>\n",
              "      <td>1</td>\n",
              "      <td>as former fbi director james comey gave his te...</td>\n",
              "    </tr>\n",
              "    <tr>\n",
              "      <th>3269</th>\n",
              "      <td>americans have been spending well over trilli...</td>\n",
              "      <td>2016@realDonaldTrump to himself: \"\"You're res...</td>\n",
              "      <td>1</td>\n",
              "      <td>americans have been spending well over trilli...</td>\n",
              "    </tr>\n",
              "    <tr>\n",
              "      <th>13910</th>\n",
              "      <td>in typical obama fashion the extravagant tax p...</td>\n",
              "      <td>politics</td>\n",
              "      <td>1</td>\n",
              "      <td>in typical obama fashion the extravagant tax p...</td>\n",
              "    </tr>\n",
              "    <tr>\n",
              "      <th>12675</th>\n",
              "      <td>obama is a scoundrel he ll say anything to sta...</td>\n",
              "      <td>politics</td>\n",
              "      <td>1</td>\n",
              "      <td>obama is a scoundrel he ll say anything to sta...</td>\n",
              "    </tr>\n",
              "  </tbody>\n",
              "</table>\n",
              "</div>"
            ],
            "text/plain": [
              "                                             articletext  ...                                    body_text_clean\n",
              "5376   former beatle george harrison s estate is livi...  ...  former beatle george harrison s estate is livi...\n",
              "1227   as former fbi director james comey gave his te...  ...  as former fbi director james comey gave his te...\n",
              "3269    americans have been spending well over trilli...  ...   americans have been spending well over trilli...\n",
              "13910  in typical obama fashion the extravagant tax p...  ...  in typical obama fashion the extravagant tax p...\n",
              "12675  obama is a scoundrel he ll say anything to sta...  ...  obama is a scoundrel he ll say anything to sta...\n",
              "\n",
              "[5 rows x 4 columns]"
            ]
          },
          "metadata": {
            "tags": []
          },
          "execution_count": 22
        }
      ]
    },
    {
      "cell_type": "code",
      "metadata": {
        "id": "61jHLejNqne-",
        "colab_type": "code",
        "outputId": "bbccf66e-66c2-4e96-a8e9-b1f6c29a5ec6",
        "colab": {
          "base_uri": "https://localhost:8080/",
          "height": 289
        }
      },
      "source": [
        "import re\n",
        "# Function to Tokenize words\n",
        "def tokenize(text):\n",
        "    tokens = re.split('\\W+', text) #W+ means that either a word character (A-Za-z0-9_) or a dash (-) can go there.\n",
        "    return tokens\n",
        "\n",
        "df2['body_text_tokenized'] = df2['body_text_clean'].apply(lambda x: tokenize(x.lower())) \n",
        "#We convert to lower as Python is case-sensitive. \n",
        "\n",
        "df2.head()"
      ],
      "execution_count": 23,
      "outputs": [
        {
          "output_type": "execute_result",
          "data": {
            "text/html": [
              "<div>\n",
              "<style scoped>\n",
              "    .dataframe tbody tr th:only-of-type {\n",
              "        vertical-align: middle;\n",
              "    }\n",
              "\n",
              "    .dataframe tbody tr th {\n",
              "        vertical-align: top;\n",
              "    }\n",
              "\n",
              "    .dataframe thead th {\n",
              "        text-align: right;\n",
              "    }\n",
              "</style>\n",
              "<table border=\"1\" class=\"dataframe\">\n",
              "  <thead>\n",
              "    <tr style=\"text-align: right;\">\n",
              "      <th></th>\n",
              "      <th>articletext</th>\n",
              "      <th>articlesubject</th>\n",
              "      <th>label</th>\n",
              "      <th>body_text_clean</th>\n",
              "      <th>body_text_tokenized</th>\n",
              "    </tr>\n",
              "  </thead>\n",
              "  <tbody>\n",
              "    <tr>\n",
              "      <th>5376</th>\n",
              "      <td>former beatle george harrison s estate is livi...</td>\n",
              "      <td>News</td>\n",
              "      <td>1</td>\n",
              "      <td>former beatle george harrison s estate is livi...</td>\n",
              "      <td>[former, beatle, george, harrison, s, estate, ...</td>\n",
              "    </tr>\n",
              "    <tr>\n",
              "      <th>1227</th>\n",
              "      <td>as former fbi director james comey gave his te...</td>\n",
              "      <td>News</td>\n",
              "      <td>1</td>\n",
              "      <td>as former fbi director james comey gave his te...</td>\n",
              "      <td>[as, former, fbi, director, james, comey, gave...</td>\n",
              "    </tr>\n",
              "    <tr>\n",
              "      <th>3269</th>\n",
              "      <td>americans have been spending well over trilli...</td>\n",
              "      <td>2016@realDonaldTrump to himself: \"\"You're res...</td>\n",
              "      <td>1</td>\n",
              "      <td>americans have been spending well over trilli...</td>\n",
              "      <td>[, americans, have, been, spending, well, over...</td>\n",
              "    </tr>\n",
              "    <tr>\n",
              "      <th>13910</th>\n",
              "      <td>in typical obama fashion the extravagant tax p...</td>\n",
              "      <td>politics</td>\n",
              "      <td>1</td>\n",
              "      <td>in typical obama fashion the extravagant tax p...</td>\n",
              "      <td>[in, typical, obama, fashion, the, extravagant...</td>\n",
              "    </tr>\n",
              "    <tr>\n",
              "      <th>12675</th>\n",
              "      <td>obama is a scoundrel he ll say anything to sta...</td>\n",
              "      <td>politics</td>\n",
              "      <td>1</td>\n",
              "      <td>obama is a scoundrel he ll say anything to sta...</td>\n",
              "      <td>[obama, is, a, scoundrel, he, ll, say, anythin...</td>\n",
              "    </tr>\n",
              "  </tbody>\n",
              "</table>\n",
              "</div>"
            ],
            "text/plain": [
              "                                             articletext  ...                                body_text_tokenized\n",
              "5376   former beatle george harrison s estate is livi...  ...  [former, beatle, george, harrison, s, estate, ...\n",
              "1227   as former fbi director james comey gave his te...  ...  [as, former, fbi, director, james, comey, gave...\n",
              "3269    americans have been spending well over trilli...  ...  [, americans, have, been, spending, well, over...\n",
              "13910  in typical obama fashion the extravagant tax p...  ...  [in, typical, obama, fashion, the, extravagant...\n",
              "12675  obama is a scoundrel he ll say anything to sta...  ...  [obama, is, a, scoundrel, he, ll, say, anythin...\n",
              "\n",
              "[5 rows x 5 columns]"
            ]
          },
          "metadata": {
            "tags": []
          },
          "execution_count": 23
        }
      ]
    },
    {
      "cell_type": "code",
      "metadata": {
        "id": "JkTg858Bq1Qn",
        "colab_type": "code",
        "colab": {}
      },
      "source": [
        ""
      ],
      "execution_count": 0,
      "outputs": []
    },
    {
      "cell_type": "code",
      "metadata": {
        "id": "An42l9nR9IR1",
        "colab_type": "code",
        "colab": {}
      },
      "source": [
        "\n",
        "\n"
      ],
      "execution_count": 0,
      "outputs": []
    },
    {
      "cell_type": "code",
      "metadata": {
        "colab_type": "code",
        "id": "I_M-hd9GAczg",
        "colab": {}
      },
      "source": [
        "#Modeling"
      ],
      "execution_count": 0,
      "outputs": []
    },
    {
      "cell_type": "code",
      "metadata": {
        "colab_type": "code",
        "id": "WOnfRMM7AZK6",
        "outputId": "9c7daf63-4028-4325-c1cd-68b61dafa7cf",
        "colab": {
          "base_uri": "https://localhost:8080/",
          "height": 221
        }
      },
      "source": [
        "df1 = pd.concat([fake_df[['articletext','articlesubject', 'label']], true_df[['articletext','articlesubject', 'label']]], axis=0)\n",
        "\n",
        "#Reset the index\n",
        "# df1 = df1.set_index(inplace=True)\n",
        "\n",
        "# r\n",
        "print(\"Shape:\", df1.shape)\n",
        "df1.head()\n",
        "# df1.drop(df1.index[[2]], inplace=True)\n",
        "# df1.head()"
      ],
      "execution_count": 40,
      "outputs": [
        {
          "output_type": "stream",
          "text": [
            "Shape: (8002, 3)\n"
          ],
          "name": "stdout"
        },
        {
          "output_type": "execute_result",
          "data": {
            "text/html": [
              "<div>\n",
              "<style scoped>\n",
              "    .dataframe tbody tr th:only-of-type {\n",
              "        vertical-align: middle;\n",
              "    }\n",
              "\n",
              "    .dataframe tbody tr th {\n",
              "        vertical-align: top;\n",
              "    }\n",
              "\n",
              "    .dataframe thead th {\n",
              "        text-align: right;\n",
              "    }\n",
              "</style>\n",
              "<table border=\"1\" class=\"dataframe\">\n",
              "  <thead>\n",
              "    <tr style=\"text-align: right;\">\n",
              "      <th></th>\n",
              "      <th>articletext</th>\n",
              "      <th>articlesubject</th>\n",
              "      <th>label</th>\n",
              "    </tr>\n",
              "  </thead>\n",
              "  <tbody>\n",
              "    <tr>\n",
              "      <th>0</th>\n",
              "      <td>former beatle george harrison s estate is livi...</td>\n",
              "      <td>News</td>\n",
              "      <td>1</td>\n",
              "    </tr>\n",
              "    <tr>\n",
              "      <th>1</th>\n",
              "      <td>as former fbi director james comey gave his te...</td>\n",
              "      <td>News</td>\n",
              "      <td>1</td>\n",
              "    </tr>\n",
              "    <tr>\n",
              "      <th>3</th>\n",
              "      <td>in typical obama fashion the extravagant tax p...</td>\n",
              "      <td>politics</td>\n",
              "      <td>1</td>\n",
              "    </tr>\n",
              "    <tr>\n",
              "      <th>4</th>\n",
              "      <td>obama is a scoundrel he ll say anything to sta...</td>\n",
              "      <td>politics</td>\n",
              "      <td>1</td>\n",
              "    </tr>\n",
              "    <tr>\n",
              "      <th>5</th>\n",
              "      <td>one of the gop s biggest donors who used to be...</td>\n",
              "      <td>News</td>\n",
              "      <td>1</td>\n",
              "    </tr>\n",
              "  </tbody>\n",
              "</table>\n",
              "</div>"
            ],
            "text/plain": [
              "                                         articletext articlesubject  label\n",
              "0  former beatle george harrison s estate is livi...           News      1\n",
              "1  as former fbi director james comey gave his te...           News      1\n",
              "3  in typical obama fashion the extravagant tax p...       politics      1\n",
              "4  obama is a scoundrel he ll say anything to sta...       politics      1\n",
              "5  one of the gop s biggest donors who used to be...           News      1"
            ]
          },
          "metadata": {
            "tags": []
          },
          "execution_count": 40
        }
      ]
    },
    {
      "cell_type": "markdown",
      "metadata": {
        "id": "hn5k_j_ziEDJ",
        "colab_type": "text"
      },
      "source": [
        "## <u>__Data Analysis__<u/>"
      ]
    },
    {
      "cell_type": "code",
      "metadata": {
        "id": "esHEf8q-WVH2",
        "colab_type": "code",
        "colab": {}
      },
      "source": [
        "# define function for graphs\n",
        "def bar_plot(x, y, title, color):    \n",
        "    \n",
        "    # Set up barplot \n",
        "    plt.figure(figsize=(9,5))\n",
        "    g=sns.barplot(x, y, color = color)    \n",
        "    ax=g\n",
        "\n",
        "    # Label the graph\n",
        "    plt.title(title, fontsize = 15)\n",
        "    plt.xticks(fontsize = 10)\n",
        "\n",
        "    # Enable bar values\n",
        "    # Code modified from http://robertmitchellv.com/blog-bar-chart-annotations-pandas-mpl.html\n",
        "    # create a list to collect the plt.patches data\n",
        "    totals = []\n",
        "\n",
        "    # find the values and append to list\n",
        "    for p in ax.patches:\n",
        "        totals.append(p.get_width())\n",
        "\n",
        "    # set individual bar lables using above list\n",
        "    total = sum(totals)\n",
        "\n",
        "    # set individual bar lables using above list\n",
        "    for p in ax.patches:\n",
        "        # get_width pulls left or right; get_y pushes up or down\n",
        "        ax.text(p.get_width()+.3, p.get_y()+.38, \\\n",
        "                int(p.get_width()), fontsize=10)"
      ],
      "execution_count": 0,
      "outputs": []
    },
    {
      "cell_type": "code",
      "metadata": {
        "id": "u52p9USbiIe5",
        "colab_type": "code",
        "outputId": "d4063537-5467-4729-bf7c-a20f5bf2d3ea",
        "colab": {
          "base_uri": "https://localhost:8080/",
          "height": 337
        }
      },
      "source": [
        "# Set x values: # of posts for both datasets\n",
        "df_domain = df1['articlesubject'].value_counts() \n",
        "df_domain = df_domain.sort_values(ascending=False).head(5)\n",
        "\n",
        "# Set y values: Domains \n",
        "df_domain_index = list(df_domain.index)\n",
        "\n",
        "# Call function\n",
        "bar_plot(df_domain.values, df_domain_index, 'Most Referenced Subjects in Total:' ,'r')"
      ],
      "execution_count": 42,
      "outputs": [
        {
          "output_type": "display_data",
          "data": {
            "image/png": "[encoded data removed]",
            "text/plain": [
              "<Figure size 648x360 with 1 Axes>"
            ]
          },
          "metadata": {
            "tags": [],
            "image/png": {
              "width": 587,
              "height": 320
            },
            "needs_background": "light"
          }
        }
      ]
    },
    {
      "cell_type": "code",
      "metadata": {
        "id": "JeNWNCk0iJgh",
        "colab_type": "code",
        "colab": {}
      },
      "source": [
        ""
      ],
      "execution_count": 0,
      "outputs": []
    },
    {
      "cell_type": "code",
      "metadata": {
        "colab_type": "code",
        "outputId": "8ebd27db-f8bf-4105-f545-3e9837e119c7",
        "id": "jIVAXmpYCF03",
        "colab": {
          "base_uri": "https://localhost:8080/",
          "height": 337
        }
      },
      "source": [
        "# Set x values: # of posts fake df\n",
        "df_domain = fake_df['articlesubject'].value_counts() \n",
        "df_domain = df_domain.sort_values(ascending=False).head(5)\n",
        "\n",
        "# Set y values: Domains \n",
        "df_domain_index = list(df_domain.index)\n",
        "\n",
        "# Call function\n",
        "bar_plot(df_domain.values, df_domain_index, 'Most Referenced Subjects for FakeNews.csv:' ,'r')"
      ],
      "execution_count": 43,
      "outputs": [
        {
          "output_type": "display_data",
          "data": {
            "image/png": "[encoded data removed]",
            "text/plain": [
              "<Figure size 648x360 with 1 Axes>"
            ]
          },
          "metadata": {
            "tags": [],
            "image/png": {
              "width": 618,
              "height": 320
            },
            "needs_background": "light"
          }
        }
      ]
    },
    {
      "cell_type": "code",
      "metadata": {
        "id": "Zw4u3wWwiJth",
        "colab_type": "code",
        "colab": {}
      },
      "source": [
        ""
      ],
      "execution_count": 0,
      "outputs": []
    },
    {
      "cell_type": "code",
      "metadata": {
        "colab_type": "code",
        "outputId": "362b987b-f6ca-4085-e7c5-efe792a6cf0e",
        "id": "IEINND_aCRaT",
        "colab": {
          "base_uri": "https://localhost:8080/",
          "height": 337
        }
      },
      "source": [
        "# Set x values: # of posts for true df\n",
        "df_domain = true_df['articlesubject'].value_counts() \n",
        "df_domain = df_domain.sort_values(ascending=False).head(5)\n",
        "\n",
        "# Set y values: Domains \n",
        "df_domain_index = list(df_domain.index)\n",
        "\n",
        "# Call function\n",
        "bar_plot(df_domain.values, df_domain_index, 'Most Referenced Subjects for TrueNews.csv:' ,'r')"
      ],
      "execution_count": 44,
      "outputs": [
        {
          "output_type": "display_data",
          "data": {
            "image/png": "[encoded data removed]",
            "text/plain": [
              "<Figure size 648x360 with 1 Axes>"
            ]
          },
          "metadata": {
            "tags": [],
            "image/png": {
              "width": 587,
              "height": 320
            },
            "needs_background": "light"
          }
        }
      ]
    },
    {
      "cell_type": "markdown",
      "metadata": {
        "id": "W7FhTBvSCkmp",
        "colab_type": "text"
      },
      "source": [
        "*Natural Language Processing (NLP)*"
      ]
    },
    {
      "cell_type": "markdown",
      "metadata": {
        "id": "f65KPaMmDEIn",
        "colab_type": "text"
      },
      "source": [
        "**- Apply CountVectorizer()**\n",
        "\n",
        "*   Count Vectorize df1 where 'label' is 1\n",
        "*   ngram_range = (1,1)\n",
        "\n"
      ]
    },
    {
      "cell_type": "code",
      "metadata": {
        "id": "IeITteE0ihN_",
        "colab_type": "code",
        "outputId": "26246cbc-0a31-44da-f33d-305ea0da65c2",
        "colab": {
          "base_uri": "https://localhost:8080/",
          "height": 34
        }
      },
      "source": [
        "# Set variables to show Fake Titles\n",
        "mask_on = df1['label'] == 1\n",
        "df_onion_titles = df1[mask_on]['articletext']\n",
        "\n",
        "# Instantiate a CountVectorizer\n",
        "cv1 = CountVectorizer(stop_words = 'english')\n",
        "\n",
        "# Fit and transform the vectorizer on our corpus\n",
        "onion_cvec = cv1.fit_transform(df_onion_titles)\n",
        "\n",
        "# Convert onion_cvec into a DataFrame\n",
        "onion_cvec_df = pd.DataFrame(onion_cvec.toarray(),\n",
        "                   columns=cv1.get_feature_names())\n",
        "\n",
        "# Inspect head of fake Titles cvec\n",
        "print(onion_cvec_df.shape)"
      ],
      "execution_count": 45,
      "outputs": [
        {
          "output_type": "stream",
          "text": [
            "(4000, 38570)\n"
          ],
          "name": "stdout"
        }
      ]
    },
    {
      "cell_type": "markdown",
      "metadata": {
        "id": "8AG1iY8hD0TY",
        "colab_type": "text"
      },
      "source": [
        "\n",
        "-**Apply CountVectorizer()**\n",
        "   *   Vectorize df where 'label' is 0\n",
        "   *   ngram_range = (1,1)\n",
        "\n"
      ]
    },
    {
      "cell_type": "code",
      "metadata": {
        "id": "oR4y3cUzihX-",
        "colab_type": "code",
        "outputId": "1fb87d3f-6663-47b1-f25c-f541b59ed1f8",
        "colab": {
          "base_uri": "https://localhost:8080/",
          "height": 34
        }
      },
      "source": [
        "mask_no = df1['label'] == 0\n",
        "df_not_onion_titles = df1[mask_no]['articletext']\n",
        "\n",
        "# Instantiate a CountVectorizer\n",
        "cv2 = CountVectorizer(stop_words = 'english')\n",
        "\n",
        "# Fit and transform the vectorizer on our corpus\n",
        "not_onion_cvec = cv2.fit_transform(df_not_onion_titles)\n",
        "\n",
        "# Convert onion_cvec into a DataFrame\n",
        "not_onion_cvec_df = pd.DataFrame(not_onion_cvec.toarray(),\n",
        "                   columns=cv2.get_feature_names())\n",
        "\n",
        "# Inspect head of Not Onion Titles cvec\n",
        "print(not_onion_cvec_df.shape)"
      ],
      "execution_count": 46,
      "outputs": [
        {
          "output_type": "stream",
          "text": [
            "(4000, 32054)\n"
          ],
          "name": "stdout"
        }
      ]
    },
    {
      "cell_type": "code",
      "metadata": {
        "id": "8GSSBHQHWVmd",
        "colab_type": "code",
        "outputId": "ecd30e5b-c8b4-4e86-b99f-96d27574abd3",
        "colab": {
          "base_uri": "https://localhost:8080/",
          "height": 337
        }
      },
      "source": [
        "# Set up variables to contain top 15 most used words in Fake df\n",
        "onion_wc = onion_cvec_df.sum(axis = 0)\n",
        "onion_top_5 = onion_wc.sort_values(ascending=False).head(15)\n",
        "\n",
        "# Call function\n",
        "bar_plot(onion_top_5.values, onion_top_5.index, 'Top 15 unigrams on Fake df','r')"
      ],
      "execution_count": 47,
      "outputs": [
        {
          "output_type": "display_data",
          "data": {
            "image/png": "[encoded data removed]",
            "text/plain": [
              "<Figure size 648x360 with 1 Axes>"
            ]
          },
          "metadata": {
            "tags": [],
            "image/png": {
              "width": 578,
              "height": 320
            },
            "needs_background": "light"
          }
        }
      ]
    },
    {
      "cell_type": "code",
      "metadata": {
        "id": "DQBXJ2b8FCvF",
        "colab_type": "code",
        "outputId": "86e47dc4-5a75-41da-c064-6f6ecdb5228c",
        "colab": {
          "base_uri": "https://localhost:8080/",
          "height": 337
        }
      },
      "source": [
        "# Set up variables to contain top 15 most used words in Onion\n",
        "nonion_wc = not_onion_cvec_df.sum(axis = 0)\n",
        "nonion_top_5 = nonion_wc.sort_values(ascending=False).head(15)\n",
        "\n",
        "# Call function\n",
        "bar_plot(nonion_top_5.values, nonion_top_5.index, 'Top 15 unigrams on True df','b')"
      ],
      "execution_count": 48,
      "outputs": [
        {
          "output_type": "display_data",
          "data": {
            "image/png": "[encoded data removed]",
            "text/plain": [
              "<Figure size 648x360 with 1 Axes>"
            ]
          },
          "metadata": {
            "tags": [],
            "image/png": {
              "width": 592,
              "height": 320
            },
            "needs_background": "light"
          }
        }
      ]
    },
    {
      "cell_type": "code",
      "metadata": {
        "id": "sKFI9JmXWVe5",
        "colab_type": "code",
        "outputId": "4beb26d6-fec2-4ec2-cdd0-49b1eb867cac",
        "colab": {
          "base_uri": "https://localhost:8080/",
          "height": 34
        }
      },
      "source": [
        "# Create list of unique words in top five\n",
        "not_onion_5_set = set(nonion_top_5.index)\n",
        "onion_5_set = set(onion_top_5.index)\n",
        "\n",
        "# Return common words\n",
        "common_unigrams = onion_5_set.intersection(not_onion_5_set)\n",
        "common_unigrams"
      ],
      "execution_count": 49,
      "outputs": [
        {
          "output_type": "execute_result",
          "data": {
            "text/plain": [
              "{'new', 'people', 'president', 'said', 'state', 'trump'}"
            ]
          },
          "metadata": {
            "tags": []
          },
          "execution_count": 49
        }
      ]
    },
    {
      "cell_type": "markdown",
      "metadata": {
        "id": "5Mn-eBALJDpL",
        "colab_type": "text"
      },
      "source": [
        "**-Apply CountVectorize** \n",
        "*   Count Vectorize df where \"label\" is 1\n",
        "*   ngram_range = (2,2)\n",
        "\n",
        "\n"
      ]
    },
    {
      "cell_type": "code",
      "metadata": {
        "id": "zIwAIkjuFCyt",
        "colab_type": "code",
        "colab": {
          "base_uri": "https://localhost:8080/",
          "height": 232
        },
        "outputId": "f021c24f-52e6-4b21-e166-a55f2e3aa134"
      },
      "source": [
        "# Set variables to show Fake Titles\n",
        "mask = df1['label'] == 1\n",
        "df_onion_titles = df1[mask]['articletext']\n",
        "\n",
        "# Instantiate a CountVectorizer\n",
        "cv = CountVectorizer(stop_words = 'english', ngram_range=(2,2))\n",
        "\n",
        "# Fit and transform the vectorizer on our corpus\n",
        "onion_cvec = cv.fit_transform(df_onion_titles)\n",
        "\n",
        "# Convert onion_cvec into a DataFrame\n",
        "onion_cvec_df = pd.DataFrame(onion_cvec.toarray(),\n",
        "                   columns=cv.get_feature_names())\n",
        "\n",
        "# Inspect head of Fake Titles cvec\n",
        "print(onion_cvec_df.shape)"
      ],
      "execution_count": 2,
      "outputs": [
        {
          "output_type": "error",
          "ename": "NameError",
          "evalue": "ignored",
          "traceback": [
            "\u001b[0;31m---------------------------------------------------------------------------\u001b[0m",
            "\u001b[0;31mNameError\u001b[0m                                 Traceback (most recent call last)",
            "\u001b[0;32m<ipython-input-2-fcea89e4dab3>\u001b[0m in \u001b[0;36m<module>\u001b[0;34m()\u001b[0m\n\u001b[1;32m      1\u001b[0m \u001b[0;31m# Set variables to show Fake Titles\u001b[0m\u001b[0;34m\u001b[0m\u001b[0;34m\u001b[0m\u001b[0;34m\u001b[0m\u001b[0m\n\u001b[0;32m----> 2\u001b[0;31m \u001b[0mmask\u001b[0m \u001b[0;34m=\u001b[0m \u001b[0mdf1\u001b[0m\u001b[0;34m[\u001b[0m\u001b[0;34m'label'\u001b[0m\u001b[0;34m]\u001b[0m \u001b[0;34m==\u001b[0m \u001b[0;36m1\u001b[0m\u001b[0;34m\u001b[0m\u001b[0;34m\u001b[0m\u001b[0m\n\u001b[0m\u001b[1;32m      3\u001b[0m \u001b[0mdf_onion_titles\u001b[0m \u001b[0;34m=\u001b[0m \u001b[0mdf1\u001b[0m\u001b[0;34m[\u001b[0m\u001b[0mmask\u001b[0m\u001b[0;34m]\u001b[0m\u001b[0;34m[\u001b[0m\u001b[0;34m'articletext'\u001b[0m\u001b[0;34m]\u001b[0m\u001b[0;34m\u001b[0m\u001b[0;34m\u001b[0m\u001b[0m\n\u001b[1;32m      4\u001b[0m \u001b[0;34m\u001b[0m\u001b[0m\n\u001b[1;32m      5\u001b[0m \u001b[0;31m# Instantiate a CountVectorizer\u001b[0m\u001b[0;34m\u001b[0m\u001b[0;34m\u001b[0m\u001b[0;34m\u001b[0m\u001b[0m\n",
            "\u001b[0;31mNameError\u001b[0m: name 'df1' is not defined"
          ]
        }
      ]
    },
    {
      "cell_type": "markdown",
      "metadata": {
        "id": "KCZCuQB9J5W2",
        "colab_type": "text"
      },
      "source": [
        "***- Apply CountVectorize ***\n",
        "  *   Count Vectorize df where subreddit is 0\n",
        "  *   ngram_range = (2,2) \n",
        "\n",
        "```\n",
        "# This is formatted as code\n",
        "```\n",
        "\n",
        "\n",
        "\n"
      ]
    },
    {
      "cell_type": "code",
      "metadata": {
        "id": "l3vLbixhFC4F",
        "colab_type": "code",
        "colab": {
          "base_uri": "https://localhost:8080/",
          "height": 232
        },
        "outputId": "2d9e9183-d4e5-49ed-a949-fb92a9884182"
      },
      "source": [
        "# Set variables to show True Titles\n",
        "mask = df1['label'] == 0\n",
        "df_not_onion_titles = df1[mask]['articletext']\n",
        "\n",
        "# Instantiate a CountVectorizer\n",
        "cv = CountVectorizer(stop_words = 'english', ngram_range=(2,2))\n",
        "\n",
        "# Fit and transform the vectorizer on our corpus\n",
        "not_onion_cvec = cv.fit_transform(df_not_onion_titles)\n",
        "\n",
        "# Convert onion_cvec into a DataFrame\n",
        "not_onion_cvec_df = pd.DataFrame(not_onion_cvec.toarray(),\n",
        "                   columns=cv.get_feature_names())\n",
        "\n",
        "# Inspect head of  True Titles cvec\n",
        "print(not_onion_cvec_df.shape)"
      ],
      "execution_count": 1,
      "outputs": [
        {
          "output_type": "error",
          "ename": "NameError",
          "evalue": "ignored",
          "traceback": [
            "\u001b[0;31m---------------------------------------------------------------------------\u001b[0m",
            "\u001b[0;31mNameError\u001b[0m                                 Traceback (most recent call last)",
            "\u001b[0;32m<ipython-input-1-88032c2fa761>\u001b[0m in \u001b[0;36m<module>\u001b[0;34m()\u001b[0m\n\u001b[1;32m      1\u001b[0m \u001b[0;31m# Set variables to show True Titles\u001b[0m\u001b[0;34m\u001b[0m\u001b[0;34m\u001b[0m\u001b[0;34m\u001b[0m\u001b[0m\n\u001b[0;32m----> 2\u001b[0;31m \u001b[0mmask\u001b[0m \u001b[0;34m=\u001b[0m \u001b[0mdf1\u001b[0m\u001b[0;34m[\u001b[0m\u001b[0;34m'label'\u001b[0m\u001b[0;34m]\u001b[0m \u001b[0;34m==\u001b[0m \u001b[0;36m0\u001b[0m\u001b[0;34m\u001b[0m\u001b[0;34m\u001b[0m\u001b[0m\n\u001b[0m\u001b[1;32m      3\u001b[0m \u001b[0mdf_not_onion_titles\u001b[0m \u001b[0;34m=\u001b[0m \u001b[0mdf1\u001b[0m\u001b[0;34m[\u001b[0m\u001b[0mmask\u001b[0m\u001b[0;34m]\u001b[0m\u001b[0;34m[\u001b[0m\u001b[0;34m'articletext'\u001b[0m\u001b[0;34m]\u001b[0m\u001b[0;34m\u001b[0m\u001b[0;34m\u001b[0m\u001b[0m\n\u001b[1;32m      4\u001b[0m \u001b[0;34m\u001b[0m\u001b[0m\n\u001b[1;32m      5\u001b[0m \u001b[0;31m# Instantiate a CountVectorizer\u001b[0m\u001b[0;34m\u001b[0m\u001b[0;34m\u001b[0m\u001b[0;34m\u001b[0m\u001b[0m\n",
            "\u001b[0;31mNameError\u001b[0m: name 'df1' is not defined"
          ]
        }
      ]
    },
    {
      "cell_type": "code",
      "metadata": {
        "id": "ybVS7DpMFC8S",
        "colab_type": "code",
        "colab": {}
      },
      "source": [
        "# Set up variables to contain top  most used bigrams in Fake df\n",
        "onion_wc = onion_cvec_df.sum(axis = 0)\n",
        "onion_top_5 = onion_wc.sort_values(ascending=False).head(35)\n",
        "\n",
        "# Call function\n",
        "bar_plot(onion_top_5.values, onion_top_5.index, 'Top bigrams on Fake df','r')"
      ],
      "execution_count": 0,
      "outputs": []
    },
    {
      "cell_type": "code",
      "metadata": {
        "id": "1vs8edeQFDZv",
        "colab_type": "code",
        "colab": {}
      },
      "source": [
        "# Set up variables to contain top  most used bigrams in r/nottheonion\n",
        "nonion_wc = not_onion_cvec_df.sum(axis = 0)\n",
        "nonion_top_5 = nonion_wc.sort_values(ascending=False).head(35)\n",
        "\n",
        "# Call function\n",
        "bar_plot(nonion_top_5.values, nonion_top_5.index, 'Top bigrams on True df','b')"
      ],
      "execution_count": 0,
      "outputs": []
    },
    {
      "cell_type": "code",
      "metadata": {
        "id": "kDLQFJLqFDch",
        "colab_type": "code",
        "colab": {}
      },
      "source": [
        "not_onion_5_list = set(nonion_top_5.index)\n",
        "onion_5_list = set(onion_top_5.index)\n",
        "\n",
        "# Return common words\n",
        "common_bigrams = onion_5_list.intersection(not_onion_5_list)\n",
        "common_bigrams"
      ],
      "execution_count": 0,
      "outputs": []
    },
    {
      "cell_type": "markdown",
      "metadata": {
        "id": "RbvayHvRKfea",
        "colab_type": "text"
      },
      "source": [
        "Take out {'barack obama','donald trump','hillary clinton','new york','secretary state','supreme court','trump administration','trump said','united states','white house','year old'} from dataset when modeling, since these words occur frequently in both subreddits."
      ]
    },
    {
      "cell_type": "markdown",
      "metadata": {
        "id": "37V5xlleKrkA",
        "colab_type": "text"
      },
      "source": [
        "Create custom stop_words to include common frequent words\n",
        "Referencing the common most-used words, add them to a customized stop_words list."
      ]
    },
    {
      "cell_type": "code",
      "metadata": {
        "id": "l7PXmJsEFDfJ",
        "colab_type": "code",
        "colab": {}
      },
      "source": [
        ""
      ],
      "execution_count": 0,
      "outputs": []
    },
    {
      "cell_type": "markdown",
      "metadata": {
        "id": "d_BSnKs5KyCA",
        "colab_type": "text"
      },
      "source": [
        "# **Modeling**"
      ]
    },
    {
      "cell_type": "code",
      "metadata": {
        "id": "XLJq-Y33FC2Z",
        "colab_type": "code",
        "colab": {}
      },
      "source": [
        "from sklearn.feature_extraction import stop_words\n",
        "# Create lists \n",
        "custom = stop_words.ENGLISH_STOP_WORDS\n",
        "custom = list(custom)\n",
        "common_unigrams = list(common_unigrams)\n",
        "common_bigrams = list(common_bigrams)\n",
        "\n",
        "# Append unigrams to list \n",
        "for i in common_unigrams:\n",
        "    custom.append(i)\n",
        "\n",
        "    \n",
        "# Append bigrams to list \n",
        "for i in common_bigrams:\n",
        "    split_words = i.split(\" \")\n",
        "    for word in split_words:\n",
        "        custom.append(word)"
      ],
      "execution_count": 0,
      "outputs": []
    },
    {
      "cell_type": "markdown",
      "metadata": {
        "id": "wksLQZl3K8hn",
        "colab_type": "text"
      },
      "source": [
        "####Here I conduct model-prep and use Pipeline and \n",
        "\n",
        "1.   List item\n",
        "2.   List item\n",
        "\n",
        "GridSearch to determine the most optimal model to run my data on.\n"
      ]
    },
    {
      "cell_type": "code",
      "metadata": {
        "id": "5qOo3OoSLCva",
        "colab_type": "code",
        "colab": {}
      },
      "source": [
        "#Baseline Score\n",
        "df1['label'].value_counts(normalize=True)"
      ],
      "execution_count": 0,
      "outputs": []
    },
    {
      "cell_type": "markdown",
      "metadata": {
        "id": "5ABBeLvWLHCn",
        "colab_type": "text"
      },
      "source": [
        "####'I expect my model to be better than 54%. The majority class is 0, or, True. If the model is not better than 54%, I know the model is not performing well.'\n"
      ]
    },
    {
      "cell_type": "code",
      "metadata": {
        "id": "a4iCVIqeLC17",
        "colab_type": "code",
        "colab": {}
      },
      "source": [
        "#Set X (predictor) and y (target) variables\n",
        "X = df1['articletext']\n",
        "y = df1['label']"
      ],
      "execution_count": 0,
      "outputs": []
    },
    {
      "cell_type": "code",
      "metadata": {
        "id": "1wVvryzmLC8X",
        "colab_type": "code",
        "colab": {}
      },
      "source": [
        "#Train/Test Split\n",
        "X_train, X_test, y_train, y_test = train_test_split(X,\n",
        "                                                    y,\n",
        "                                                    random_state=42,\n",
        "                                                    stratify=y)"
      ],
      "execution_count": 0,
      "outputs": []
    },
    {
      "cell_type": "markdown",
      "metadata": {
        "id": "JvVdj3RGLWlK",
        "colab_type": "text"
      },
      "source": [
        "**Model 1**: *CountVectorizer & Logistic Regression*"
      ]
    },
    {
      "cell_type": "code",
      "metadata": {
        "id": "lXrG8SkQLC_1",
        "colab_type": "code",
        "colab": {}
      },
      "source": [
        "from sklearn.linear_model import LogisticRegression\n",
        "from sklearn.model_selection import train_test_split, GridSearchCV\n",
        "from sklearn.pipeline import Pipeline\n",
        "from sklearn.naive_bayes import MultinomialNB\n",
        "from sklearn import metrics\n",
        "from sklearn.metrics import accuracy_score, recall_score, precision_score, confusion_matrix\n",
        "\n",
        "\n",
        "pipe = Pipeline([('cvec', CountVectorizer()),    \n",
        "                 ('lr', LogisticRegression(solver='liblinear'))])\n",
        "\n",
        "# Tune GridSearchCV\n",
        "pipe_params = {'cvec__stop_words': [None, 'english', custom],\n",
        "               'cvec__ngram_range': [(1,1), (2,2), (1,3)],\n",
        "               'lr__C': [0.01, 1]}\n",
        "\n",
        "gs = GridSearchCV(pipe, param_grid=pipe_params, cv=3)\n",
        "gs.fit(X_train, y_train);\n",
        "print(\"Best score:\", gs.best_score_)\n",
        "print(\"Train score\", gs.score(X_train, y_train))\n",
        "print(\"Test score\", gs.score(X_test, y_test))\n",
        "\n",
        "gs.best_params_"
      ],
      "execution_count": 0,
      "outputs": []
    },
    {
      "cell_type": "markdown",
      "metadata": {
        "id": "b_sraM5VM3Vy",
        "colab_type": "text"
      },
      "source": [
        "####while the model is overfit, I am optimizing to get the highest accuracy score in my test set"
      ]
    },
    {
      "cell_type": "markdown",
      "metadata": {
        "id": "UOge9A1jM7ON",
        "colab_type": "text"
      },
      "source": [
        "\n",
        "\n",
        "```\n",
        "# This is formatted as code\n",
        "```\n",
        "\n",
        "**Model 2: TfidfVectorize & Logistic Regression** \n",
        "\n",
        "\n",
        "\n"
      ]
    },
    {
      "cell_type": "code",
      "metadata": {
        "id": "iITodmm4LDH5",
        "colab_type": "code",
        "colab": {}
      },
      "source": [
        "pipe = Pipeline([('tvect', TfidfVectorizer()),    \n",
        "                 ('lr', LogisticRegression(solver='liblinear'))])\n",
        "\n",
        "# Tune GridSearchCV\n",
        "pipe_params = {'tvect__max_df': [.75, .98, 1.0],\n",
        "               'tvect__min_df': [2, 3, 5],\n",
        "               'tvect__ngram_range': [(1,1), (1,2), (1,3)],\n",
        "               'lr__C': [1]}\n",
        "\n",
        "gs = GridSearchCV(pipe, param_grid=pipe_params, cv=3)\n",
        "gs.fit(X_train, y_train);\n",
        "print(\"Best score:\", gs.best_score_)\n",
        "print(\"Train score\", gs.score(X_train, y_train))\n",
        "print(\"Test score\", gs.score(X_test, y_test))\n",
        "\n",
        "gs.best_params_"
      ],
      "execution_count": 0,
      "outputs": []
    },
    {
      "cell_type": "markdown",
      "metadata": {
        "id": "xgW-Mx7WN95n",
        "colab_type": "text"
      },
      "source": [
        "**Model 3: CountVectorizer & MultinomialNB**"
      ]
    },
    {
      "cell_type": "code",
      "metadata": {
        "id": "Iyos8k2QLDNe",
        "colab_type": "code",
        "colab": {}
      },
      "source": [
        "pipe = Pipeline([('cvec', CountVectorizer()),    \n",
        "                 ('nb', MultinomialNB())])\n",
        "\n",
        "# Tune GridSearchCV\n",
        "pipe_params = {'cvec__ngram_range': [(1,1),(1,3)],\n",
        "               'nb__alpha': [.36, .6]}\n",
        "\n",
        "gs = GridSearchCV(pipe, param_grid=pipe_params, cv=3)\n",
        "gs.fit(X_train, y_train);\n",
        "print(\"Best score:\", gs.best_score_)\n",
        "print(\"Train score\", gs.score(X_train, y_train))\n",
        "print(\"Test score\", gs.score(X_test, y_test))\n",
        "\n",
        "gs.best_params_"
      ],
      "execution_count": 0,
      "outputs": []
    },
    {
      "cell_type": "markdown",
      "metadata": {
        "id": "D97FmyF0OkY1",
        "colab_type": "text"
      },
      "source": [
        "**Model 4: TfidfVectorizer & MultinomialN**B"
      ]
    },
    {
      "cell_type": "code",
      "metadata": {
        "id": "HjFGhEsMhst_",
        "colab_type": "code",
        "colab": {}
      },
      "source": [
        "pipe = Pipeline([('tvect', TfidfVectorizer()),    \n",
        "                 ('nb', MultinomialNB())])\n",
        "\n",
        "# Tune GridSearchCV\n",
        "pipe_params = {'tvect__max_df': [.75, .98],\n",
        "               'tvect__min_df': [4, 5],\n",
        "               'tvect__ngram_range': [(1,2), (1,3)],\n",
        "               'nb__alpha': [0.1, 1]}\n",
        "\n",
        "gs = GridSearchCV(pipe, param_grid=pipe_params, cv=5)\n",
        "gs.fit(X_train, y_train);\n",
        "print(\"Best score:\", gs.best_score_)\n",
        "print(\"Train score\", gs.score(X_train, y_train))\n",
        "print(\"Test score\", gs.score(X_test, y_test))\n",
        "\n",
        "gs.best_params_"
      ],
      "execution_count": 0,
      "outputs": []
    },
    {
      "cell_type": "markdown",
      "metadata": {
        "id": "6KMwjAhJOvdf",
        "colab_type": "text"
      },
      "source": [
        "**##CountVectorizer & MultinomialNB**"
      ]
    },
    {
      "cell_type": "code",
      "metadata": {
        "id": "r-D3RRPTjXVU",
        "colab_type": "code",
        "colab": {}
      },
      "source": [
        "#Instantiate the classifier and vectorizer\n",
        "nb = MultinomialNB(alpha = 0.36)\n",
        "cvec = CountVectorizer(ngram_range= (1, 3))\n",
        "\n",
        "# Fit and transform the vectorizor\n",
        "cvec.fit(X_train)\n",
        "\n",
        "Xcvec_train = cvec.transform(X_train)\n",
        "Xcvec_test = cvec.transform(X_test)\n",
        "\n",
        "# Fit the classifier\n",
        "nb.fit(Xcvec_train,y_train)\n",
        "\n",
        "# Create the predictions for Y training data\n",
        "preds = nb.predict(Xcvec_test)\n",
        "\n",
        "print(nb.score(Xcvec_test, y_test))"
      ],
      "execution_count": 0,
      "outputs": []
    },
    {
      "cell_type": "markdown",
      "metadata": {
        "id": "bUJugdtHPDhg",
        "colab_type": "text"
      },
      "source": [
        "#Confusion Matrix"
      ]
    },
    {
      "cell_type": "code",
      "metadata": {
        "id": "8D9xIXhnLDD9",
        "colab_type": "code",
        "colab": {}
      },
      "source": [
        ""
      ],
      "execution_count": 0,
      "outputs": []
    },
    {
      "cell_type": "code",
      "metadata": {
        "id": "6OYlTn4KjW_A",
        "colab_type": "code",
        "colab": {}
      },
      "source": [
        "# Create a confusion matrix\n",
        "cnf_matrix = metrics.confusion_matrix(y_test, preds)\n",
        "cnf_matrix"
      ],
      "execution_count": 0,
      "outputs": []
    },
    {
      "cell_type": "code",
      "metadata": {
        "id": "6NkqidgQPLnh",
        "colab_type": "code",
        "colab": {}
      },
      "source": [
        ""
      ],
      "execution_count": 0,
      "outputs": []
    },
    {
      "cell_type": "code",
      "metadata": {
        "id": "wX-seVjmjW84",
        "colab_type": "code",
        "colab": {}
      },
      "source": [
        "# Code from https://www.datacamp.com/community/tutorials/understanding-logistic-regression-python\n",
        "\n",
        "# name  of classes\n",
        "class_names=[0,1] \n",
        "\n",
        "# Set fig and axes \n",
        "fig, ax = plt.subplots()\n",
        "tick_marks = np.arange(len(class_names))\n",
        "plt.xticks(tick_marks, class_names)\n",
        "plt.yticks(tick_marks, class_names)\n",
        "\n",
        "# Create heatmap\n",
        "sns.heatmap(pd.DataFrame(cnf_matrix), annot=True, cmap=\"YlGnBu\" ,fmt='g')\n",
        "ax.xaxis.set_label_position(\"top\")\n",
        "plt.tight_layout()\n",
        "plt.title('Confusion matrix', y=1.1)\n",
        "plt.ylabel('Actual label')\n",
        "plt.xlabel('Predicted label')"
      ],
      "execution_count": 0,
      "outputs": []
    },
    {
      "cell_type": "code",
      "metadata": {
        "id": "82JE3seDjW52",
        "colab_type": "code",
        "colab": {}
      },
      "source": [
        "# Assign True Neg, False Pos, False Neg, True Pos variables\n",
        "cnf_matrix = np.array(cnf_matrix).tolist()\n",
        "\n",
        "tn_fp, fn_tp = cnf_matrix\n",
        "\n",
        "tn, fp = tn_fp\n",
        "fn, tp = fn_tp"
      ],
      "execution_count": 0,
      "outputs": []
    },
    {
      "cell_type": "code",
      "metadata": {
        "id": "c5gyFCAKjW3O",
        "colab_type": "code",
        "colab": {}
      },
      "source": [
        "\n",
        "print(\"Accuracy:\",round(metrics.accuracy_score(y_test, preds)*100, 2),'%')\n",
        "print(\"Precision:\",round(metrics.precision_score(y_test, preds)*100, 2), '%')\n",
        "print(\"Recall:\",round(metrics.recall_score(y_test, preds)*100, 2), '%')\n",
        "print(\"Specificity:\", round((tn/(tn+fp))*100, 2), '%')\n",
        "print(\"Misclassification Rate:\", round((fp+fn)/(tn+fp+fn+tn)*100, 2), '%')"
      ],
      "execution_count": 0,
      "outputs": []
    },
    {
      "cell_type": "markdown",
      "metadata": {
        "id": "ALlF_pzYPfUU",
        "colab_type": "text"
      },
      "source": [
        ""
      ]
    },
    {
      "cell_type": "code",
      "metadata": {
        "id": "EKOeM8bcBDK9",
        "colab_type": "code",
        "colab": {}
      },
      "source": [
        ""
      ],
      "execution_count": 0,
      "outputs": []
    },
    {
      "cell_type": "code",
      "metadata": {
        "id": "ODY0hX0YPLqt",
        "colab_type": "code",
        "colab": {}
      },
      "source": [
        ""
      ],
      "execution_count": 0,
      "outputs": []
    }
  ]
}