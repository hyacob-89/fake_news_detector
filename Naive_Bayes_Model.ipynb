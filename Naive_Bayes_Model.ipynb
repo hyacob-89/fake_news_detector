{
  "nbformat": 4,
  "nbformat_minor": 0,
  "metadata": {
    "colab": {
      "name": "Naive_Bayes_Model.ipynb",
      "provenance": [],
      "collapsed_sections": [
        "A_NtOX-Lvq36"
      ],
      "toc_visible": true
    },
    "kernelspec": {
      "name": "python3",
      "display_name": "Python 3"
    }
  },
  "cells": [
    {
      "cell_type": "markdown",
      "metadata": {
        "id": "Nwmihhx4Z2n1",
        "colab_type": "text"
      },
      "source": [
        "## <u>__Dependencies__<u/>"
      ]
    },
    {
      "cell_type": "code",
      "metadata": {
        "id": "WQds8-nwZ-qy",
        "colab_type": "code",
        "colab": {}
      },
      "source": [
        "# Install Java, Spark, and Findspark\n",
        "!apt-get install openjdk-8-jdk-headless -qq > /dev/null\n",
        "!wget -q http://www-us.apache.org/dist/spark/spark-2.4.5/spark-2.4.5-bin-hadoop2.7.tgz\n",
        "!tar xf spark-2.4.5-bin-hadoop2.7.tgz\n",
        "!pip install -q findspark\n",
        "\n",
        "# Set Environment Variables\n",
        "import os\n",
        "os.environ[\"JAVA_HOME\"] = \"/usr/lib/jvm/java-8-openjdk-amd64\"\n",
        "os.environ[\"SPARK_HOME\"] = \"/content/spark-2.4.5-bin-hadoop2.7\"\n",
        "\n",
        "# Start a SparkSession\n",
        "import findspark\n",
        "findspark.init()"
      ],
      "execution_count": 0,
      "outputs": []
    },
    {
      "cell_type": "code",
      "metadata": {
        "id": "ibmgQV3VZ_kY",
        "colab_type": "code",
        "colab": {}
      },
      "source": [
        " from pyspark.sql import SparkSession\n",
        "spark = SparkSession.builder.appName(\"FakeNewsPoject_Naive_Bayes\").getOrCreate()"
      ],
      "execution_count": 0,
      "outputs": []
    },
    {
      "cell_type": "markdown",
      "metadata": {
        "id": "_lsIBrTKaA6d",
        "colab_type": "text"
      },
      "source": [
        "## <u>__Extract__<u/>"
      ]
    },
    {
      "cell_type": "code",
      "metadata": {
        "id": "xDrz6QstaEeW",
        "colab_type": "code",
        "outputId": "6c7b67dc-1acb-48e4-df74-3c1c9db20eca",
        "colab": {
          "base_uri": "https://localhost:8080/",
          "height": 289
        }
      },
      "source": [
        " from pyspark import SparkFiles\n",
        "# Load in Fake.csv from S3 into a DataFrame\n",
        "fake_url = \"https://bootcamp-proj-3.s3.us-east-2.amazonaws.com/Fake.csv\"\n",
        "spark.sparkContext.addFile(fake_url)\n",
        "\n",
        "raw_fake_df = spark.read.csv(SparkFiles.get(\"Fake.csv\"), sep=\",\", header=True)\n",
        "raw_fake_df.show(10)"
      ],
      "execution_count": 17,
      "outputs": [
        {
          "output_type": "stream",
          "text": [
            "+--------------------+--------------------+-------+-----------------+\n",
            "|               title|                text|subject|             date|\n",
            "+--------------------+--------------------+-------+-----------------+\n",
            "| Donald Trump Sen...|Donald Trump just...|   News|December 31, 2017|\n",
            "| Drunk Bragging T...|House Intelligenc...|   News|December 31, 2017|\n",
            "| Sheriff David Cl...|On Friday, it was...|   News|December 30, 2017|\n",
            "| Trump Is So Obse...|On Christmas day,...|   News|December 29, 2017|\n",
            "| Pope Francis Jus...|Pope Francis used...|   News|December 25, 2017|\n",
            "| Racist Alabama C...|The number of cas...|   News|December 25, 2017|\n",
            "| Fresh Off The Go...|Donald Trump spen...|   News|December 23, 2017|\n",
            "| Trump Said Some ...|In the wake of ye...|   News|December 23, 2017|\n",
            "| Former CIA Direc...|Many people have ...|   News|December 22, 2017|\n",
            "| WATCH: Brand-New...|Just when you mig...|   News|December 21, 2017|\n",
            "+--------------------+--------------------+-------+-----------------+\n",
            "only showing top 10 rows\n",
            "\n"
          ],
          "name": "stdout"
        }
      ]
    },
    {
      "cell_type": "code",
      "metadata": {
        "id": "Hna_iCUzaE3N",
        "colab_type": "code",
        "outputId": "7015a4ee-764a-493b-feb6-4f01f44490f5",
        "colab": {
          "base_uri": "https://localhost:8080/",
          "height": 289
        }
      },
      "source": [
        "# Load in True.csv from S3 into a DataFrame\n",
        "true_url = \"https://bootcamp-proj-3.s3.us-east-2.amazonaws.com/True.csv\"\n",
        "spark.sparkContext.addFile(true_url)\n",
        "\n",
        "raw_true_df = spark.read.csv(SparkFiles.get(\"True.csv\"), sep=\",\", header=True)\n",
        "raw_true_df.show(10)\n"
      ],
      "execution_count": 18,
      "outputs": [
        {
          "output_type": "stream",
          "text": [
            "+--------------------+--------------------+------------+------------------+\n",
            "|               title|                text|     subject|              date|\n",
            "+--------------------+--------------------+------------+------------------+\n",
            "|As U.S. budget fi...|WASHINGTON (Reute...|politicsNews|December 31, 2017 |\n",
            "|U.S. military to ...|WASHINGTON (Reute...|politicsNews|December 29, 2017 |\n",
            "|Senior U.S. Repub...|WASHINGTON (Reute...|politicsNews|December 31, 2017 |\n",
            "|FBI Russia probe ...|WASHINGTON (Reute...|politicsNews|December 30, 2017 |\n",
            "|Trump wants Posta...|SEATTLE/WASHINGTO...|politicsNews|December 29, 2017 |\n",
            "|White House, Cong...|WEST PALM BEACH, ...|politicsNews|December 29, 2017 |\n",
            "|Trump says Russia...|WEST PALM BEACH, ...|politicsNews|December 29, 2017 |\n",
            "|Factbox: Trump on...|The following sta...|politicsNews|December 29, 2017 |\n",
            "|Trump on Twitter ...|The following sta...|politicsNews|December 29, 2017 |\n",
            "|Alabama official ...|WASHINGTON (Reute...|politicsNews|December 28, 2017 |\n",
            "+--------------------+--------------------+------------+------------------+\n",
            "only showing top 10 rows\n",
            "\n"
          ],
          "name": "stdout"
        }
      ]
    },
    {
      "cell_type": "markdown",
      "metadata": {
        "id": "gSVca79Bg_Y4",
        "colab_type": "text"
      },
      "source": [
        "## <u>__Transform__<u/>"
      ]
    },
    {
      "cell_type": "code",
      "metadata": {
        "id": "QxmuF1njaFAF",
        "colab_type": "code",
        "colab": {}
      },
      "source": [
        "import pyspark.sql.functions as sf\n",
        "\n",
        "# Add true/fake categories\n",
        "add_category_fake = raw_fake_df.withColumn('category',sf.lit('Fake'))\n",
        "add_category_true = raw_true_df.withColumn('category',sf.lit('True'))\n",
        "\n",
        "# add_category_fake.show(10)\n",
        "# add_category_true.show(10)"
      ],
      "execution_count": 0,
      "outputs": []
    },
    {
      "cell_type": "code",
      "metadata": {
        "id": "IzmNpVTNg-5J",
        "colab_type": "code",
        "outputId": "8e73bf38-cc73-4639-b8a7-d8317b4fe23d",
        "colab": {
          "base_uri": "https://localhost:8080/",
          "height": 459
        }
      },
      "source": [
        "#Append and select data\n",
        "\n",
        "# import pandas as pd\n",
        "appended_data = add_category_fake.union(add_category_true)\\\n",
        "                                 .select(['category', 'text'])\\\n",
        "                                .dropna(subset=('text'))\n",
        "\n",
        "appended_data.show()"
      ],
      "execution_count": 20,
      "outputs": [
        {
          "output_type": "stream",
          "text": [
            "+--------+--------------------+\n",
            "|category|                text|\n",
            "+--------+--------------------+\n",
            "|    Fake|Donald Trump just...|\n",
            "|    Fake|House Intelligenc...|\n",
            "|    Fake|On Friday, it was...|\n",
            "|    Fake|On Christmas day,...|\n",
            "|    Fake|Pope Francis used...|\n",
            "|    Fake|The number of cas...|\n",
            "|    Fake|Donald Trump spen...|\n",
            "|    Fake|In the wake of ye...|\n",
            "|    Fake|Many people have ...|\n",
            "|    Fake|Just when you mig...|\n",
            "|    Fake|A centerpiece of ...|\n",
            "|    Fake|Republicans are w...|\n",
            "|    Fake|Republicans have ...|\n",
            "|    Fake|The media has bee...|\n",
            "|    Fake|Abigail Disney is...|\n",
            "|    Fake|Donald Trump just...|\n",
            "|    Fake|A new animatronic...|\n",
            "|    Fake|Trump supporters ...|\n",
            "|    Fake|Right now, the wh...|\n",
            "|    Fake|Senate Majority W...|\n",
            "+--------+--------------------+\n",
            "only showing top 20 rows\n",
            "\n"
          ],
          "name": "stdout"
        }
      ]
    },
    {
      "cell_type": "code",
      "metadata": {
        "id": "ncQZ20wMnI72",
        "colab_type": "code",
        "outputId": "b015598f-204c-45ae-e3b8-27574d1893da",
        "colab": {
          "base_uri": "https://localhost:8080/",
          "height": 459
        }
      },
      "source": [
        "from pyspark.sql.functions import length, trim\n",
        "\n",
        "# Create a length column to be used as a future feature \n",
        "review_data = appended_data.withColumn('length', length(appended_data['text']))\\\n",
        "                            .where(\"length>=100\")\\\n",
        "                            .orderBy('length')\\\n",
        "                            .withColumn(\"text\", trim(appended_data.text))\n",
        "review_data.show()"
      ],
      "execution_count": 21,
      "outputs": [
        {
          "output_type": "stream",
          "text": [
            "+--------+--------------------+------+\n",
            "|category|                text|length|\n",
            "+--------+--------------------+------+\n",
            "|    Fake|It s been said th...|   100|\n",
            "|    Fake|This is hysterica...|   100|\n",
            "|    Fake|I d like to sugge...|   100|\n",
            "|    Fake|Trump spokesperso...|   100|\n",
            "|    Fake|The left has had ...|   100|\n",
            "|    Fake|THIS IS A WARNING...|   101|\n",
            "|    Fake|Obama is off his ...|   101|\n",
            "|    Fake|The Senate is doi...|   101|\n",
            "|    Fake|Ted Cruz takes th...|   101|\n",
            "|    Fake|Usain Bolt was mi...|   101|\n",
            "|    Fake|Wow! Hillary Clin...|   101|\n",
            "|    Fake|THIS IS A WARNING...|   101|\n",
            "|    Fake|Wow! The DNC is p...|   101|\n",
            "|    Fake|You don t know wh...|   102|\n",
            "|    Fake|Clinton Stumbles ...|   102|\n",
            "|    Fake|What in the world...|   102|\n",
            "|    Fake|THIS IS YET ANOTH...|   102|\n",
            "|    Fake|I m shocked! I th...|   102|\n",
            "|    Fake|Lou Dobbs rips in...|   103|\n",
            "|    Fake|You will love, lo...|   103|\n",
            "+--------+--------------------+------+\n",
            "only showing top 20 rows\n",
            "\n"
          ],
          "name": "stdout"
        }
      ]
    },
    {
      "cell_type": "code",
      "metadata": {
        "id": "h2aBREAepZXO",
        "colab_type": "code",
        "colab": {}
      },
      "source": [
        "from pyspark.ml.feature import Tokenizer, StopWordsRemover, HashingTF, IDF, StringIndexer\n",
        "\n",
        "# Create all the features to the data set\n",
        "pos_neg_to_num = StringIndexer(inputCol='category',outputCol='label')\n",
        "tokenizer = Tokenizer(inputCol=\"text\", outputCol=\"token_text\")\n",
        "stopremove = StopWordsRemover(inputCol='token_text',outputCol='stop_tokens')\n",
        "hashingTF = HashingTF(inputCol=\"stop_tokens\", outputCol='hash_token')\n",
        "idf = IDF(inputCol='hash_token', outputCol='idf_token')\n"
      ],
      "execution_count": 0,
      "outputs": []
    },
    {
      "cell_type": "code",
      "metadata": {
        "id": "wHje0gxwsjkP",
        "colab_type": "code",
        "colab": {}
      },
      "source": [
        "from pyspark.ml.feature import VectorAssembler\n",
        "from pyspark.ml.linalg import Vector\n",
        "\n",
        "# Create feature vectors\n",
        "clean_up = VectorAssembler(inputCols=['idf_token', 'length'], outputCol='features')"
      ],
      "execution_count": 0,
      "outputs": []
    },
    {
      "cell_type": "code",
      "metadata": {
        "id": "Sdb8uebSuyAU",
        "colab_type": "code",
        "colab": {}
      },
      "source": [
        "# Create a and run a data processing Pipeline\n",
        "from pyspark.ml import Pipeline\n",
        "data_prep_pipeline = Pipeline(stages=[pos_neg_to_num, tokenizer, stopremove, hashingTF, idf, clean_up])"
      ],
      "execution_count": 0,
      "outputs": []
    },
    {
      "cell_type": "code",
      "metadata": {
        "id": "jNzPPYyzu1QN",
        "colab_type": "code",
        "colab": {}
      },
      "source": [
        "# Fit and transform the pipeline\n",
        "cleaner = data_prep_pipeline.fit(review_data)\n",
        "cleaned = cleaner.transform(review_data)"
      ],
      "execution_count": 0,
      "outputs": []
    },
    {
      "cell_type": "code",
      "metadata": {
        "id": "3M9NQlI2u29V",
        "colab_type": "code",
        "outputId": "f31df6d0-f0b4-4713-f11a-62ebb7210d5d",
        "colab": {
          "base_uri": "https://localhost:8080/",
          "height": 289
        }
      },
      "source": [
        "# Show label and resulting features\n",
        "cleaned.select(['label', 'features']).show(10)"
      ],
      "execution_count": 26,
      "outputs": [
        {
          "output_type": "stream",
          "text": [
            "+-----+--------------------+\n",
            "|label|            features|\n",
            "+-----+--------------------+\n",
            "|  0.0|(262145,[7612,487...|\n",
            "|  0.0|(262145,[7612,258...|\n",
            "|  0.0|(262145,[20832,36...|\n",
            "|  0.0|(262145,[27526,10...|\n",
            "|  0.0|(262145,[7695,148...|\n",
            "|  0.0|(262145,[7612,141...|\n",
            "|  0.0|(262145,[36974,79...|\n",
            "|  0.0|(262145,[8985,217...|\n",
            "|  0.0|(262145,[3924,218...|\n",
            "|  0.0|(262145,[3908,790...|\n",
            "+-----+--------------------+\n",
            "only showing top 10 rows\n",
            "\n"
          ],
          "name": "stdout"
        }
      ]
    },
    {
      "cell_type": "markdown",
      "metadata": {
        "id": "A_NtOX-Lvq36",
        "colab_type": "text"
      },
      "source": [
        "## <u>__Load__<u/>"
      ]
    },
    {
      "cell_type": "code",
      "metadata": {
        "id": "e9C0Qo77vFCK",
        "colab_type": "code",
        "colab": {}
      },
      "source": [
        ""
      ],
      "execution_count": 0,
      "outputs": []
    },
    {
      "cell_type": "code",
      "metadata": {
        "id": "DcxvoRhlvtoy",
        "colab_type": "code",
        "colab": {}
      },
      "source": [
        ""
      ],
      "execution_count": 0,
      "outputs": []
    },
    {
      "cell_type": "code",
      "metadata": {
        "id": "Sons8RTQ1If3",
        "colab_type": "code",
        "colab": {}
      },
      "source": [
        ""
      ],
      "execution_count": 0,
      "outputs": []
    },
    {
      "cell_type": "code",
      "metadata": {
        "id": "DkrEa2YQ1I-I",
        "colab_type": "code",
        "colab": {}
      },
      "source": [
        ""
      ],
      "execution_count": 0,
      "outputs": []
    },
    {
      "cell_type": "code",
      "metadata": {
        "id": "qnGz9R2dk0VG",
        "colab_type": "code",
        "colab": {}
      },
      "source": [
        ""
      ],
      "execution_count": 0,
      "outputs": []
    },
    {
      "cell_type": "markdown",
      "metadata": {
        "id": "EWrVrUD41LY1",
        "colab_type": "text"
      },
      "source": [
        "## <u>__Analysis__<u/>"
      ]
    },
    {
      "cell_type": "code",
      "metadata": {
        "id": "64rA_3BO1PGt",
        "colab_type": "code",
        "outputId": "4138d0f7-48df-4580-e187-ae34399624ef",
        "colab": {
          "base_uri": "https://localhost:8080/",
          "height": 561
        }
      },
      "source": [
        "from pyspark.ml.classification import NaiveBayes\n",
        "# Break data down into a training set and a testing set\n",
        "training, testing = cleaned.randomSplit([0.7, 0.3])\n",
        "\n",
        "training.show(10)\n",
        "testing.show(10)"
      ],
      "execution_count": 27,
      "outputs": [
        {
          "output_type": "stream",
          "text": [
            "+--------+--------------------+------+-----+--------------------+--------------------+--------------------+--------------------+--------------------+\n",
            "|category|                text|length|label|          token_text|         stop_tokens|          hash_token|           idf_token|            features|\n",
            "+--------+--------------------+------+-----+--------------------+--------------------+--------------------+--------------------+--------------------+\n",
            "|    Fake|\"\"\"Fake news\"\" wa...|   124|  0.0|[\"\"\"fake, news\"\",...|[\"\"\"fake, news\"\",...|(262144,[35014,10...|(262144,[35014,10...|(262145,[35014,10...|\n",
            "|    Fake|#SourcesHaveConfi...|   131|  0.0|[#sourceshaveconf...|[#sourceshaveconf...|(262144,[7612,202...|(262144,[7612,202...|(262145,[7612,202...|\n",
            "|    Fake|.@Nigel_Farage te...|   141|  0.0|[.@nigel_farage, ...|[.@nigel_farage, ...|(262144,[3283,880...|(262144,[3283,880...|(262145,[3283,880...|\n",
            "|    Fake|2 Corinthians 9:7...|   138|  0.0|[2, corinthians, ...|[2, corinthians, ...|(262144,[33264,44...|(262144,[33264,44...|(262145,[33264,44...|\n",
            "|    Fake|2 Corinthians 9:7...|   138|  0.0|[2, corinthians, ...|[2, corinthians, ...|(262144,[33264,44...|(262144,[33264,44...|(262145,[33264,44...|\n",
            "|    Fake|21st Century Wire...|   142|  0.0|[21st, century, w...|[21st, century, w...|(262144,[12250,17...|(262144,[12250,17...|(262145,[12250,17...|\n",
            "|    Fake|21st Century Wire...|   142|  0.0|[21st, century, w...|[21st, century, w...|(262144,[12250,17...|(262144,[12250,17...|(262145,[12250,17...|\n",
            "|    Fake|A man with sticke...|   129|  0.0|[a, man, with, st...|[man, stickers, f...|(262144,[1469,538...|(262144,[1469,538...|(262145,[1469,538...|\n",
            "|    Fake|After Donald Trum...|   138|  0.0|[after, donald, t...|[donald, trump, g...|(262144,[7612,564...|(262144,[7612,564...|(262145,[7612,564...|\n",
            "|    Fake|After watching th...|   126|  0.0|[after, watching,...|[watching, video,...|(262144,[35492,56...|(262144,[35492,56...|(262145,[35492,56...|\n",
            "+--------+--------------------+------+-----+--------------------+--------------------+--------------------+--------------------+--------------------+\n",
            "only showing top 10 rows\n",
            "\n",
            "+--------+--------------------+------+-----+--------------------+--------------------+--------------------+--------------------+--------------------+\n",
            "|category|                text|length|label|          token_text|         stop_tokens|          hash_token|           idf_token|            features|\n",
            "+--------+--------------------+------+-----+--------------------+--------------------+--------------------+--------------------+--------------------+\n",
            "|    Fake|\"\"\"Fake news\"\" wa...|   124|  0.0|[\"\"\"fake, news\"\",...|[\"\"\"fake, news\"\",...|(262144,[35014,10...|(262144,[35014,10...|(262145,[35014,10...|\n",
            "|    Fake|#SourcesHaveConfi...|   131|  0.0|[#sourceshaveconf...|[#sourceshaveconf...|(262144,[7612,202...|(262144,[7612,202...|(262145,[7612,202...|\n",
            "|    Fake|AUDIO OF KARL ROV...|   109|  0.0|[audio, of, karl,...|[audio, karl, rov...|(262144,[14,12925...|(262144,[14,12925...|(262145,[14,12925...|\n",
            "|    Fake|After the photo w...|   129|  0.0|[after, the, phot...|[photo, tweeted, ...|(262144,[15539,16...|(262144,[15539,16...|(262145,[15539,16...|\n",
            "|    Fake|After watching th...|   126|  0.0|[after, watching,...|[watching, video,...|(262144,[35492,56...|(262144,[35492,56...|(262145,[35492,56...|\n",
            "|    Fake|And this woman is...|   110|  0.0|[and, this, woman...|[woman, going, tr...|(262144,[8443,110...|(262144,[8443,110...|(262145,[8443,110...|\n",
            "|    Fake|Baffling the wors...|   135|  0.0|[baffling, the, w...|[baffling, worst,...|(262144,[17371,27...|(262144,[17371,27...|(262145,[17371,27...|\n",
            "|    Fake|Boom! Share this ...|   120|  0.0|[boom!, share, th...|[boom!, share, ev...|(262144,[18410,63...|(262144,[18410,63...|(262145,[18410,63...|\n",
            "|    Fake|Both of these guy...|   108|  0.0|[both, of, these,...|[guys, honest, go...|(262144,[7612,472...|(262144,[7612,472...|(262145,[7612,472...|\n",
            "|    Fake|CNN s Carol Coste...|   128|  0.0|[cnn, s, carol, c...|[cnn, carol, cost...|(262144,[12247,51...|(262144,[12247,51...|(262145,[12247,51...|\n",
            "+--------+--------------------+------+-----+--------------------+--------------------+--------------------+--------------------+--------------------+\n",
            "only showing top 10 rows\n",
            "\n"
          ],
          "name": "stdout"
        }
      ]
    },
    {
      "cell_type": "code",
      "metadata": {
        "id": "8pQ88fHQlfMM",
        "colab_type": "code",
        "colab": {}
      },
      "source": [
        "# Create a Naive Bayes model and fit training data\n",
        "nb = NaiveBayes()\n",
        "predictor = nb.fit(training)"
      ],
      "execution_count": 0,
      "outputs": []
    },
    {
      "cell_type": "code",
      "metadata": {
        "id": "2R6-oo3Y2iJF",
        "colab_type": "code",
        "colab": {
          "base_uri": "https://localhost:8080/",
          "height": 989
        },
        "outputId": "1b047b28-d889-40a0-8261-67401b9dfd24"
      },
      "source": [
        " # Tranform the model with the testing data\n",
        "test_results = predictor.transform(testing)\n",
        "test_results.show(10, truncate=False)"
      ],
      "execution_count": 29,
      "outputs": [
        {
          "output_type": "stream",
          "text": [
            "+--------+----------------------------------------------------------------------------------------------------------------------------------------------+------+-----+------------------------------------------------------------------------------------------------------------------------------------------------------------------------+---------------------------------------------------------------------------------------------------------------------------------------------------+-----------------------------------------------------------------------------------------------------------------------------------------------------------------------------------------------+-----------------------------------------------------------------------------------------------------------------------------------------------------------------------------------------------------------------------------------------------------------------------------------------------------------------------------------------------------------------------------------------------------------------------------------------------+------------------------------------------------------------------------------------------------------------------------------------------------------------------------------------------------------------------------------------------------------------------------------------------------------------------------------------------------------------------------------------------------------------------------------------------------------------+-----------------------------------------+-------------------------------------------+----------+\n",
            "|category|text                                                                                                                                          |length|label|token_text                                                                                                                                                              |stop_tokens                                                                                                                                        |hash_token                                                                                                                                                                                     |idf_token                                                                                                                                                                                                                                                                                                                                                                                                                                      |features                                                                                                                                                                                                                                                                                                                                                                                                                                                    |rawPrediction                            |probability                                |prediction|\n",
            "+--------+----------------------------------------------------------------------------------------------------------------------------------------------+------+-----+------------------------------------------------------------------------------------------------------------------------------------------------------------------------+---------------------------------------------------------------------------------------------------------------------------------------------------+-----------------------------------------------------------------------------------------------------------------------------------------------------------------------------------------------+-----------------------------------------------------------------------------------------------------------------------------------------------------------------------------------------------------------------------------------------------------------------------------------------------------------------------------------------------------------------------------------------------------------------------------------------------+------------------------------------------------------------------------------------------------------------------------------------------------------------------------------------------------------------------------------------------------------------------------------------------------------------------------------------------------------------------------------------------------------------------------------------------------------------+-----------------------------------------+-------------------------------------------+----------+\n",
            "|Fake    |\"\"\"Fake news\"\" was born in August 2014 in Ferguson MO. when @MSNBC @nytimes @washingtonpost @CNN all propagated the Hands up                  |124   |0.0  |[\"\"\"fake, news\"\", was, born, in, august, 2014, in, ferguson, mo., when, @msnbc, @nytimes, @washingtonpost, @cnn, all, propagated, the, hands, up]                       |[\"\"\"fake, news\"\", born, august, 2014, ferguson, mo., @msnbc, @nytimes, @washingtonpost, @cnn, propagated, hands]                                   |(262144,[35014,107481,108446,133300,177697,185186,211183,212374,215373,224307,233125,258355,261388],[1.0,1.0,1.0,1.0,1.0,1.0,1.0,1.0,1.0,1.0,1.0,1.0,1.0])                                     |(262144,[35014,107481,108446,133300,177697,185186,211183,212374,215373,224307,233125,258355,261388],[8.609065650843352,3.870676621069037,6.681174007290716,5.564543213119928,3.3094990648948825,7.597464739164871,7.510453362175242,3.362699689927414,8.491282615186968,7.510453362175242,4.707092981268707,6.6109697486174674,3.3535253136513727])                                                                                            |(262145,[35014,107481,108446,133300,177697,185186,211183,212374,215373,224307,233125,258355,261388,262144],[8.609065650843352,3.870676621069037,6.681174007290716,5.564543213119928,3.3094990648948825,7.597464739164871,7.510453362175242,3.362699689927414,8.491282615186968,7.510453362175242,4.707092981268707,6.6109697486174674,3.3535253136513727,124.0])                                                                                            |[-987.1915525307193,-1124.4690474765218] |[1.0,2.4051460607643874E-60]               |0.0       |\n",
            "|Fake    |#SourcesHaveConfirmed that Trump will lock her ass up! pic.twitter.com/DEovU9eDzV  MAGS for ?MAGA? (@magnifier661) October 25, 2016           |131   |0.0  |[#sourceshaveconfirmed, that, trump, will, lock, her, ass, up!, pic.twitter.com/deovu9edzv, , mags, for, ?maga?, (@magnifier661), october, 25,, 2016]                   |[#sourceshaveconfirmed, trump, lock, ass, up!, pic.twitter.com/deovu9edzv, , mags, ?maga?, (@magnifier661), october, 25,, 2016]                    |(262144,[7612,20221,29833,122329,128240,154821,169800,178553,182583,188974,249180,250198,254786],[1.0,1.0,1.0,1.0,1.0,1.0,1.0,1.0,1.0,1.0,1.0,1.0,1.0])                                        |(262144,[7612,20221,29833,122329,128240,154821,169800,178553,182583,188974,249180,250198,254786],[0.7648249327015396,9.589894903855077,3.2165751142780645,7.597464739164871,4.570409994481839,9.589894903855077,2.2503572084474026,9.079069280089087,5.607102827538724,5.380239495121982,0.14477230678797556,9.589894903855077,4.904682010193449])                                                                                             |(262145,[7612,20221,29833,122329,128240,154821,169800,178553,182583,188974,249180,250198,254786,262144],[0.7648249327015396,9.589894903855077,3.2165751142780645,7.597464739164871,4.570409994481839,9.589894903855077,2.2503572084474026,9.079069280089087,5.607102827538724,5.380239495121982,0.14477230678797556,9.589894903855077,4.904682010193449,131.0])                                                                                             |[-1014.3722439222876,-1156.50788480662]  |[1.0,1.8675639504082332E-62]               |0.0       |\n",
            "|Fake    |AUDIO OF KARL ROVE ON HUGH HEWITT   Picking   Fresh Face   at Convention Could End Up Really Helping the GOP                                  |109   |0.0  |[audio, of, karl, rove, on, hugh, hewitt, , , picking, , , fresh, face, , , at, convention, could, end, up, really, helping, the, gop]                                  |[audio, karl, rove, hugh, hewitt, , , picking, , , fresh, face, , , convention, end, really, helping, gop]                                         |(262144,[14,12925,46524,84411,166067,199014,208063,213559,224369,239588,245236,247394,249180,255356],[1.0,1.0,1.0,1.0,1.0,1.0,1.0,1.0,1.0,1.0,1.0,1.0,6.0,1.0])                                |(262144,[14,12925,46524,84411,166067,199014,208063,213559,224369,239588,245236,247394,249180,255356],[2.129212825088314,7.356302682347983,3.825749279471786,2.887115872231701,6.6631555017880375,4.135999305488597,4.907763676730858,5.9523087441286915,5.004927425184506,3.4644823842373564,7.22277128972346,2.5259909423830087,0.8686338407278533,2.1303640147779954])                                                                       |(262145,[14,12925,46524,84411,166067,199014,208063,213559,224369,239588,245236,247394,249180,255356,262144],[2.129212825088314,7.356302682347983,3.825749279471786,2.887115872231701,6.6631555017880375,4.135999305488597,4.907763676730858,5.9523087441286915,5.004927425184506,3.4644823842373564,7.22277128972346,2.5259909423830087,0.8686338407278533,2.1303640147779954,109.0])                                                                       |[-701.9436052743085,-753.6575279125257]  |[1.0,3.474791581411725E-23]                |0.0       |\n",
            "|Fake    |After the photo was tweeted out, the left responded with this:  Does the left want Ivanka to hide her kids for the next 4 years?              |129   |0.0  |[after, the, photo, was, tweeted, out,, the, left, responded, with, this:, , does, the, left, want, ivanka, to, hide, her, kids, for, the, next, 4, years?]             |[photo, tweeted, out,, left, responded, this:, , left, want, ivanka, hide, kids, next, 4, years?]                                                  |(262144,[15539,16056,54961,61864,86813,98726,121724,170414,186546,190256,233878,239360,249180,258646],[1.0,1.0,1.0,1.0,1.0,1.0,1.0,2.0,1.0,1.0,1.0,1.0,1.0,1.0])                               |(262144,[15539,16056,54961,61864,86813,98726,121724,170414,186546,190256,233878,239360,249180,258646],[4.8107714107435475,3.5000944560262335,1.9165167559909453,2.300056876999675,3.6674232282340467,3.400946552213463,3.4485746012027176,4.343028042219233,4.271774910010861,1.7930145610715547,3.6890847250152263,6.718215278971065,0.14477230678797556,3.930412688095456])                                                                  |(262145,[15539,16056,54961,61864,86813,98726,121724,170414,186546,190256,233878,239360,249180,258646,262144],[4.8107714107435475,3.5000944560262335,1.9165167559909453,2.300056876999675,3.6674232282340467,3.400946552213463,3.4485746012027176,4.343028042219233,4.271774910010861,1.7930145610715547,3.6890847250152263,6.718215278971065,0.14477230678797556,3.930412688095456,129.0])                                                                  |[-535.7180955038544,-580.7260419325203]  |[1.0,2.839861919836008E-20]                |0.0       |\n",
            "|Fake    |After watching this video, one thing is abundantly clear When it comes to #CrookedHillary Clinton, some things never change:                  |126   |0.0  |[after, watching, this, video,, one, thing, is, abundantly, clear, when, it, comes, to, #crookedhillary, clinton,, some, things, never, change:]                        |[watching, video,, one, thing, abundantly, clear, comes, #crookedhillary, clinton,, things, never, change:]                                        |(262144,[35492,56715,63139,69442,81644,107499,110450,125372,181515,226568,245806,259723],[1.0,1.0,1.0,1.0,1.0,1.0,1.0,1.0,1.0,1.0,1.0,1.0])                                                    |(262144,[35492,56715,63139,69442,81644,107499,110450,125372,181515,226568,245806,259723],[2.2514400455862345,2.50483060990253,3.875062593012291,2.9918401109967254,7.692774918969196,2.550819007545582,4.537904424076908,0.8521214435277948,7.1919996310567065,2.4423356326656234,2.0239290141938913,6.594162630301087])                                                                                                                       |(262145,[35492,56715,63139,69442,81644,107499,110450,125372,181515,226568,245806,259723,262144],[2.2514400455862345,2.50483060990253,3.875062593012291,2.9918401109967254,7.692774918969196,2.550819007545582,4.537904424076908,0.8521214435277948,7.1919996310567065,2.4423356326656234,2.0239290141938913,6.594162630301087,126.0])                                                                                                                       |[-549.0220815076724,-619.6127000207828]  |[1.0,2.202337661639239E-31]                |0.0       |\n",
            "|Fake    |And this woman is going to try and keep up with Trump? I think it s safe to say the debates are gonna be fun                                  |110   |0.0  |[and, this, woman, is, going, to, try, and, keep, up, with, trump?, i, think, it, s, safe, to, say, the, debates, are, gonna, be, fun]                                  |[woman, going, try, keep, trump?, think, safe, say, debates, gonna, fun]                                                                           |(262144,[8443,11018,13471,32890,65212,70028,99476,141407,186232,204743,232685],[1.0,1.0,1.0,1.0,1.0,1.0,1.0,1.0,1.0,1.0,1.0])                                                                  |(262144,[8443,11018,13471,32890,65212,70028,99476,141407,186232,204743,232685],[4.5147210886212505,3.5480541494220286,2.849375544248854,2.2921266213236975,1.5623095886594323,1.7333171679963004,5.079035397338227,2.7647968585539497,5.400240161828652,4.434678380947714,1.5883165640479917])                                                                                                                                                 |(262145,[8443,11018,13471,32890,65212,70028,99476,141407,186232,204743,232685,262144],[4.5147210886212505,3.5480541494220286,2.849375544248854,2.2921266213236975,1.5623095886594323,1.7333171679963004,5.079035397338227,2.7647968585539497,5.400240161828652,4.434678380947714,1.5883165640479917,110.0])                                                                                                                                                 |[-400.9875132463892,-449.20174151691276] |[1.0,1.1503413016090846E-21]               |0.0       |\n",
            "|Fake    |Baffling the worst terrorist attack in history and you d think American college students would have a clue about why we were attacked.        |135   |0.0  |[baffling, the, worst, terrorist, attack, in, history, and, you, d, think, american, college, students, would, have, a, clue, about, why, we, were, attacked.]          |[baffling, worst, terrorist, attack, history, d, think, american, college, students, clue, attacked.]                                              |(262144,[17371,27498,27526,46064,70028,105411,111857,138836,175861,231829,247051,250719],[1.0,1.0,1.0,1.0,1.0,1.0,1.0,1.0,1.0,1.0,1.0,1.0])                                                    |(262144,[17371,27498,27526,46064,70028,105411,111857,138836,175861,231829,247051,250719],[3.5624199192240624,5.828694788161515,2.944803934349433,6.440011950473828,1.7333171679963004,3.520698008206743,3.237265507535511,1.6700539822106597,2.93875378624875,3.411950789804477,6.5613728074780955,2.5317101458475357])                                                                                                                        |(262145,[17371,27498,27526,46064,70028,105411,111857,138836,175861,231829,247051,250719,262144],[3.5624199192240624,5.828694788161515,2.944803934349433,6.440011950473828,1.7333171679963004,3.520698008206743,3.237265507535511,1.6700539822106597,2.93875378624875,3.411950789804477,6.5613728074780955,2.5317101458475357,135.0])                                                                                                                        |[-514.1861633963855,-574.5386274140849]  |[1.0,6.1554230692529416E-27]               |0.0       |\n",
            "|Fake    |Boom! Share this everywhere, as Hillary aligns herself with her with the  successes  of her philandering, lying husband                       |120   |0.0  |[boom!, share, this, everywhere,, as, hillary, aligns, herself, with, her, with, the, , successes, , of, her, philandering,, lying, husband]                            |[boom!, share, everywhere,, hillary, aligns, , successes, , philandering,, lying, husband]                                                         |(262144,[18410,63140,79024,84215,99546,184659,219753,237337,249180,257429],[1.0,1.0,1.0,1.0,1.0,1.0,1.0,1.0,2.0,1.0])                                                                          |(262144,[18410,63140,79024,84215,99546,184659,219753,237337,249180,257429],[3.843691713314924,6.411841073507132,1.811404294658288,9.079069280089087,7.287309810861031,6.3317983658335955,3.8205327835528946,3.2489478833898677,0.2895446135759511,6.357773852236856])                                                                                                                                                                          |(262145,[18410,63140,79024,84215,99546,184659,219753,237337,249180,257429,262144],[3.843691713314924,6.411841073507132,1.811404294658288,9.079069280089087,7.287309810861031,6.3317983658335955,3.8205327835528946,3.2489478833898677,0.2895446135759511,6.357773852236856,120.0])                                                                                                                                                                          |[-647.8062591991817,-658.258696432847]   |[0.9999711230284034,2.8876971596532913E-5] |0.0       |\n",
            "|Fake    |Both of these guys are honest so it s good to see a refreshingly candid discussion with Trump and O Reilly.                                   |108   |0.0  |[both, of, these, guys, are, honest, so, it, s, good, to, see, a, refreshingly, candid, discussion, with, trump, and, o, reilly.]                                       |[guys, honest, good, see, refreshingly, candid, discussion, trump, o, reilly.]                                                                     |(262144,[7612,47205,50243,101376,113432,183449,195799,214027,215995,250208],[1.0,1.0,1.0,1.0,1.0,1.0,1.0,1.0,1.0,1.0])                                                                         |(262144,[7612,47205,50243,101376,113432,183449,195799,214027,215995,250208],[0.7648249327015396,4.550780138436953,8.203600542735186,4.5336490985067694,2.1353678743334803,7.254519988038041,3.893920611646688,6.681174007290716,1.848216523434214,4.1345737884973754])                                                                                                                                                                         |(262145,[7612,47205,50243,101376,113432,183449,195799,214027,215995,250208,262144],[0.7648249327015396,4.550780138436953,8.203600542735186,4.5336490985067694,2.1353678743334803,7.254519988038041,3.893920611646688,6.681174007290716,1.848216523434214,4.1345737884973754,108.0])                                                                                                                                                                         |[-555.0936857997107,-597.6978770435458]  |[1.0,3.142207326112001E-19]                |0.0       |\n",
            "|Fake    |CNN s Carol Costello couldn t get the right answer out of the pro-Trump and anti-Clinton folks this must have driven her crazy!               |128   |0.0  |[cnn, s, carol, costello, couldn, t, get, the, right, answer, out, of, the, pro-trump, and, anti-clinton, folks, this, must, have, driven, her, crazy!]                 |[cnn, carol, costello, couldn, get, right, answer, pro-trump, anti-clinton, folks, must, driven, crazy!]                                           |(262144,[12247,51044,85149,91935,99895,107421,118590,129757,134723,181489,182357,224881,229407],[1.0,1.0,1.0,1.0,1.0,1.0,1.0,1.0,1.0,1.0,1.0,1.0,1.0])                                         |(262144,[12247,51044,85149,91935,99895,107421,118590,129757,134723,181489,182357,224881,229407],[4.581484304780933,3.4681333557992375,5.341399661805719,6.3317983658335955,1.497145787144807,7.162146667907026,1.8993040980494642,8.12355783506165,3.082119802750535,3.4769504592093856,4.376772383370272,7.287309810861031,1.8917145048485247])                                                                                               |(262145,[12247,51044,85149,91935,99895,107421,118590,129757,134723,181489,182357,224881,229407,262144],[4.581484304780933,3.4681333557992375,5.341399661805719,6.3317983658335955,1.497145787144807,7.162146667907026,1.8993040980494642,8.12355783506165,3.082119802750535,3.4769504592093856,4.376772383370272,7.287309810861031,1.8917145048485247,128.0])                                                                                               |[-715.0070624515682,-815.7332425417869]  |[1.0,1.7995992505287332E-44]               |0.0       |\n",
            "|Fake    |Can you believe this? This is ridiculous! No one is denying we have a climate and that it changes. The left thinks up the most idiotic terms  |141   |0.0  |[can, you, believe, this?, this, is, ridiculous!, no, one, is, denying, we, have, a, climate, and, that, it, changes., the, left, thinks, up, the, most, idiotic, terms]|[believe, this?, ridiculous!, one, denying, climate, changes., left, thinks, idiotic, terms]                                                       |(262144,[632,41438,76803,103642,118554,125372,149291,170414,171830,176550,215352],[1.0,1.0,1.0,1.0,1.0,1.0,1.0,1.0,1.0,1.0,1.0])                                                               |(262144,[632,41438,76803,103642,118554,125372,149291,170414,171830,176550,215352],[3.4630257197408922,7.855293848466971,3.4251775750463507,3.4955729713073875,2.279567586547204,0.8521214435277948,5.88448614778993,2.1715140211096164,5.582561718622606,4.645874358840806,5.06088607883255])                                                                                                                                                  |(262145,[632,41438,76803,103642,118554,125372,149291,170414,171830,176550,215352,262144],[3.4630257197408922,7.855293848466971,3.4251775750463507,3.4955729713073875,2.279567586547204,0.8521214435277948,5.88448614778993,2.1715140211096164,5.582561718622606,4.645874358840806,5.06088607883255,141.0])                                                                                                                                                  |[-552.5740572152165,-623.8075016183959]  |[1.0,1.1579989583623225E-31]               |0.0       |\n",
            "|Fake    |Can you blame her for losing her cool with Crooked Lying Hillary? Share this with all of your  undecided  friends!https://youtu.be/CCkXOix0g2Y|142   |0.0  |[can, you, blame, her, for, losing, her, cool, with, crooked, lying, hillary?, share, this, with, all, of, your, , undecided, , friends!https://youtu.be/cckxoix0g2y]   |[blame, losing, cool, crooked, lying, hillary?, share, , undecided, , friends!https://youtu.be/cckxoix0g2y]                                        |(262144,[36,6061,57512,99244,196990,219753,223619,237337,249180,251136],[1.0,1.0,1.0,1.0,1.0,1.0,1.0,1.0,2.0,1.0])                                                                             |(262144,[36,6061,57512,99244,196990,219753,223619,237337,249180,251136],[9.079069280089087,3.7243715801049424,3.6436020753938165,6.384442099319017,4.802403161073031,3.8205327835528946,5.276861140668147,3.2489478833898677,0.2895446135759511,5.926333257725431])                                                                                                                                                                            |(262145,[36,6061,57512,99244,196990,219753,223619,237337,249180,251136,262144],[9.079069280089087,3.7243715801049424,3.6436020753938165,6.384442099319017,4.802403161073031,3.8205327835528946,5.276861140668147,3.2489478833898677,0.2895446135759511,5.926333257725431,142.0])                                                                                                                                                                            |[-593.6478904904743,-661.046337413764]   |[1.0,5.3607605921257724E-30]               |0.0       |\n",
            "|Fake    |Clinton Stumbles Way Through Answering Most Meaningful Conversation She Had With an African American                                          |102   |0.0  |[clinton, stumbles, way, through, answering, most, meaningful, conversation, she, had, with, an, african, american]                                                     |[clinton, stumbles, way, answering, meaningful, conversation, african, american]                                                                   |(262144,[36974,58329,138836,187509,193028,199255,217533,233454],[1.0,1.0,1.0,1.0,1.0,1.0,1.0,1.0])                                                                                             |(262144,[36974,58329,138836,187509,193028,199255,217533,233454],[1.9683731571102592,3.896162765052378,1.6700539822106597,5.3366490590471205,7.692774918969196,1.7788665900800886,3.844757243516962,5.405303463785199])                                                                                                                                                                                                                         |(262145,[36974,58329,138836,187509,193028,199255,217533,233454,262144],[1.9683731571102592,3.896162765052378,1.6700539822106597,5.3366490590471205,7.692774918969196,1.7788665900800886,3.844757243516962,5.405303463785199,102.0])                                                                                                                                                                                                                         |[-396.40023898270965,-399.4514876542181] |[0.9548364046259337,0.04516359537406633]   |0.0       |\n",
            "|Fake    |DONALD TRUMP released a brilliant video with clips from Hillary s lying and heartless treatment of Benghazi victim s families:                |127   |0.0  |[donald, trump, released, a, brilliant, video, with, clips, from, hillary, s, lying, and, heartless, treatment, of, benghazi, victim, s, families:]                     |[donald, trump, released, brilliant, video, clips, hillary, lying, heartless, treatment, benghazi, victim, families:]                              |(262144,[5090,7612,32259,53542,60392,69034,79024,170380,211542,216375,216902,219753,261454],[1.0,1.0,1.0,1.0,1.0,1.0,1.0,1.0,1.0,1.0,1.0,1.0,1.0])                                             |(262144,[5090,7612,32259,53542,60392,69034,79024,170380,211542,216375,216902,219753,261454],[4.750970987440761,0.7648249327015396,6.2458559360328705,8.385922099529141,2.5056684817571613,4.929605418645906,1.811404294658288,0.8774639303783388,3.9223154778628366,6.083337006535095,2.199919258117284,3.8205327835528946,4.03306684215554])                                                                                                  |(262145,[5090,7612,32259,53542,60392,69034,79024,170380,211542,216375,216902,219753,261454,262144],[4.750970987440761,0.7648249327015396,6.2458559360328705,8.385922099529141,2.5056684817571613,4.929605418645906,1.811404294658288,0.8774639303783388,3.9223154778628366,6.083337006535095,2.199919258117284,3.8205327835528946,4.03306684215554,127.0])                                                                                                  |[-601.511133257266,-683.7702771677227]   |[1.0,1.8849841970348252E-36]               |0.0       |\n",
            "|Fake    |Did someone not tell this goofball that Ramadi just fell to ISIS? Does this parade look like a success for America to you?                    |123   |0.0  |[did, someone, not, tell, this, goofball, that, ramadi, just, fell, to, isis?, does, this, parade, look, like, a, success, for, america, to, you?]                      |[someone, tell, goofball, ramadi, fell, isis?, parade, look, like, success, america, you?]                                                         |(262144,[23574,52800,54957,85530,91061,193433,208258,221437,223763,238625,244875,253534],[1.0,1.0,1.0,1.0,1.0,1.0,1.0,1.0,1.0,1.0,1.0,1.0])                                                    |(262144,[23574,52800,54957,85530,91061,193433,208258,221437,223763,238625,244875,253534],[2.040110315491605,3.9586831220337118,7.798135434627023,2.7746204776671055,5.564543213119928,8.385922099529141,1.2394649303169418,7.597464739164871,2.386737429406021,4.266884924716669,5.441483120362701,2.650318012549984])                                                                                                                         |(262145,[23574,52800,54957,85530,91061,193433,208258,221437,223763,238625,244875,253534,262144],[2.040110315491605,3.9586831220337118,7.798135434627023,2.7746204776671055,5.564543213119928,8.385922099529141,1.2394649303169418,7.597464739164871,2.386737429406021,4.266884924716669,5.441483120362701,2.650318012549984,123.0])                                                                                                                         |[-675.908868575103,-736.7088332831426]   |[1.0,3.934692770855191E-27]                |0.0       |\n",
            "|Fake    |Donald Trump was in Nashville this past weekend and spoke to the silent majority that he says is  sick of being the patsies .                 |126   |0.0  |[donald, trump, was, in, nashville, this, past, weekend, and, spoke, to, the, silent, majority, that, he, says, is, , sick, of, being, the, patsies, .]                 |[donald, trump, nashville, past, weekend, spoke, silent, majority, says, , sick, patsies, .]                                                       |(262144,[1536,7612,63729,64761,96607,161826,166162,170380,194412,249180,250555,250556,261677],[1.0,1.0,1.0,1.0,1.0,1.0,1.0,1.0,1.0,1.0,1.0,1.0,1.0])                                           |(262144,[1536,7612,63729,64761,96607,161826,166162,170380,194412,249180,250555,250556,261677],[2.4254323567205898,0.7648249327015396,2.9250608037958243,7.1919996310567065,4.8420684174654625,1.9510546049726027,3.8630471562678803,0.8774639303783388,8.203600542735186,0.14477230678797556,2.2357458612663383,2.634938023388646,4.19930226119787])                                                                                           |(262145,[1536,7612,63729,64761,96607,161826,166162,170380,194412,249180,250555,250556,261677,262144],[2.4254323567205898,0.7648249327015396,2.9250608037958243,7.1919996310567065,4.8420684174654625,1.9510546049726027,3.8630471562678803,0.8774639303783388,8.203600542735186,0.14477230678797556,2.2357458612663383,2.634938023388646,4.19930226119787,126.0])                                                                                           |[-512.8690232570011,-565.4605926366042]  |[1.0,1.444679877934836E-23]                |0.0       |\n",
            "|Fake    |Fox News Senior Judicial Analyst Judge Andrew Napolitano discusses whether it s unlawful for the U.S. to pay Iran $400 million as ransom.     |138   |0.0  |[fox, news, senior, judicial, analyst, judge, andrew, napolitano, discusses, whether, it, s, unlawful, for, the, u.s., to, pay, iran, $400, million, as, ransom.]       |[fox, news, senior, judicial, analyst, judge, andrew, napolitano, discusses, whether, unlawful, u.s., pay, iran, $400, million, ransom.]           |(262144,[29699,49185,71481,80173,86107,87367,90843,95547,102025,129637,143080,159354,167292,185758,192301,235436,243143],[1.0,1.0,1.0,1.0,1.0,1.0,1.0,1.0,1.0,1.0,1.0,1.0,1.0,1.0,1.0,1.0,1.0])|(262144,[29699,49185,71481,80173,86107,87367,90843,95547,102025,129637,143080,159354,167292,185758,192301,235436,243143],[5.224675387497577,1.44453863956702,4.022823474740779,4.076466157690095,8.04944986290793,1.947690564955889,0.9886056920857379,2.648704848786703,3.0479033661295527,2.6942122061072094,3.255431843624607,2.4161920445671656,6.545372466131655,2.05637946301485,5.970008321228092,4.3341371517258365,5.739747302145019])|(262145,[29699,49185,71481,80173,86107,87367,90843,95547,102025,129637,143080,159354,167292,185758,192301,235436,243143,262144],[5.224675387497577,1.44453863956702,4.022823474740779,4.076466157690095,8.04944986290793,1.947690564955889,0.9886056920857379,2.648704848786703,3.0479033661295527,2.6942122061072094,3.255431843624607,2.4161920445671656,6.545372466131655,2.05637946301485,5.970008321228092,4.3341371517258365,5.739747302145019,138.0])|[-762.3000627388298,-787.8395810031326]  |[0.9999999999919029,8.0970747268585E-12]   |0.0       |\n",
            "|Fake    |Fox News Senior Judicial Analyst Judge Andrew Napolitano discusses whether it s unlawful for the U.S. to pay Iran $400 million as ransom.     |138   |0.0  |[fox, news, senior, judicial, analyst, judge, andrew, napolitano, discusses, whether, it, s, unlawful, for, the, u.s., to, pay, iran, $400, million, as, ransom.]       |[fox, news, senior, judicial, analyst, judge, andrew, napolitano, discusses, whether, unlawful, u.s., pay, iran, $400, million, ransom.]           |(262144,[29699,49185,71481,80173,86107,87367,90843,95547,102025,129637,143080,159354,167292,185758,192301,235436,243143],[1.0,1.0,1.0,1.0,1.0,1.0,1.0,1.0,1.0,1.0,1.0,1.0,1.0,1.0,1.0,1.0,1.0])|(262144,[29699,49185,71481,80173,86107,87367,90843,95547,102025,129637,143080,159354,167292,185758,192301,235436,243143],[5.224675387497577,1.44453863956702,4.022823474740779,4.076466157690095,8.04944986290793,1.947690564955889,0.9886056920857379,2.648704848786703,3.0479033661295527,2.6942122061072094,3.255431843624607,2.4161920445671656,6.545372466131655,2.05637946301485,5.970008321228092,4.3341371517258365,5.739747302145019])|(262145,[29699,49185,71481,80173,86107,87367,90843,95547,102025,129637,143080,159354,167292,185758,192301,235436,243143,262144],[5.224675387497577,1.44453863956702,4.022823474740779,4.076466157690095,8.04944986290793,1.947690564955889,0.9886056920857379,2.648704848786703,3.0479033661295527,2.6942122061072094,3.255431843624607,2.4161920445671656,6.545372466131655,2.05637946301485,5.970008321228092,4.3341371517258365,5.739747302145019,138.0])|[-762.3000627388298,-787.8395810031326]  |[0.9999999999919029,8.0970747268585E-12]   |0.0       |\n",
            "|Fake    |General Boykin spoke at The Awakening 2016 conference and had this to say about the hot topic of gender neutral bathrooms:                    |123   |0.0  |[general, boykin, spoke, at, the, awakening, 2016, conference, and, had, this, to, say, about, the, hot, topic, of, gender, neutral, bathrooms:]                        |[general, boykin, spoke, awakening, 2016, conference, say, hot, topic, gender, neutral, bathrooms:]                                                |(262144,[2285,42343,63729,65212,68369,74253,96747,117576,145554,169800,217990,225292],[1.0,1.0,1.0,1.0,1.0,1.0,1.0,1.0,1.0,1.0,1.0,1.0])                                                       |(262144,[2285,42343,63729,65212,68369,74253,96747,117576,145554,169800,217990,225292],[8.385922099529141,4.481931265798259,2.9250608037958243,1.5623095886594323,2.150727367498561,2.7812235830968395,7.287309810861031,8.609065650843352,4.475901096771668,2.2503572084474026,5.570513380106432,4.510563078472587])                                                                                                                           |(262145,[2285,42343,63729,65212,68369,74253,96747,117576,145554,169800,217990,225292,262144],[8.385922099529141,4.481931265798259,2.9250608037958243,1.5623095886594323,2.150727367498561,2.7812235830968395,7.287309810861031,8.609065650843352,4.475901096771668,2.2503572084474026,5.570513380106432,4.510563078472587,123.0])                                                                                                                           |[-714.4367043543825,-729.2374516344325]  |[0.9999996266493034,3.733506966956131E-7]  |0.0       |\n",
            "|Fake    |General Boykin spoke at The Awakening 2016 conference and had this to say about the hot topic of gender neutral bathrooms:                    |123   |0.0  |[general, boykin, spoke, at, the, awakening, 2016, conference, and, had, this, to, say, about, the, hot, topic, of, gender, neutral, bathrooms:]                        |[general, boykin, spoke, awakening, 2016, conference, say, hot, topic, gender, neutral, bathrooms:]                                                |(262144,[2285,42343,63729,65212,68369,74253,96747,117576,145554,169800,217990,225292],[1.0,1.0,1.0,1.0,1.0,1.0,1.0,1.0,1.0,1.0,1.0,1.0])                                                       |(262144,[2285,42343,63729,65212,68369,74253,96747,117576,145554,169800,217990,225292],[8.385922099529141,4.481931265798259,2.9250608037958243,1.5623095886594323,2.150727367498561,2.7812235830968395,7.287309810861031,8.609065650843352,4.475901096771668,2.2503572084474026,5.570513380106432,4.510563078472587])                                                                                                                           |(262145,[2285,42343,63729,65212,68369,74253,96747,117576,145554,169800,217990,225292,262144],[8.385922099529141,4.481931265798259,2.9250608037958243,1.5623095886594323,2.150727367498561,2.7812235830968395,7.287309810861031,8.609065650843352,4.475901096771668,2.2503572084474026,5.570513380106432,4.510563078472587,123.0])                                                                                                                           |[-714.4367043543825,-729.2374516344325]  |[0.9999996266493034,3.733506966956131E-7]  |0.0       |\n",
            "|Fake    |Hillary Clinton was all smiles at a rally in California until her podium starts to collapse is this just a big case of karma?                 |126   |0.0  |[hillary, clinton, was, all, smiles, at, a, rally, in, california, until, her, podium, starts, to, collapse, is, this, just, a, big, case, of, karma?]                  |[hillary, clinton, smiles, rally, california, podium, starts, collapse, big, case, karma?]                                                         |(262144,[30006,36974,47632,79024,94045,142156,192310,203457,214923,243254,244344],[1.0,1.0,1.0,1.0,1.0,1.0,1.0,1.0,1.0,1.0,1.0])                                                               |(262144,[30006,36974,47632,79024,94045,142156,192310,203457,214923,243254,244344],[2.376863244020208,1.9683731571102592,3.5934428152360565,1.811404294658288,8.491282615186968,3.213735010125317,2.445487723533938,4.692055103904166,6.9996277384092505,5.9093836994116575,4.588188240503123])                                                                                                                                                 |(262145,[30006,36974,47632,79024,94045,142156,192310,203457,214923,243254,244344,262144],[2.376863244020208,1.9683731571102592,3.5934428152360565,1.811404294658288,8.491282615186968,3.213735010125317,2.445487723533938,4.692055103904166,6.9996277384092505,5.9093836994116575,4.588188240503123,126.0])                                                                                                                                                 |[-573.2027505675942,-623.4361948659083]  |[1.0,1.5271874069523727E-22]               |0.0       |\n",
            "|Fake    |Hillary Clinton was all smiles at a rally in California until her podium starts to collapse is this just a big case of karma?                 |126   |0.0  |[hillary, clinton, was, all, smiles, at, a, rally, in, california, until, her, podium, starts, to, collapse, is, this, just, a, big, case, of, karma?]                  |[hillary, clinton, smiles, rally, california, podium, starts, collapse, big, case, karma?]                                                         |(262144,[30006,36974,47632,79024,94045,142156,192310,203457,214923,243254,244344],[1.0,1.0,1.0,1.0,1.0,1.0,1.0,1.0,1.0,1.0,1.0])                                                               |(262144,[30006,36974,47632,79024,94045,142156,192310,203457,214923,243254,244344],[2.376863244020208,1.9683731571102592,3.5934428152360565,1.811404294658288,8.491282615186968,3.213735010125317,2.445487723533938,4.692055103904166,6.9996277384092505,5.9093836994116575,4.588188240503123])                                                                                                                                                 |(262145,[30006,36974,47632,79024,94045,142156,192310,203457,214923,243254,244344,262144],[2.376863244020208,1.9683731571102592,3.5934428152360565,1.811404294658288,8.491282615186968,3.213735010125317,2.445487723533938,4.692055103904166,6.9996277384092505,5.9093836994116575,4.588188240503123,126.0])                                                                                                                                                 |[-573.2027505675942,-623.4361948659083]  |[1.0,1.5271874069523727E-22]               |0.0       |\n",
            "|Fake    |Hillary Clinton, on her campaign plane, responds to explosion in NYC pic.twitter.com/4tfyUE2vNc  Liz Kreutz (@ABCLiz) September 18, 2016      |136   |0.0  |[hillary, clinton,, on, her, campaign, plane,, responds, to, explosion, in, nyc, pic.twitter.com/4tfyue2vnc, , liz, kreutz, (@abcliz), september, 18,, 2016]            |[hillary, clinton,, campaign, plane,, responds, explosion, nyc, pic.twitter.com/4tfyue2vnc, , liz, kreutz, (@abcliz), september, 18,, 2016]        |(262144,[285,479,24990,45998,69442,79024,102003,123219,142394,150925,169800,226147,246606,249180,254607],[1.0,1.0,1.0,1.0,1.0,1.0,1.0,1.0,1.0,1.0,1.0,1.0,1.0,1.0,1.0])                        |(262144,[285,479,24990,45998,69442,79024,102003,123219,142394,150925,169800,226147,246606,249180,254607],[4.822039135589891,8.742597043467873,8.896747723295132,6.0733866756819275,2.9918401109967254,1.811404294658288,5.294879646170825,5.632261387174879,6.425827315481872,5.691294918759072,2.2503572084474026,1.6629313589920989,9.99536001196324,0.14477230678797556,3.262553535445646])                                                 |(262145,[285,479,24990,45998,69442,79024,102003,123219,142394,150925,169800,226147,246606,249180,254607,262144],[4.822039135589891,8.742597043467873,8.896747723295132,6.0733866756819275,2.9918401109967254,1.811404294658288,5.294879646170825,5.632261387174879,6.425827315481872,5.691294918759072,2.2503572084474026,1.6629313589920989,9.99536001196324,0.14477230678797556,3.262553535445646,136.0])                                                 |[-982.7577858124296,-1061.3744121986992] |[1.0,7.198350255032338E-35]                |0.0       |\n",
            "|Fake    |Hillary has to be the absolute worst dancer ever what s with the hands in the air like ya just don t care? Too funny!                         |118   |0.0  |[hillary, has, to, be, the, absolute, worst, dancer, ever, what, s, with, the, hands, in, the, air, like, ya, just, don, t, care?, too, funny!]                         |[hillary, absolute, worst, dancer, ever, hands, air, like, ya, care?, funny!]                                                                      |(262144,[79024,145303,151092,165003,176992,188570,203802,208258,212374,231829,245429],[1.0,1.0,1.0,1.0,1.0,1.0,1.0,1.0,1.0,1.0,1.0])                                                           |(262144,[79024,145303,151092,165003,176992,188570,203802,208258,212374,231829,245429],[1.811404294658288,5.892716646926446,6.6631555017880375,7.915918470283406,6.006375965398967,2.953510998500406,2.477567459144166,1.2394649303169418,3.362699689927414,3.411950789804477,4.620081604279076])                                                                                                                                               |(262145,[79024,145303,151092,165003,176992,188570,203802,208258,212374,231829,245429,262144],[1.811404294658288,5.892716646926446,6.6631555017880375,7.915918470283406,6.006375965398967,2.953510998500406,2.477567459144166,1.2394649303169418,3.362699689927414,3.411950789804477,4.620081604279076,118.0])                                                                                                                                               |[-568.6801192621983,-642.1438361104969]  |[1.0,1.2448389044281548E-32]               |0.0       |\n",
            "|Fake    |Holy smokes! Even the Danish press sees through our idiotic president who becomes a blithering robot when greeting world leaders really lame! |142   |0.0  |[holy, smokes!, even, the, danish, press, sees, through, our, idiotic, president, who, becomes, a, blithering, robot, when, greeting, world, leaders, really, lame!]    |[holy, smokes!, even, danish, press, sees, idiotic, president, becomes, blithering, robot, greeting, world, leaders, really, lame!]                |(262144,[14,28384,30356,31143,55638,60294,67684,108453,124361,137654,148081,149291,174966,181726,230926,250590],[1.0,1.0,1.0,1.0,1.0,1.0,1.0,1.0,1.0,1.0,1.0,1.0,1.0,1.0,1.0,1.0])             |(262144,[14,28384,30356,31143,55638,60294,67684,108453,124361,137654,148081,149291,174966,181726,230926,250590],[2.129212825088314,6.73726347394176,9.079069280089087,8.04944986290793,8.203600542735186,2.014310252297285,4.185717146607563,4.0292132728395496,0.7160067687001049,6.281787945258934,4.955165915625441,5.88448614778993,1.3701199164638704,2.018421255003807,2.563172105808897,6.859865796034092])                             |(262145,[14,28384,30356,31143,55638,60294,67684,108453,124361,137654,148081,149291,174966,181726,230926,250590,262144],[2.129212825088314,6.73726347394176,9.079069280089087,8.04944986290793,8.203600542735186,2.014310252297285,4.185717146607563,4.0292132728395496,0.7160067687001049,6.281787945258934,4.955165915625441,5.88448614778993,1.3701199164638704,2.018421255003807,2.563172105808897,6.859865796034092,142.0])                             |[-965.9704193752999,-1072.1619635108043] |[1.0,7.613745523475708E-47]                |0.0       |\n",
            "|Fake    |I saw this live on Cavuto and it s just so great! Ted Turner jr. is stumping for Ben Carson. You ll love this!                                |111   |0.0  |[i, saw, this, live, on, cavuto, and, it, s, just, so, great!, ted, turner, jr., is, stumping, for, ben, carson., you, ll, love, this!]                                 |[saw, live, cavuto, great!, ted, turner, jr., stumping, ben, carson., ll, love, this!]                                                             |(262144,[6981,9303,33053,48677,80023,85776,106894,186480,188000,215378,233631,244373,253291],[1.0,1.0,1.0,1.0,1.0,1.0,1.0,1.0,1.0,1.0,1.0,1.0,1.0])                                            |(262144,[6981,9303,33053,48677,80023,85776,106894,186480,188000,215378,233631,244373,253291],[3.077159475119566,4.011423731276051,2.841526210384399,3.383991246063032,6.5141199226275495,7.024945546393541,6.974935125818879,3.201893879383232,6.974935125818879,6.8173061816152964,2.713286353869777,4.33587779620362,7.392670326518858])                                                                                                     |(262145,[6981,9303,33053,48677,80023,85776,106894,186480,188000,215378,233631,244373,253291,262144],[3.077159475119566,4.011423731276051,2.841526210384399,3.383991246063032,6.5141199226275495,7.024945546393541,6.974935125818879,3.201893879383232,6.974935125818879,6.8173061816152964,2.713286353869777,4.33587779620362,7.392670326518858,111.0])                                                                                                     |[-794.2816972096902,-872.8789882246398]  |[1.0,7.338887319906908E-35]                |0.0       |\n",
            "|Fake    |I ve been a lifelong Republican all of my life. I m ashamed to call myself a Republican. https://youtu.be/MVc_hIKFmmE                         |118   |0.0  |[i, ve, been, a, lifelong, republican, all, of, my, life., i, m, ashamed, to, call, myself, a, republican., https://youtu.be/mvc_hikfmme]                               |[ve, lifelong, republican, life., m, ashamed, call, republican., https://youtu.be/mvc_hikfmme]                                                     |(262144,[12074,18910,19164,62990,74457,109706,165267,196685,244212],[1.0,1.0,1.0,1.0,1.0,1.0,1.0,1.0,1.0])                                                                                     |(262144,[12074,18910,19164,62990,74457,109706,165267,196685,244212],[1.4013909817449546,2.5537464101045413,4.253960673735734,9.99536001196324,5.259161563568746,2.3181911969677094,2.3535555611007335,5.304012129734098,5.852225285571709])                                                                                                                                                                                                    |(262145,[12074,18910,19164,62990,74457,109706,165267,196685,244212,262144],[1.4013909817449546,2.5537464101045413,4.253960673735734,9.99536001196324,5.259161563568746,2.3181911969677094,2.3535555611007335,5.304012129734098,5.852225285571709,118.0])                                                                                                                                                                                                    |[-530.6601791667092,-559.1715328892606]  |[0.9999999999995854,4.1464497507854534E-13]|0.0       |\n",
            "|Fake    |If booster and sponsors were shown in presidential campaigns just like they are in NASCAR, we d have the picture below:                       |120   |0.0  |[if, booster, and, sponsors, were, shown, in, presidential, campaigns, just, like, they, are, in, nascar,, we, d, have, the, picture, below:]                           |[booster, sponsors, shown, presidential, campaigns, like, nascar,, d, picture, below:]                                                             |(262144,[7713,27526,29808,41482,42389,77910,113246,208258,245268,246378],[1.0,1.0,1.0,1.0,1.0,1.0,1.0,1.0,1.0,1.0])                                                                            |(262144,[7713,27526,29808,41482,42389,77910,113246,208258,245268,246378],[4.299945786977557,2.944803934349433,8.290611919724817,7.980456991420977,3.892801417349673,5.479021039681766,1.620191320576422,1.2394649303169418,5.798158064301433,3.7386507375224145])                                                                                                                                                                              |(262145,[7713,27526,29808,41482,42389,77910,113246,208258,245268,246378,262144],[4.299945786977557,2.944803934349433,8.290611919724817,7.980456991420977,3.892801417349673,5.479021039681766,1.620191320576422,1.2394649303169418,5.798158064301433,3.7386507375224145,120.0])                                                                                                                                                                              |[-580.6948514782574,-632.3609382729817]  |[1.0,3.645050952638033E-23]                |0.0       |\n",
            "|Fake    |If ignorance is bliss the happiest people on earth can be found outside a Trump rally holding an anti-Trump sign Enjoy:                       |119   |0.0  |[if, ignorance, is, bliss, the, happiest, people, on, earth, can, be, found, outside, a, trump, rally, holding, an, anti-trump, sign, enjoy:]                           |[ignorance, bliss, happiest, people, earth, found, outside, trump, rally, holding, anti-trump, sign, enjoy:]                                       |(262144,[7612,8985,10450,37718,67057,97441,100536,114686,124643,142156,152794,171497,260452],[1.0,1.0,1.0,1.0,1.0,1.0,1.0,1.0,1.0,1.0,1.0,1.0,1.0])                                            |(262144,[7612,8985,10450,37718,67057,97441,100536,114686,124643,142156,152794,171497,260452],[0.7648249327015396,3.273332082909892,2.767697513234587,7.510453362175242,4.955165915625441,8.609065650843352,4.291577537307041,0.9397454851902144,2.386241397649819,3.213735010125317,5.263557175041784,7.980456991420977,3.118579537280535])                                                                                                    |(262145,[7612,8985,10450,37718,67057,97441,100536,114686,124643,142156,152794,171497,260452,262144],[0.7648249327015396,3.273332082909892,2.767697513234587,7.510453362175242,4.955165915625441,8.609065650843352,4.291577537307041,0.9397454851902144,2.386241397649819,3.213735010125317,5.263557175041784,7.980456991420977,3.118579537280535,119.0])                                                                                                    |[-680.2100060076087,-760.3894657674236]  |[1.0,1.5083532532583498E-35]               |0.0       |\n",
            "|Fake    |In her victory speech in South Carolina, Hillary decides to take a swipe at Donald Trump but misses the mark!                                 |110   |0.0  |[in, her, victory, speech, in, south, carolina,, hillary, decides, to, take, a, swipe, at, donald, trump, but, misses, the, mark!]                                      |[victory, speech, south, carolina,, hillary, decides, take, swipe, donald, trump, misses, mark!]                                                   |(262144,[7612,46935,51281,51840,55639,78935,79024,146274,162231,170380,189180,225682],[1.0,1.0,1.0,1.0,1.0,1.0,1.0,1.0,1.0,1.0,1.0,1.0])                                                       |(262144,[7612,46935,51281,51840,55639,78935,79024,146274,162231,170380,189180,225682],[0.7648249327015396,6.044116293381815,4.981396927774311,2.6352560389740898,1.5977389556878492,3.3151328826131383,1.811404294658288,7.287309810861031,2.648704848786703,0.8774639303783388,8.290611919724817,4.634067846253816])                                                                                                                          |(262145,[7612,46935,51281,51840,55639,78935,79024,146274,162231,170380,189180,225682,262144],[0.7648249327015396,6.044116293381815,4.981396927774311,2.6352560389740898,1.5977389556878492,3.3151328826131383,1.811404294658288,7.287309810861031,2.648704848786703,0.8774639303783388,8.290611919724817,4.634067846253816,110.0])                                                                                                                          |[-560.2435856568032,-602.3652724238499]  |[1.0,5.090774600557694E-19]                |0.0       |\n",
            "|Fake    |It s probably just a big misunderstanding. Bill likely misspoke kinda like, I did not have sexual relations with that woman.                  |125   |0.0  |[it, s, probably, just, a, big, misunderstanding., bill, likely, misspoke, kinda, like,, i, did, not, have, sexual, relations, with, that, woman.]                      |[probably, big, misunderstanding., bill, likely, misspoke, kinda, like,, sexual, relations, woman.]                                                |(262144,[7897,13815,30006,35221,54747,58839,125426,132886,144267,148921,160064],[1.0,1.0,1.0,1.0,1.0,1.0,1.0,1.0,1.0,1.0,1.0])                                                                 |(262144,[7897,13815,30006,35221,54747,58839,125426,132886,144267,148921,160064],[4.624721983835579,5.108777366536965,2.376863244020208,2.2430248486609496,2.994114389893766,2.189477971734621,3.388034378255388,8.290611919724817,6.384442099319017,2.940478668090811,7.321211362536713])                                                                                                                                                      |(262145,[7897,13815,30006,35221,54747,58839,125426,132886,144267,148921,160064,262144],[4.624721983835579,5.108777366536965,2.376863244020208,2.2430248486609496,2.994114389893766,2.189477971734621,3.388034378255388,8.290611919724817,6.384442099319017,2.940478668090811,7.321211362536713,125.0])                                                                                                                                                      |[-594.5800514318549,-645.1755286428015]  |[1.0,1.0633186666585495E-22]               |0.0       |\n",
            "|Fake    |Just released hysterical video of  Sarah Palin  and Donald Trump having a phone conversation about his candidacy                              |113   |0.0  |[just, released, hysterical, video, of, , sarah, palin, , and, donald, trump, having, a, phone, conversation, about, his, candidacy]                                    |[released, hysterical, video, , sarah, palin, , donald, trump, phone, conversation, candidacy]                                                     |(262144,[7612,35887,58329,60392,156925,170380,186712,216902,217672,249180,254910],[1.0,1.0,1.0,1.0,1.0,1.0,1.0,1.0,1.0,2.0,1.0])                                                               |(262144,[7612,35887,58329,60392,156925,170380,186712,216902,217672,249180,254910],[0.7648249327015396,6.0733866756819275,3.896162765052378,2.5056684817571613,4.865461297040168,0.8774639303783388,3.362699689927414,2.199919258117284,5.39018982597515,0.2895446135759511,4.065770868573347])                                                                                                                                                 |(262145,[7612,35887,58329,60392,156925,170380,186712,216902,217672,249180,254910,262144],[0.7648249327015396,6.0733866756819275,3.896162765052378,2.5056684817571613,4.865461297040168,0.8774639303783388,3.362699689927414,2.199919258117284,5.39018982597515,0.2895446135759511,4.065770868573347,113.0])                                                                                                                                                 |[-392.6625963540122,-431.5938846301428]  |[1.0,1.2369619150359239E-17]               |0.0       |\n",
            "|Fake    |Laura Ingraham reminds the Never Trump people that they had better vote for Trump or it s another 4 years of decline:                         |118   |0.0  |[laura, ingraham, reminds, the, never, trump, people, that, they, had, better, vote, for, trump, or, it, s, another, 4, years, of, decline:]                            |[laura, ingraham, reminds, never, trump, people, better, vote, trump, another, 4, years, decline:]                                                 |(262144,[7612,17004,49918,63001,74473,114686,115917,139427,149184,193347,233878,245806],[2.0,1.0,1.0,1.0,1.0,1.0,1.0,1.0,1.0,1.0,1.0,1.0])                                                     |(262144,[7612,17004,49918,63001,74473,114686,115917,139427,149184,193347,233878,245806],[1.5296498654030792,5.62591215949622,2.122904861899262,7.692774918969196,1.768385440650782,0.9397454851902144,2.5714931047858767,5.385202284464111,6.904317558604926,1.7904148469440349,3.6890847250152263,2.0239290141938913])                                                                                                                        |(262145,[7612,17004,49918,63001,74473,114686,115917,139427,149184,193347,233878,245806,262144],[1.5296498654030792,5.62591215949622,2.122904861899262,7.692774918969196,1.768385440650782,0.9397454851902144,2.5714931047858767,5.385202284464111,6.904317558604926,1.7904148469440349,3.6890847250152263,2.0239290141938913,118.0])                                                                                                                        |[-511.59401401584455,-533.4675014327614] |[0.9999999996834334,3.165666166853244E-10] |0.0       |\n",
            "|Fake    |Lefty Bernie Supporters chant  HRC has got to go!  in the streets of Philadelphia during the DNC Convention:                                  |109   |0.0  |[lefty, bernie, supporters, chant, , hrc, has, got, to, go!, , in, the, streets, of, philadelphia, during, the, dnc, convention:]                                       |[lefty, bernie, supporters, chant, , hrc, got, go!, , streets, philadelphia, dnc, convention:]                                                     |(262144,[3908,12312,30675,31463,73290,84904,95899,110293,138799,174901,210559,249180],[1.0,1.0,1.0,1.0,1.0,1.0,1.0,1.0,1.0,1.0,1.0,2.0])                                                       |(262144,[3908,12312,30675,31463,73290,84904,95899,110293,138799,174901,210559,249180],[3.374620360889725,8.385922099529141,5.036018012254536,2.2882973565927687,6.545372466131655,6.281787945258934,6.5613728074780955,6.006375965398967,2.607032152386135,4.081857006324972,4.27833231055702,0.2895446135759511])                                                                                                                             |(262145,[3908,12312,30675,31463,73290,84904,95899,110293,138799,174901,210559,249180,262144],[3.374620360889725,8.385922099529141,5.036018012254536,2.2882973565927687,6.545372466131655,6.281787945258934,6.5613728074780955,6.006375965398967,2.607032152386135,4.081857006324972,4.27833231055702,0.2895446135759511,109.0])                                                                                                                             |[-685.1377637082555,-763.5035503398833]  |[1.0,9.250629684096896E-35]                |0.0       |\n",
            "|Fake    |Les Deplorables Unite #ElectionNight #MAGA3X pic.twitter.com/LE79zCDQeN  ??VOTE TRUMP?? (@ThePatriot143) November 9, 2016                     |121   |0.0  |[les, deplorables, unite, #electionnight, #maga3x, pic.twitter.com/le79zcdqen, , ??vote, trump??, (@thepatriot143), november, 9,, 2016]                                 |[les, deplorables, unite, #electionnight, #maga3x, pic.twitter.com/le79zcdqen, , ??vote, trump??, (@thepatriot143), november, 9,, 2016]            |(262144,[10668,33880,51282,51849,61825,62599,136064,144552,144575,169800,249180,253347,256387],[1.0,1.0,1.0,1.0,1.0,1.0,1.0,1.0,1.0,1.0,1.0,1.0,1.0])                                          |(262144,[10668,33880,51282,51849,61825,62599,136064,144552,144575,169800,249180,253347,256387],[7.1919996310567065,4.865461297040168,9.589894903855077,8.491282615186968,3.0431094930945535,9.302212831403297,8.04944986290793,9.589894903855077,4.588188240503123,2.2503572084474026,0.14477230678797556,9.99536001196324,6.4544006879259275])                                                                                                |(262145,[10668,33880,51282,51849,61825,62599,136064,144552,144575,169800,249180,253347,256387,262144],[7.1919996310567065,4.865461297040168,9.589894903855077,8.491282615186968,3.0431094930945535,9.302212831403297,8.04944986290793,9.589894903855077,4.588188240503123,2.2503572084474026,0.14477230678797556,9.99536001196324,6.4544006879259275,121.0])                                                                                                |[-1218.0678027243332,-1352.6642113348576]|[1.0,3.5117408251980046E-59]               |0.0       |\n",
            "|Fake    |Matt Schlapp, the leader of the American Conservative Union, slammed Mitt Romney for his continued attacks on GOP nominee Donald Trump.       |136   |0.0  |[matt, schlapp,, the, leader, of, the, american, conservative, union,, slammed, mitt, romney, for, his, continued, attacks, on, gop, nominee, donald, trump.]           |[matt, schlapp,, leader, american, conservative, union,, slammed, mitt, romney, continued, attacks, gop, nominee, donald, trump.]                  |(262144,[37142,40713,79654,84411,96524,118530,131959,138836,156800,168919,170380,185491,200663,223614,232717],[1.0,1.0,1.0,1.0,1.0,1.0,1.0,1.0,1.0,1.0,1.0,1.0,1.0,1.0,1.0])                   |(262144,[37142,40713,79654,84411,96524,118530,131959,138836,156800,168919,170380,185491,200663,223614,232717],[7.980456991420977,4.263638168617799,4.6846201254166475,2.887115872231701,4.694545765216618,2.1230954288364754,2.5499424552615544,1.6700539822106597,3.237265507535511,4.473899094100995,0.8774639303783388,2.773524186674793,4.492063064728666,2.439193446262551,2.6587486720823645])                                           |(262145,[37142,40713,79654,84411,96524,118530,131959,138836,156800,168919,170380,185491,200663,223614,232717,262144],[7.980456991420977,4.263638168617799,4.6846201254166475,2.887115872231701,4.694545765216618,2.1230954288364754,2.5499424552615544,1.6700539822106597,3.237265507535511,4.473899094100995,0.8774639303783388,2.773524186674793,4.492063064728666,2.439193446262551,2.6587486720823645,136.0])                                           |[-611.2524193224867,-614.8083112798936]  |[0.9722369069973796,0.02776309300262043]   |0.0       |\n",
            "|Fake    |Notify the CDC. It's spreading. #BenCarson #MorningJoe #TrumpFlu https://t.co/OUseiA7GVs  BCP (@b_c_p_source) October 14, 2016                |126   |0.0  |[notify, the, cdc., it's, spreading., #bencarson, #morningjoe, #trumpflu, https://t.co/ouseia7gvs, , bcp, (@b_c_p_source), october, 14,, 2016]                          |[notify, cdc., spreading., #bencarson, #morningjoe, #trumpflu, https://t.co/ouseia7gvs, , bcp, (@b_c_p_source), october, 14,, 2016]                |(262144,[12236,20400,29833,61132,98429,120011,169800,197705,198580,224879,229087,245773,249180],[1.0,1.0,1.0,1.0,1.0,1.0,1.0,1.0,1.0,1.0,1.0,1.0,1.0])                                         |(262144,[12236,20400,29833,61132,98429,120011,169800,197705,198580,224879,229087,245773,249180],[7.980456991420977,7.744068213356747,3.2165751142780645,6.134630300922646,8.203600542735186,6.113796214019804,2.2503572084474026,9.302212831403297,9.589894903855077,4.709621427622065,9.302212831403297,7.980456991420977,0.14477230678797556])                                                                                               |(262145,[12236,20400,29833,61132,98429,120011,169800,197705,198580,224879,229087,245773,249180,262144],[7.980456991420977,7.744068213356747,3.2165751142780645,6.134630300922646,8.203600542735186,6.113796214019804,2.2503572084474026,9.302212831403297,9.589894903855077,4.709621427622065,9.302212831403297,7.980456991420977,0.14477230678797556,126.0])                                                                                               |[-1189.7774569411388,-1225.0574985411138]|[0.9999999999999996,4.76510650286453E-16]  |0.0       |\n",
            "|Fake    |OUR INEPT GOVERNMENT DIDN T INSTALL PROTECTIONS FOR MILLIONS OF PEOPLE WHO NOW HAVE ALL OF THEIR PERSONAL INFO EXPOSED TO THE WORLD:          |133   |0.0  |[our, inept, government, didn, t, install, protections, for, millions, of, people, who, now, have, all, of, their, personal, info, exposed, to, the, world:]            |[inept, government, didn, install, protections, millions, people, personal, info, exposed, world:]                                                 |(262144,[22490,30270,56858,58524,77461,114686,115587,165789,180708,238047,252637],[1.0,1.0,1.0,1.0,1.0,1.0,1.0,1.0,1.0,1.0,1.0])                                                               |(262144,[22490,30270,56858,58524,77461,114686,115587,165789,180708,238047,252637],[4.604007779448016,6.73726347394176,1.3697609467032177,4.2734102333515915,5.529451893308658,0.9397454851902144,3.0078697649622512,2.345905511838994,5.322531177501335,2.8805905635967783,5.732680134921926])                                                                                                                                                 |(262145,[22490,30270,56858,58524,77461,114686,115587,165789,180708,238047,252637,262144],[4.604007779448016,6.73726347394176,1.3697609467032177,4.2734102333515915,5.529451893308658,0.9397454851902144,3.0078697649622512,2.345905511838994,5.322531177501335,2.8805905635967783,5.732680134921926,133.0])                                                                                                                                                 |[-515.040404848513,-561.5157189891293]   |[1.0,6.546776638500542E-21]                |0.0       |\n",
            "|Fake    |Obama is off his rocker! He went on a rant about Donald Trump and now he s scolding owners of SUV s!                                          |101   |0.0  |[obama, is, off, his, rocker!, he, went, on, a, rant, about, donald, trump, and, now, he, s, scolding, owners, of, suv, s!]                                             |[obama, rocker!, went, rant, donald, trump, scolding, owners, suv, s!]                                                                             |(262144,[7612,14144,84807,105175,140488,146139,170380,200802,229229,240976],[1.0,1.0,1.0,1.0,1.0,1.0,1.0,1.0,1.0,1.0])                                                                         |(262144,[7612,14144,84807,105175,140488,146139,170380,200802,229229,240976],[0.7648249327015396,9.589894903855077,4.82487601692509,8.609065650843352,1.6872842001281219,2.2844826992125875,0.8774639303783388,6.79668689441256,7.1919996310567065,4.471901091438323])                                                                                                                                                                          |(262145,[7612,14144,84807,105175,140488,146139,170380,200802,229229,240976,262144],[0.7648249327015396,9.589894903855077,4.82487601692509,8.609065650843352,1.6872842001281219,2.2844826992125875,0.8774639303783388,6.79668689441256,7.1919996310567065,4.471901091438323,101.0])                                                                                                                                                                          |[-658.365681897924,-716.2504311444133]   |[1.0,7.260605091904122E-26]                |0.0       |\n",
            "|Fake    |Pastor Mark Burns is such a fantastic speaker! He gave a great speech tonight but the three words he spoke will drive BLM crazy!              |129   |0.0  |[pastor, mark, burns, is, such, a, fantastic, speaker!, he, gave, a, great, speech, tonight, but, the, three, words, he, spoke, will, drive, blm, crazy!]               |[pastor, mark, burns, fantastic, speaker!, gave, great, speech, tonight, three, words, spoke, drive, blm, crazy!]                                  |(262144,[51840,60349,63729,79342,93917,126889,129757,138356,153032,159292,163436,233439,233502,238143,246545],[1.0,1.0,1.0,1.0,1.0,1.0,1.0,1.0,1.0,1.0,1.0,1.0,1.0,1.0,1.0])                   |(262144,[51840,60349,63729,79342,93917,126889,129757,138356,153032,159292,163436,233439,233502,238143,246545],[2.6352560389740898,6.681174007290716,2.9250608037958243,5.163054253391403,4.430839604640548,3.255431843624607,8.12355783506165,2.4318998478970295,1.964950449832757,3.1139487083207067,4.8051848040349086,3.8794678864802075,2.697253262682988,5.926333257725431,5.978976991210853])                                            |(262145,[51840,60349,63729,79342,93917,126889,129757,138356,153032,159292,163436,233439,233502,238143,246545,262144],[2.6352560389740898,6.681174007290716,2.9250608037958243,5.163054253391403,4.430839604640548,3.255431843624607,8.12355783506165,2.4318998478970295,1.964950449832757,3.1139487083207067,4.8051848040349086,3.8794678864802075,2.697253262682988,5.926333257725431,5.978976991210853,129.0])                                            |[-753.670618541502,-844.2621102366795]   |[1.0,4.535394294652959E-40]                |0.0       |\n",
            "|Fake    |Prison Planet s Paul Joseph Watson does a masterful job of laying out Hillary Clinton s history with Muslims NOT GOOD!                        |119   |0.0  |[prison, planet, s, paul, joseph, watson, does, a, masterful, job, of, laying, out, hillary, clinton, s, history, with, muslims, not, good!]                            |[prison, planet, paul, joseph, watson, masterful, job, laying, hillary, clinton, history, muslims, good!]                                          |(262144,[36974,45549,79024,84017,137450,149413,157271,175861,195430,205157,208243,238841,244282],[1.0,1.0,1.0,1.0,1.0,1.0,1.0,1.0,1.0,1.0,1.0,1.0,1.0])                                        |(262144,[36974,45549,79024,84017,137450,149413,157271,175861,195430,205157,208243,238841,244282],[1.9683731571102592,3.269726309772393,1.811404294658288,7.254519988038041,4.384058390101206,2.910295718010694,7.692774918969196,2.93875378624875,2.8058149862341613,5.039532954361981,5.3366490590471205,3.755084166792472,5.658069271130752])                                                                                                |(262145,[36974,45549,79024,84017,137450,149413,157271,175861,195430,205157,208243,238841,244282,262144],[1.9683731571102592,3.269726309772393,1.811404294658288,7.254519988038041,4.384058390101206,2.910295718010694,7.692774918969196,2.93875378624875,2.8058149862341613,5.039532954361981,5.3366490590471205,3.755084166792472,5.658069271130752,119.0])                                                                                                |[-650.2293921180461,-693.182142968542]   |[1.0,2.217467804771078E-19]                |0.0       |\n",
            "|Fake    |Protester with  Rape  sign is tackled at #Clinton rally in #Las Vegas pic.twitter.com/sJvGvFnpgt  John Treanor (@NewsTreanor) October 13, 2016|142   |0.0  |[protester, with, , rape, , sign, is, tackled, at, #clinton, rally, in, #las, vegas, pic.twitter.com/sjvgvfnpgt, , john, treanor, (@newstreanor), october, 13,, 2016]   |[protester, , rape, , sign, tackled, #clinton, rally, #las, vegas, pic.twitter.com/sjvgvfnpgt, , john, treanor, (@newstreanor), october, 13,, 2016]|(262144,[11069,28881,29833,52023,73336,94006,123807,133913,142156,161258,169800,174611,218990,249180,251861,260452],[1.0,1.0,1.0,1.0,1.0,1.0,1.0,1.0,1.0,1.0,1.0,1.0,1.0,3.0,1.0,1.0])         |(262144,[11069,28881,29833,52023,73336,94006,123807,133913,142156,161258,169800,174611,218990,249180,251861,260452],[9.079069280089087,6.4838145731322205,3.2165751142780645,9.079069280089087,9.302212831403297,5.313228784839022,9.589894903855077,5.143329748043625,3.213735010125317,4.157629564797301,2.2503572084474026,4.421306643981825,8.491282615186968,0.43431692036392666,2.3513980629607123,3.118579537280535])                   |(262145,[11069,28881,29833,52023,73336,94006,123807,133913,142156,161258,169800,174611,218990,249180,251861,260452,262144],[9.079069280089087,6.4838145731322205,3.2165751142780645,9.079069280089087,9.302212831403297,5.313228784839022,9.589894903855077,5.143329748043625,3.213735010125317,4.157629564797301,2.2503572084474026,4.421306643981825,8.491282615186968,0.43431692036392666,2.3513980629607123,3.118579537280535,142.0])                   |[-1176.820432181605,-1245.7943954322782] |[1.0,1.1091451008265181E-30]               |0.0       |\n",
            "|Fake    |Steven Crowder knocks it out of the park with his brilliant imitation of Bob Ross painting a very sick Hillary                                |111   |0.0  |[steven, crowder, knocks, it, out, of, the, park, with, his, brilliant, imitation, of, bob, ross, painting, a, very, sick, hillary]                                     |[steven, crowder, knocks, park, brilliant, imitation, bob, ross, painting, sick, hillary]                                                          |(262144,[5090,9991,57226,71826,79024,84837,128427,159955,193296,198613,261677],[1.0,1.0,1.0,1.0,1.0,1.0,1.0,1.0,1.0,1.0,1.0])                                                                  |(262144,[5090,9991,57226,71826,79024,84837,128427,159955,193296,198613,261677],[4.750970987440761,4.419410908816926,5.105010883741488,4.459996188932004,1.811404294658288,4.991413706017783,7.643984754799764,7.22277128972346,7.744068213356747,4.182723132394958,4.19930226119787])                                                                                                                                                          |(262145,[5090,9991,57226,71826,79024,84837,128427,159955,193296,198613,261677,262144],[4.750970987440761,4.419410908816926,5.105010883741488,4.459996188932004,1.811404294658288,4.991413706017783,7.643984754799764,7.22277128972346,7.744068213356747,4.182723132394958,4.19930226119787,111.0])                                                                                                                                                          |[-691.1972655803032,-764.256550501962]   |[1.0,1.8653301361837465E-32]               |0.0       |\n",
            "|Fake    |THE COMPLETE LIST IS AT THE LINK ABOVE BUT THESE ARE THE BIGGEST OFFENDERS AS YOU CAN SEE BY THE NUMBERS:                                     |106   |0.0  |[the, complete, list, is, at, the, link, above, but, these, are, the, biggest, offenders, as, you, can, see, by, the, numbers:]                                         |[complete, list, link, biggest, offenders, see, numbers:]                                                                                          |(262144,[14376,19635,68106,70271,154336,201453,215995],[1.0,1.0,1.0,1.0,1.0,1.0,1.0])                                                                                                          |(262144,[14376,19635,68106,70271,154336,201453,215995],[3.14100550970822,2.9517635100696915,4.3605704087939925,6.083337006535095,3.3126250443081746,7.077589279878962,1.848216523434214])                                                                                                                                                                                                                                                      |(262145,[14376,19635,68106,70271,154336,201453,215995,262144],[3.14100550970822,2.9517635100696915,4.3605704087939925,6.083337006535095,3.3126250443081746,7.077589279878962,1.848216523434214,106.0])                                                                                                                                                                                                                                                      |[-358.84143587415093,-369.8917980817665] |[0.9999841188563883,1.5881143611745494E-5] |0.0       |\n",
            "|Fake    |THIS IS A WARNING FROM REAGAN: Those Voices Don t Speak for the Rest of Us It rings truer than ever                                           |101   |0.0  |[this, is, a, warning, from, reagan:, those, voices, don, t, speak, for, the, rest, of, us, it, rings, truer, than, ever]                                               |[warning, reagan:, voices, speak, rest, us, rings, truer, ever]                                                                                    |(262144,[3924,21872,23178,120175,172500,203802,223600,231888,254165],[1.0,1.0,1.0,1.0,1.0,1.0,1.0,1.0,1.0])                                                                                    |(262144,[3924,21872,23178,120175,172500,203802,223600,231888,254165],[3.295859671801564,1.8328437618230635,3.7300587992255316,3.1957468916008076,8.04944986290793,2.477567459144166,4.384058390101206,8.203600542735186,6.79668689441256])                                                                                                                                                                                                     |(262145,[3924,21872,23178,120175,172500,203802,223600,231888,254165,262144],[3.295859671801564,1.8328437618230635,3.7300587992255316,3.1957468916008076,8.04944986290793,2.477567459144166,4.384058390101206,8.203600542735186,6.79668689441256,101.0])                                                                                                                                                                                                     |[-531.7572840558474,-589.905795817055]   |[1.0,5.577276956403323E-26]                |0.0       |\n",
            "|Fake    |THIS IS YET ANOTHER EXAMPLE OF THE LACK OF DECORUM WITH THIS WOMAN AND WITH OTHERS LIKE MAXINE WATERS:                                        |102   |0.0  |[this, is, yet, another, example, of, the, lack, of, decorum, with, this, woman, and, with, others, like, maxine, waters:]                                              |[yet, another, example, lack, decorum, woman, others, like, maxine, waters:]                                                                       |(262144,[13471,118651,130631,153969,168436,170921,193347,208258,212886,224309],[1.0,1.0,1.0,1.0,1.0,1.0,1.0,1.0,1.0,1.0])                                                                      |(262144,[13471,118651,130631,153969,168436,170921,193347,208258,212886,224309],[2.849375544248854,3.590958341908394,2.6079602266986885,3.362041578682865,2.4497060266516377,8.290611919724817,1.7904148469440349,1.2394649303169418,5.739747302145019,7.430410654501705])                                                                                                                                                                      |(262145,[13471,118651,130631,153969,168436,170921,193347,208258,212886,224309,262144],[2.849375544248854,3.590958341908394,2.6079602266986885,3.362041578682865,2.4497060266516377,8.290611919724817,1.7904148469440349,1.2394649303169418,5.739747302145019,7.430410654501705,102.0])                                                                                                                                                                      |[-476.18652007675456,-524.4435571611812] |[1.0,1.10213572816265E-21]                 |0.0       |\n",
            "|Fake    |THIS MAN IS A GREAT PATRIOT! Retired General  Ace  Lyons rips into the Obama regime like no other and it s honestly pretty frightening.       |136   |0.0  |[this, man, is, a, great, patriot!, retired, general, , ace, , lyons, rips, into, the, obama, regime, like, no, other, and, it, s, honestly, pretty, frightening.]      |[man, great, patriot!, retired, general, , ace, , lyons, rips, obama, regime, like, honestly, pretty, frightening.]                                |(262144,[12021,24918,28497,46075,46316,60095,68369,138356,140488,160195,168048,175449,208258,223391,249180],[1.0,1.0,1.0,1.0,1.0,1.0,1.0,1.0,1.0,1.0,1.0,1.0,1.0,1.0,2.0])                     |(262144,[12021,24918,28497,46075,46316,60095,68369,138356,140488,160195,168048,175449,208258,223391,249180],[6.838359590813129,2.3098866509708893,5.39018982597515,3.989006852361509,7.855293848466971,7.077589279878962,2.150727367498561,2.4318998478970295,1.6872842001281219,7.1919996310567065,3.9853190792823243,3.0541699568948673,1.2394649303169418,8.491282615186968,0.2895446135759511])                                            |(262145,[12021,24918,28497,46075,46316,60095,68369,138356,140488,160195,168048,175449,208258,223391,249180,262144],[6.838359590813129,2.3098866509708893,5.39018982597515,3.989006852361509,7.855293848466971,7.077589279878962,2.150727367498561,2.4318998478970295,1.6872842001281219,7.1919996310567065,3.9853190792823243,3.0541699568948673,1.2394649303169418,8.491282615186968,0.2895446135759511,136.0])                                            |[-804.256251662785,-920.0345472723448]   |[1.0,5.225466797718038E-51]                |0.0       |\n",
            "|Fake    |Tavis Smiley was on Megyn Kelly and was asked if the black community is better off after 7 years of Obama:                                    |107   |0.0  |[tavis, smiley, was, on, megyn, kelly, and, was, asked, if, the, black, community, is, better, off, after, 7, years, of, obama:]                                        |[tavis, smiley, megyn, kelly, asked, black, community, better, 7, years, obama:]                                                                   |(262144,[74473,77099,78958,90757,115917,155173,156879,206116,229334,246553,251358],[1.0,1.0,1.0,1.0,1.0,1.0,1.0,1.0,1.0,1.0,1.0])                                                              |(262144,[74473,77099,78958,90757,115917,155173,156879,206116,229334,246553,251358],[1.768385440650782,4.034354672339968,5.159078105011764,2.603020420420341,2.5714931047858767,8.385922099529141,8.385922099529141,1.8903544744159952,4.217707688740585,6.425827315481872,2.8541148896127506])                                                                                                                                                 |(262145,[74473,77099,78958,90757,115917,155173,156879,206116,229334,246553,251358,262144],[1.768385440650782,4.034354672339968,5.159078105011764,2.603020420420341,2.5714931047858767,8.385922099529141,8.385922099529141,1.8903544744159952,4.217707688740585,6.425827315481872,2.8541148896127506,107.0])                                                                                                                                                 |[-597.3165535463372,-653.3958355809486]  |[1.0,4.416490120462495E-25]                |0.0       |\n",
            "|Fake    |The 12 funniest halloween memes in no particular order (although #12 is our personal favorite).#1#2#3#4#5#6#7#8#9#10#11#12                    |122   |0.0  |[the, 12, funniest, halloween, memes, in, no, particular, order, (although, #12, is, our, personal, favorite).#1#2#3#4#5#6#7#8#9#10#11#12]                              |[12, funniest, halloween, memes, particular, order, (although, #12, personal, favorite).#1#2#3#4#5#6#7#8#9#10#11#12]                               |(262144,[5334,96846,112478,115587,184403,198790,204837,207110,225253,259362],[1.0,1.0,1.0,1.0,1.0,1.0,1.0,1.0,1.0,1.0])                                                                        |(262144,[5334,96846,112478,115587,184403,198790,204837,207110,225253,259362],[6.645455924688637,9.302212831403297,8.896747723295132,3.0078697649622512,6.8173061816152964,2.3425769305441704,3.8267958520424568,7.0509210327968015,6.838359590813129,3.4769504592093856])                                                                                                                                                                      |(262145,[5334,96846,112478,115587,184403,198790,204837,207110,225253,259362,262144],[6.645455924688637,9.302212831403297,8.896747723295132,3.0078697649622512,6.8173061816152964,2.3425769305441704,3.8267958520424568,7.0509210327968015,6.838359590813129,3.4769504592093856,122.0])                                                                                                                                                                      |[-778.8365016879649,-892.4242791991215]  |[1.0,4.671485608507534E-50]                |0.0       |\n",
            "|Fake    |The goal of socialism is communism.  -Vladimir Lenin, CommunistFor Bernie Sanders, Socialism is just a good place to start                    |124   |0.0  |[the, goal, of, socialism, is, communism., , -vladimir, lenin,, communistfor, bernie, sanders,, socialism, is, just, a, good, place, to, start]                         |[goal, socialism, communism., , -vladimir, lenin,, communistfor, bernie, sanders,, socialism, good, place, start]                                  |(262144,[3908,14102,29391,53160,61231,68657,105990,113432,164722,195295,212740,249180],[1.0,2.0,1.0,1.0,1.0,1.0,1.0,1.0,1.0,1.0,1.0,1.0])                                                      |(262144,[3908,14102,29391,53160,61231,68657,105990,113432,164722,195295,212740,249180],[3.374620360889725,11.409801141629702,8.609065650843352,7.356302682347983,2.3989677078990455,3.6051193448978918,9.302212831403297,2.1353678743334803,8.609065650843352,4.35878628700049,2.7871298387305714,0.14477230678797556])                                                                                                                        |(262145,[3908,14102,29391,53160,61231,68657,105990,113432,164722,195295,212740,249180,262144],[3.374620360889725,11.409801141629702,8.609065650843352,7.356302682347983,2.3989677078990455,3.6051193448978918,9.302212831403297,2.1353678743334803,8.609065650843352,4.35878628700049,2.7871298387305714,0.14477230678797556,124.0])                                                                                                                        |[-885.045443916169,-934.2524935782067]   |[1.0,4.262357384343418E-22]                |0.0       |\n",
            "+--------+----------------------------------------------------------------------------------------------------------------------------------------------+------+-----+------------------------------------------------------------------------------------------------------------------------------------------------------------------------+---------------------------------------------------------------------------------------------------------------------------------------------------+-----------------------------------------------------------------------------------------------------------------------------------------------------------------------------------------------+-----------------------------------------------------------------------------------------------------------------------------------------------------------------------------------------------------------------------------------------------------------------------------------------------------------------------------------------------------------------------------------------------------------------------------------------------+------------------------------------------------------------------------------------------------------------------------------------------------------------------------------------------------------------------------------------------------------------------------------------------------------------------------------------------------------------------------------------------------------------------------------------------------------------+-----------------------------------------+-------------------------------------------+----------+\n",
            "only showing top 50 rows\n",
            "\n"
          ],
          "name": "stdout"
        }
      ]
    },
    {
      "cell_type": "code",
      "metadata": {
        "id": "FXHzYdQP2n_v",
        "colab_type": "code",
        "colab": {
          "base_uri": "https://localhost:8080/",
          "height": 34
        },
        "outputId": "e9812853-0a7c-4ff6-b0ce-eef9ea5f8180"
      },
      "source": [
        " # Use the Class Evaluator for a cleaner description\n",
        "from pyspark.ml.evaluation import MulticlassClassificationEvaluator\n",
        "\n",
        "acc_eval = MulticlassClassificationEvaluator()\n",
        "acc = acc_eval.evaluate(test_results)\n",
        "print(\"Accuracy of model at predicting articles' truthfullness was: %f\" % acc)"
      ],
      "execution_count": 30,
      "outputs": [
        {
          "output_type": "stream",
          "text": [
            "Accuracy of model at predicting articles' truthfullness was: 0.984125\n"
          ],
          "name": "stdout"
        }
      ]
    }
  ]
}